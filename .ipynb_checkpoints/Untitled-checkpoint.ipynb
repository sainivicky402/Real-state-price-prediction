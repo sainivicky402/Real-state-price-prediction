{
 "cells": [
  {
   "cell_type": "code",
   "execution_count": 1,
   "id": "778ceab4",
   "metadata": {},
   "outputs": [
    {
     "name": "stdout",
     "output_type": "stream",
     "text": [
      "enter the length:5\n",
      "enter the bredth:5\n",
      "area of retangle:  25\n"
     ]
    }
   ],
   "source": [
    "l = eval(input('enter the length:'))\n",
    "b = eval(input('enter the bredth:'))\n",
    "area = l*b\n",
    "print(\"area of retangle: \",area)"
   ]
  },
  {
   "cell_type": "code",
   "execution_count": 2,
   "id": "b26d0061",
   "metadata": {},
   "outputs": [
    {
     "name": "stdout",
     "output_type": "stream",
     "text": [
      "hello, my name is vicky\n"
     ]
    }
   ],
   "source": [
    "print('hello, my name is vicky')"
   ]
  },
  {
   "cell_type": "code",
   "execution_count": 3,
   "id": "c71bca4f",
   "metadata": {},
   "outputs": [
    {
     "name": "stdout",
     "output_type": "stream",
     "text": [
      "5\n"
     ]
    }
   ],
   "source": [
    "x=5\n",
    "print(x)"
   ]
  },
  {
   "cell_type": "code",
   "execution_count": 4,
   "id": "55f857a6",
   "metadata": {},
   "outputs": [
    {
     "name": "stdout",
     "output_type": "stream",
     "text": [
      "7\n"
     ]
    }
   ],
   "source": [
    "y = 7\n",
    "print(y)"
   ]
  },
  {
   "cell_type": "code",
   "execution_count": null,
   "id": "d3657029",
   "metadata": {},
   "outputs": [],
   "source": []
  },
  {
   "cell_type": "code",
   "execution_count": 5,
   "id": "8ed6d622",
   "metadata": {},
   "outputs": [
    {
     "name": "stdout",
     "output_type": "stream",
     "text": [
      "vicky is my name\n"
     ]
    }
   ],
   "source": [
    "print(\"vicky is my name\")"
   ]
  },
  {
   "cell_type": "code",
   "execution_count": 6,
   "id": "9b54b8a9",
   "metadata": {},
   "outputs": [
    {
     "name": "stdout",
     "output_type": "stream",
     "text": [
      "7\n"
     ]
    }
   ],
   "source": [
    "x=7\n",
    "print(x)"
   ]
  },
  {
   "cell_type": "code",
   "execution_count": 7,
   "id": "c338340f",
   "metadata": {},
   "outputs": [
    {
     "name": "stdout",
     "output_type": "stream",
     "text": [
      "how are you\n"
     ]
    }
   ],
   "source": [
    "y=\"how are you\"\n",
    "print(y)"
   ]
  },
  {
   "cell_type": "code",
   "execution_count": 8,
   "id": "0076d48a",
   "metadata": {},
   "outputs": [
    {
     "name": "stdout",
     "output_type": "stream",
     "text": [
      "5.23\n"
     ]
    }
   ],
   "source": [
    "z=5.23\n",
    "print(z)"
   ]
  },
  {
   "cell_type": "code",
   "execution_count": 9,
   "id": "6f840b9f",
   "metadata": {},
   "outputs": [
    {
     "name": "stdout",
     "output_type": "stream",
     "text": [
      "12.23\n"
     ]
    }
   ],
   "source": [
    "print(x+z)"
   ]
  },
  {
   "cell_type": "code",
   "execution_count": 10,
   "id": "096f35e9",
   "metadata": {},
   "outputs": [],
   "source": [
    "#below is the addition example"
   ]
  },
  {
   "cell_type": "code",
   "execution_count": 11,
   "id": "6681219e",
   "metadata": {},
   "outputs": [
    {
     "name": "stdout",
     "output_type": "stream",
     "text": [
      "24\n"
     ]
    }
   ],
   "source": [
    "x = 7\n",
    "y = 8\n",
    "z = 9\n",
    "print(x+y+z)"
   ]
  },
  {
   "cell_type": "code",
   "execution_count": 12,
   "id": "8dadcab3",
   "metadata": {},
   "outputs": [
    {
     "data": {
      "text/plain": [
       "1"
      ]
     },
     "execution_count": 12,
     "metadata": {},
     "output_type": "execute_result"
    }
   ],
   "source": [
    "#modulus\n",
    "25%2"
   ]
  },
  {
   "cell_type": "code",
   "execution_count": 13,
   "id": "5bbc0f22",
   "metadata": {},
   "outputs": [
    {
     "data": {
      "text/plain": [
       "3.5"
      ]
     },
     "execution_count": 13,
     "metadata": {},
     "output_type": "execute_result"
    }
   ],
   "source": [
    "#somple divison\n",
    "7/2"
   ]
  },
  {
   "cell_type": "code",
   "execution_count": 14,
   "id": "e3675c67",
   "metadata": {},
   "outputs": [
    {
     "data": {
      "text/plain": [
       "3"
      ]
     },
     "execution_count": 14,
     "metadata": {},
     "output_type": "execute_result"
    }
   ],
   "source": [
    "#floor divison\n",
    "7//2"
   ]
  },
  {
   "cell_type": "code",
   "execution_count": 15,
   "id": "0edbdff1",
   "metadata": {},
   "outputs": [
    {
     "data": {
      "text/plain": [
       "100"
      ]
     },
     "execution_count": 15,
     "metadata": {},
     "output_type": "execute_result"
    }
   ],
   "source": [
    "10**2"
   ]
  },
  {
   "cell_type": "code",
   "execution_count": 16,
   "id": "4bbf2c30",
   "metadata": {},
   "outputs": [
    {
     "data": {
      "text/plain": [
       "100000000000000000000000000000000000000000000000000000000000000000000000000000000000000000000000000000000000000000000000000000000000000000000000000000000000000000000000000000000000000000000000000000000"
      ]
     },
     "execution_count": 16,
     "metadata": {},
     "output_type": "execute_result"
    }
   ],
   "source": [
    "100**100"
   ]
  },
  {
   "cell_type": "code",
   "execution_count": 17,
   "id": "8ed962fe",
   "metadata": {},
   "outputs": [
    {
     "data": {
      "text/plain": [
       "3125"
      ]
     },
     "execution_count": 17,
     "metadata": {},
     "output_type": "execute_result"
    }
   ],
   "source": [
    "5**5"
   ]
  },
  {
   "cell_type": "code",
   "execution_count": 18,
   "id": "61378890",
   "metadata": {},
   "outputs": [
    {
     "data": {
      "text/plain": [
       "823543"
      ]
     },
     "execution_count": 18,
     "metadata": {},
     "output_type": "execute_result"
    }
   ],
   "source": [
    "7**7"
   ]
  },
  {
   "cell_type": "code",
   "execution_count": 19,
   "id": "5baebc4d",
   "metadata": {},
   "outputs": [
    {
     "data": {
      "text/plain": [
       "'i am strong\\nlike the way you lie\\nyou are strong'"
      ]
     },
     "execution_count": 19,
     "metadata": {},
     "output_type": "execute_result"
    }
   ],
   "source": [
    "#triple string\n",
    "\"\"\"i am strong\n",
    "like the way you lie\n",
    "you are strong\"\"\""
   ]
  },
  {
   "cell_type": "code",
   "execution_count": null,
   "id": "ae8c61bd",
   "metadata": {},
   "outputs": [],
   "source": []
  },
  {
   "cell_type": "code",
   "execution_count": 24,
   "id": "0a32c1cb",
   "metadata": {},
   "outputs": [
    {
     "ename": "SyntaxError",
     "evalue": "invalid syntax (523495945.py, line 1)",
     "output_type": "error",
     "traceback": [
      "\u001b[1;36m  Cell \u001b[1;32mIn[24], line 1\u001b[1;36m\u001b[0m\n\u001b[1;33m    \"\"my name is vicky\u001b[0m\n\u001b[1;37m      ^\u001b[0m\n\u001b[1;31mSyntaxError\u001b[0m\u001b[1;31m:\u001b[0m invalid syntax\n"
     ]
    }
   ],
   "source": [
    "\"\"my name is vicky\n",
    "my father name is vicky\"\""
   ]
  },
  {
   "cell_type": "code",
   "execution_count": 25,
   "id": "5b00cbfd",
   "metadata": {},
   "outputs": [
    {
     "name": "stdout",
     "output_type": "stream",
     "text": [
      "hello bhai "
     ]
    }
   ],
   "source": [
    "#multiple string in good order in single line\n",
    "print('hello', end = ' ')\n",
    "print('bhai', end = ' ')"
   ]
  },
  {
   "cell_type": "code",
   "execution_count": 26,
   "id": "171683a0",
   "metadata": {},
   "outputs": [
    {
     "name": "stdout",
     "output_type": "stream",
     "text": [
      "1 2 3 4 5\n"
     ]
    }
   ],
   "source": [
    "print(\"1 2 3 4 5\")"
   ]
  },
  {
   "cell_type": "code",
   "execution_count": null,
   "id": "4e4f69ec",
   "metadata": {},
   "outputs": [],
   "source": [
    "str1 = input(\"write message: \")\n",
    "str2 = input('write second message: ') \n",
    "print(str1)\n",
    "print(str2)"
   ]
  },
  {
   "cell_type": "code",
   "execution_count": null,
   "id": "4abe6924",
   "metadata": {},
   "outputs": [],
   "source": [
    "str1 = input(\": \")\n",
    "str2 = input(': ') \n",
    "print(str1)\n",
    "print(str2)"
   ]
  },
  {
   "cell_type": "code",
   "execution_count": null,
   "id": "1577376e",
   "metadata": {},
   "outputs": [],
   "source": [
    "str1 = input(\"write message\")\n",
    "str2 = input('write second message: ') \n",
    "print(str1, end = \" \")\n",
    "print(str2)"
   ]
  },
  {
   "cell_type": "code",
   "execution_count": null,
   "id": "dd0cf57a",
   "metadata": {},
   "outputs": [],
   "source": [
    "num1 = int(input('write number 1'))\n",
    "num2 = int(input('write number 2'))\n",
    "print(num1+num2)"
   ]
  },
  {
   "cell_type": "markdown",
   "id": "c414304b",
   "metadata": {},
   "source": [
    "###python 2nd class"
   ]
  },
  {
   "cell_type": "code",
   "execution_count": null,
   "id": "f288c4b3",
   "metadata": {},
   "outputs": [],
   "source": [
    "#floating value coding (12.25)\n",
    "val1 = float(input(\"enter first number:\"))\n",
    "val2 = float(input(\"enter second number:\"))\n",
    "result = val1 + val2\n",
    "print(\"result\", result)"
   ]
  },
  {
   "cell_type": "code",
   "execution_count": null,
   "id": "5cfb020e",
   "metadata": {},
   "outputs": [],
   "source": [
    "#eval function with example of human details\n",
    "name = input(\"name of human:\")\n",
    "age = eval(input(\"age of human:\"))\n",
    "height = eval(input(\"height of human:\"))\n",
    "print(\"bio data of human:\")\n",
    "print(\"age of human:\",age)\n",
    "print(\"height of human:\", height)\n",
    "print(\"name of human:\", name)\n",
    "\n"
   ]
  },
  {
   "cell_type": "code",
   "execution_count": null,
   "id": "ee80e16c",
   "metadata": {},
   "outputs": [],
   "source": [
    "#area of circle pie*r\n",
    "pie = 3.1428\n",
    "r = eval(input(\"enter the value of r :\"))\n",
    "area = pie*r**2\n",
    "print(\"area of circle:\", area)"
   ]
  },
  {
   "cell_type": "code",
   "execution_count": null,
   "id": "1b0a1513",
   "metadata": {},
   "outputs": [],
   "source": [
    "#area of rectanle (L*B)\n",
    "l = eval(input(\"enter the value of length:\"))\n",
    "b = eval(input(\"eneter the value of bredth:\"))\n",
    "area = l * b\n",
    "print(\"area of rectangle:\",area)"
   ]
  },
  {
   "cell_type": "code",
   "execution_count": null,
   "id": "f10e6830",
   "metadata": {},
   "outputs": [],
   "source": [
    "#area of rectanle (L*B)\n",
    "l = eval(input(\"enter the value of length:\"))\n",
    "b = eval(input(\"eneter the value of bredth:\"))\n",
    "area = l * b\n",
    "print(\"area of rectangle:\",format(area, '.2f'))"
   ]
  },
  {
   "cell_type": "markdown",
   "id": "ed1cbd34",
   "metadata": {},
   "source": [
    "###live practise of 5th class"
   ]
  },
  {
   "cell_type": "code",
   "execution_count": null,
   "id": "9f2318e5",
   "metadata": {},
   "outputs": [],
   "source": [
    "sum = 1\n",
    "for i in range(11):\n",
    "    sum = sum + i\n",
    "print(\"addition of number from 2 to 10 is\",sum)"
   ]
  },
  {
   "cell_type": "code",
   "execution_count": null,
   "id": "acefc2c7",
   "metadata": {},
   "outputs": [],
   "source": [
    "numbers = [1, 2, 3, 4,]\n",
    "sum = 0\n",
    "for i in numbers:\n",
    "    sum = sum + i\n",
    "print(\"the sum is:\", sum)"
   ]
  },
  {
   "cell_type": "code",
   "execution_count": null,
   "id": "d220303c",
   "metadata": {},
   "outputs": [],
   "source": [
    "#pram to calculate the factorial of a number\n",
    "n = int(input(\"enter the number:\"))\n",
    "fact = 1\n",
    "for i in range(1,n+1):\n",
    "    fact = fact*i\n",
    "print(\"factorial number is :\", fact)\n"
   ]
  },
  {
   "cell_type": "code",
   "execution_count": null,
   "id": "396af3ac",
   "metadata": {},
   "outputs": [],
   "source": [
    "n = int(input(\"enter the tabl number of which user want to print:\"))\n",
    "for i in range(1,11):\n",
    "    print(n*i)"
   ]
  },
  {
   "cell_type": "code",
   "execution_count": null,
   "id": "d185c55c",
   "metadata": {},
   "outputs": [],
   "source": [
    "#display muiltile table form 1 to 5\n",
    "print(\"print table from 1 to 5:\")\n",
    "for i in range(1,11):\n",
    "    for j in range(1,6):\n",
    "        print(i*j, end = \"  \")\n",
    "    print()\n",
    "        \n",
    "    "
   ]
  },
  {
   "cell_type": "code",
   "execution_count": null,
   "id": "2b90534e",
   "metadata": {},
   "outputs": [],
   "source": [
    "n = 5;\n",
    "for i in range(1,n+1):\n",
    "    for j in range(1,i+1):\n",
    "        print(j ,end = \" \")\n",
    "    print()"
   ]
  },
  {
   "cell_type": "code",
   "execution_count": null,
   "id": "389d7111",
   "metadata": {},
   "outputs": [],
   "source": [
    "###python 2nd class"
   ]
  },
  {
   "cell_type": "code",
   "execution_count": null,
   "id": "4bb755ae",
   "metadata": {},
   "outputs": [],
   "source": [
    "#checking if the number is positive(here constrcut of condition is IF)\n",
    "#number is not given my user\n",
    "num = 5\n",
    "if num >=0:\n",
    "    print(num, \"print positive: \")\n",
    "print (\"outside the block\")\n"
   ]
  },
  {
   "cell_type": "code",
   "execution_count": null,
   "id": "ed90dd86",
   "metadata": {},
   "outputs": [],
   "source": [
    "#user given the value\n",
    "num = int(input(\" print the number is positive: \"))\n",
    "if num >=0:\n",
    "    print(num,\"number is positive:\")\n",
    "print(\"outside the IF block\")"
   ]
  },
  {
   "cell_type": "code",
   "execution_count": null,
   "id": "8fb2dfad",
   "metadata": {},
   "outputs": [],
   "source": [
    "#checking number is even\n",
    "num = 7\n",
    "if num %2== 0:\n",
    "    print (num, \"number is even:\")\n",
    "print(\"outside the IF block:\" )"
   ]
  },
  {
   "cell_type": "code",
   "execution_count": null,
   "id": "217fe8ce",
   "metadata": {},
   "outputs": [],
   "source": [
    "#checking number is even and value is given by user\n",
    "num = eval(input(\" number is even: \"))\n",
    "if num %2== 0:\n",
    "    print(num,\" number is even:\")\n",
    "print(\"outside the IF block:\")"
   ]
  },
  {
   "cell_type": "code",
   "execution_count": null,
   "id": "aac149eb",
   "metadata": {},
   "outputs": [],
   "source": [
    "#checking the number is positive or negative with the contions IF-ELSE\n",
    "num = eval(input(\" enter the number to be tested: \"))\n",
    "if num >=0:\n",
    "    print(num,\"number is positive:\")\n",
    "else:\n",
    "    print(num,\"number is negative:\")"
   ]
  },
  {
   "cell_type": "code",
   "execution_count": null,
   "id": "87c27fea",
   "metadata": {},
   "outputs": [],
   "source": [
    "#checking the number is positive or negative or zero\n",
    "num = eval(input(\" enter the number to be tested: \"))\n",
    "if num >=0:\n",
    "    if num ==0:\n",
    "        print(\"number zero: \")\n",
    "    else:\n",
    "        print(\"print positive:\")\n",
    "else:\n",
    "    print(\"negative:\")\n",
    "    "
   ]
  },
  {
   "cell_type": "markdown",
   "id": "a606bb48",
   "metadata": {},
   "source": [
    "\n",
    "###python 3rd class"
   ]
  },
  {
   "cell_type": "code",
   "execution_count": null,
   "id": "6ae6c197",
   "metadata": {},
   "outputs": [],
   "source": [
    "print(range(10))"
   ]
  },
  {
   "cell_type": "code",
   "execution_count": null,
   "id": "e69e5d37",
   "metadata": {},
   "outputs": [],
   "source": [
    "print(list(range(10)))"
   ]
  },
  {
   "cell_type": "code",
   "execution_count": null,
   "id": "0455fec4",
   "metadata": {},
   "outputs": [],
   "source": [
    "print(list(range(3,20)))"
   ]
  },
  {
   "cell_type": "code",
   "execution_count": null,
   "id": "17f01752",
   "metadata": {},
   "outputs": [],
   "source": [
    "print(list(range(2,15,3)))"
   ]
  },
  {
   "cell_type": "code",
   "execution_count": null,
   "id": "ea83c653",
   "metadata": {},
   "outputs": [],
   "source": [
    "for i in range(1,10):\n",
    "    print (i,end = \" \")"
   ]
  },
  {
   "cell_type": "code",
   "execution_count": null,
   "id": "b7ef0c8e",
   "metadata": {},
   "outputs": [],
   "source": [
    "name = ['vicky','shobha','urvashi']\n",
    "for i in range(len(name)):\n",
    "    print(name[i],)\n"
   ]
  },
  {
   "cell_type": "code",
   "execution_count": null,
   "id": "0e81ce0b",
   "metadata": {},
   "outputs": [],
   "source": [
    "number = [2, 4, 6, 8, 10]\n",
    "for i in range(len(number)):\n",
    "    print(number[i],)"
   ]
  },
  {
   "cell_type": "code",
   "execution_count": null,
   "id": "738fc4d5",
   "metadata": {},
   "outputs": [],
   "source": [
    "name = ['vicky','shobha','urvashi']\n",
    "for i in range(len(name)):\n",
    "    print(name[2],)\n",
    "        "
   ]
  },
  {
   "cell_type": "code",
   "execution_count": null,
   "id": "e297afd6",
   "metadata": {},
   "outputs": [],
   "source": [
    "#finding the sum of number 0 to 10\n",
    "sum = 0\n",
    "for i in range(11):\n",
    "    sum = sum + i\n",
    "print('addition of result from 0 to 10 is', sum)"
   ]
  },
  {
   "cell_type": "code",
   "execution_count": null,
   "id": "dcd53149",
   "metadata": {},
   "outputs": [],
   "source": [
    "#calculating sum of random number\n",
    "number = [1,5,6,8,2,4,9]\n",
    "for i in number:\n",
    "    sum = sum + i\n",
    "print(\"sum to total number:\", sum)"
   ]
  },
  {
   "cell_type": "code",
   "execution_count": null,
   "id": "ffb0f77e",
   "metadata": {},
   "outputs": [],
   "source": [
    "#calculation of fabonacci number with for loop statment from the user\n",
    "first_no = 0\n",
    "sec_no = 1\n",
    "limit =int(input('enter the number of fabonacci number to be printted: '))\n",
    "print(first_no)\n",
    "print(sec_no)\n",
    "for i in range(limit+1):\n",
    "    next_no = first_no + sec_no\n",
    "    first_no = sec_no\n",
    "    sec_no = next_no\n",
    "    print(next_no)\n",
    "\n",
    "    "
   ]
  },
  {
   "cell_type": "code",
   "execution_count": null,
   "id": "9d94acb5",
   "metadata": {},
   "outputs": [],
   "source": [
    "#printing math table according to the user given value\n",
    "n = int(input(\"enter the number of which table want to get printed:\"))\n",
    "for i in range(1,11):\n",
    "    print(n*i)"
   ]
  },
  {
   "cell_type": "code",
   "execution_count": null,
   "id": "339dc638",
   "metadata": {},
   "outputs": [],
   "source": [
    "#printing math multiple table a per user value\n",
    "print(\"printing multiple table 1 to 6:\")\n",
    "for i in range(1,11):\n",
    "    for j in range(1,7):\n",
    "        print(i*j, end = (\"  \"))\n",
    "    print()\n"
   ]
  },
  {
   "cell_type": "code",
   "execution_count": null,
   "id": "f6363c1a",
   "metadata": {},
   "outputs": [],
   "source": [
    "#printing star symbol in row and column in multiple fashsion\n",
    "n = 5\n",
    "for i in range (1,6):\n",
    "    for j in range(i): \n",
    "        print(\"*\", end = (\" \"))\n",
    "    print()"
   ]
  },
  {
   "cell_type": "code",
   "execution_count": null,
   "id": "f79e5aa3",
   "metadata": {},
   "outputs": [],
   "source": [
    "n = 5\n",
    "for i in range (1,6):\n",
    "    for j in range(1,i+1): \n",
    "        print(j, end = (\" \"))\n",
    "    print()"
   ]
  },
  {
   "cell_type": "code",
   "execution_count": null,
   "id": "da714ea1",
   "metadata": {},
   "outputs": [],
   "source": [
    "n = 5\n",
    "for i in range (1,6):\n",
    "    for j in range(i): \n",
    "        print(i, end = (\" \"))\n",
    "    print()"
   ]
  },
  {
   "cell_type": "markdown",
   "id": "ee481bf0",
   "metadata": {},
   "source": [
    "###while loop"
   ]
  },
  {
   "cell_type": "code",
   "execution_count": null,
   "id": "e81664d5",
   "metadata": {},
   "outputs": [],
   "source": [
    "#adding natural number till  10\n",
    "n = 10\n",
    "sum = 0\n",
    "i  = 1\n",
    "while i<=n:\n",
    "    sum = sum + i\n",
    "    i = i+1\n",
    "print('print sum:', sum)"
   ]
  },
  {
   "cell_type": "markdown",
   "id": "572d6465",
   "metadata": {},
   "source": [
    "###python 5th class\n"
   ]
  },
  {
   "cell_type": "code",
   "execution_count": null,
   "id": "1c9a09b4",
   "metadata": {},
   "outputs": [],
   "source": [
    "s1 = 'my name is vicky'\n",
    "s1"
   ]
  },
  {
   "cell_type": "code",
   "execution_count": null,
   "id": "7526daf8",
   "metadata": {},
   "outputs": [],
   "source": [
    "s1[-8]"
   ]
  },
  {
   "cell_type": "code",
   "execution_count": null,
   "id": "db3c1b73",
   "metadata": {},
   "outputs": [],
   "source": [
    "str1 = \"Python Is Full of Library\"\n",
    "str1"
   ]
  },
  {
   "cell_type": "code",
   "execution_count": null,
   "id": "3c40fd6e",
   "metadata": {},
   "outputs": [],
   "source": [
    "str1[0]"
   ]
  },
  {
   "cell_type": "code",
   "execution_count": null,
   "id": "498991fa",
   "metadata": {},
   "outputs": [],
   "source": [
    "str1[1:9]"
   ]
  },
  {
   "cell_type": "code",
   "execution_count": null,
   "id": "a91bcc4c",
   "metadata": {},
   "outputs": [],
   "source": [
    "str1[1:len(str1):2]"
   ]
  },
  {
   "cell_type": "code",
   "execution_count": null,
   "id": "007801d6",
   "metadata": {},
   "outputs": [],
   "source": [
    "str1[: :]"
   ]
  },
  {
   "cell_type": "code",
   "execution_count": null,
   "id": "69db65c7",
   "metadata": {},
   "outputs": [],
   "source": [
    "str1[::-1]"
   ]
  },
  {
   "cell_type": "code",
   "execution_count": null,
   "id": "c969fd4e",
   "metadata": {},
   "outputs": [],
   "source": [
    "str1[-1:0:-1]\n"
   ]
  },
  {
   "cell_type": "code",
   "execution_count": null,
   "id": "1f81bb7b",
   "metadata": {},
   "outputs": [],
   "source": [
    "str1[:-2]"
   ]
  },
  {
   "cell_type": "code",
   "execution_count": null,
   "id": "a0bd62c8",
   "metadata": {},
   "outputs": [],
   "source": [
    "str1[3:15]"
   ]
  },
  {
   "cell_type": "code",
   "execution_count": null,
   "id": "05c267f6",
   "metadata": {},
   "outputs": [],
   "source": [
    "str1[3:-4]"
   ]
  },
  {
   "cell_type": "code",
   "execution_count": null,
   "id": "21bc6ea3",
   "metadata": {},
   "outputs": [],
   "source": [
    "str1[2:]"
   ]
  },
  {
   "cell_type": "code",
   "execution_count": null,
   "id": "206c215a",
   "metadata": {},
   "outputs": [],
   "source": [
    "str1*3"
   ]
  },
  {
   "cell_type": "code",
   "execution_count": null,
   "id": "25f66dd7",
   "metadata": {},
   "outputs": [],
   "source": [
    "str1+ \" style\""
   ]
  },
  {
   "cell_type": "code",
   "execution_count": null,
   "id": "7283dd04",
   "metadata": {},
   "outputs": [],
   "source": [
    "\"Is\" in str1"
   ]
  },
  {
   "cell_type": "code",
   "execution_count": null,
   "id": "49259b87",
   "metadata": {},
   "outputs": [],
   "source": [
    "\"Is\" not in str1"
   ]
  },
  {
   "cell_type": "code",
   "execution_count": null,
   "id": "894a3418",
   "metadata": {},
   "outputs": [],
   "source": [
    "print(str1)"
   ]
  },
  {
   "cell_type": "code",
   "execution_count": null,
   "id": "2ce9ae28",
   "metadata": {},
   "outputs": [],
   "source": [
    "print(str1.split())"
   ]
  },
  {
   "cell_type": "markdown",
   "id": "757d12bb",
   "metadata": {},
   "source": [
    "###python 6th class"
   ]
  },
  {
   "cell_type": "code",
   "execution_count": null,
   "id": "97d52f74",
   "metadata": {},
   "outputs": [],
   "source": [
    "str = \"hello\"\n",
    "str.capitalize()"
   ]
  },
  {
   "cell_type": "code",
   "execution_count": null,
   "id": "21993ace",
   "metadata": {},
   "outputs": [],
   "source": [
    "str = \"my name is vicky\"\n",
    "str.capitalize()"
   ]
  },
  {
   "cell_type": "code",
   "execution_count": null,
   "id": "4bf02b9e",
   "metadata": {},
   "outputs": [],
   "source": [
    "str = \"INDIA\"\n",
    "str.lower()"
   ]
  },
  {
   "cell_type": "code",
   "execution_count": null,
   "id": "d9aff162",
   "metadata": {},
   "outputs": [],
   "source": [
    "str = \"MY NAME IS VICKY\"\n",
    "str.lower()"
   ]
  },
  {
   "cell_type": "code",
   "execution_count": null,
   "id": "809e7df8",
   "metadata": {},
   "outputs": [],
   "source": [
    "str = \"my name is vicky\"\n",
    "str.upper()"
   ]
  },
  {
   "cell_type": "code",
   "execution_count": null,
   "id": "df37a45f",
   "metadata": {},
   "outputs": [],
   "source": [
    "str = \"my name is vicky\"\n",
    "str.title()"
   ]
  },
  {
   "cell_type": "code",
   "execution_count": null,
   "id": "42fe10be",
   "metadata": {},
   "outputs": [],
   "source": [
    "str = \"My Name Is Vicky\"\n",
    "str.swapcase()"
   ]
  },
  {
   "cell_type": "code",
   "execution_count": null,
   "id": "454b38d5",
   "metadata": {},
   "outputs": [],
   "source": [
    "str1 = \"i bought two apple, three smosa, and three choclate\"\n",
    "str1.replace(\"three\", \"two\")"
   ]
  },
  {
   "cell_type": "code",
   "execution_count": null,
   "id": "2750bc80",
   "metadata": {},
   "outputs": [],
   "source": [
    "print(str1)"
   ]
  },
  {
   "cell_type": "code",
   "execution_count": null,
   "id": "b2af5ee6",
   "metadata": {},
   "outputs": [],
   "source": [
    "str1 = \"i bought two apple, three smosa, and three choclate and three chips\"\n",
    "str1.replace(\"three\", \"four\", 2)"
   ]
  },
  {
   "cell_type": "code",
   "execution_count": null,
   "id": "1ce38f30",
   "metadata": {},
   "outputs": [],
   "source": [
    "s1 = \"\\t\\n\\t hello pandit ji \\t\\tn\"\n",
    "s1.lstrip()"
   ]
  },
  {
   "cell_type": "code",
   "execution_count": null,
   "id": "62451587",
   "metadata": {},
   "outputs": [],
   "source": [
    "s2=\"hello pandit ji\\t\\n\"\n",
    "s2.rstrip()"
   ]
  },
  {
   "cell_type": "code",
   "execution_count": null,
   "id": "618fa53c",
   "metadata": {},
   "outputs": [],
   "source": [
    "s3 = \"\\t\\n\\t hello pandit ji \\t\\t\\n\"\n",
    "s3.strip()"
   ]
  },
  {
   "cell_type": "code",
   "execution_count": null,
   "id": "ca7d3419",
   "metadata": {},
   "outputs": [],
   "source": [
    "s4 = \"@#$ hello pandit ji%&*\"\n",
    "s4.strip(\"@#$\")"
   ]
  },
  {
   "cell_type": "code",
   "execution_count": null,
   "id": "855d9195",
   "metadata": {},
   "outputs": [],
   "source": [
    "print(s4)\n",
    "s4.strip(\"@#$%&*\")"
   ]
  },
  {
   "cell_type": "code",
   "execution_count": null,
   "id": "675d16d1",
   "metadata": {},
   "outputs": [],
   "source": [
    "##fomating\n",
    "s5 = \" may name is lakhan sajno ka sajan\"\n",
    "s5.ljust(40)"
   ]
  },
  {
   "cell_type": "code",
   "execution_count": null,
   "id": "454e202b",
   "metadata": {},
   "outputs": [],
   "source": [
    "print(s5)\n",
    "s5.rjust(45)"
   ]
  },
  {
   "cell_type": "code",
   "execution_count": null,
   "id": "3f087df7",
   "metadata": {},
   "outputs": [],
   "source": [
    "print(s5)\n",
    "s5.center(50)"
   ]
  },
  {
   "cell_type": "code",
   "execution_count": null,
   "id": "458dc706",
   "metadata": {},
   "outputs": [],
   "source": [
    "###string treversar\n",
    "s6 = \" vicky\"\n",
    "for i in s6:\n",
    "    print(i,end = \"\")\n",
    "    "
   ]
  },
  {
   "cell_type": "code",
   "execution_count": null,
   "id": "bffb1884",
   "metadata": {},
   "outputs": [],
   "source": [
    "###empty list\n",
    "l1 = list()\n",
    "l1"
   ]
  },
  {
   "cell_type": "code",
   "execution_count": null,
   "id": "82e1e569",
   "metadata": {},
   "outputs": [],
   "source": [
    "##creating list with integers\n",
    "l2 = list([1,2,3,4,5])\n",
    "l2"
   ]
  },
  {
   "cell_type": "code",
   "execution_count": null,
   "id": "2d76cef8",
   "metadata": {},
   "outputs": [],
   "source": [
    "###creating list with string word or element\n",
    "l3 = list([\"vicky\",\"shobha\",\"urvashi\"])\n",
    "l3"
   ]
  },
  {
   "cell_type": "code",
   "execution_count": null,
   "id": "7bf04971",
   "metadata": {},
   "outputs": [],
   "source": [
    "###creating a list using range function\n",
    "l4 = list(range(0,7))\n",
    "l4"
   ]
  },
  {
   "cell_type": "code",
   "execution_count": null,
   "id": "e3db3d77",
   "metadata": {},
   "outputs": [],
   "source": [
    "###create a list using string\n",
    "l5 = list(\"vicky\")\n",
    "l5"
   ]
  },
  {
   "cell_type": "code",
   "execution_count": null,
   "id": "d409d1f7",
   "metadata": {},
   "outputs": [],
   "source": [
    "###accessing the elemnt of list\n",
    "s1 = (1,2,3,4,5,6,7,8,9)\n",
    "s2 = (\"vicky\",\"shobha\",\"urvashi\")\n",
    "s3 = (-27,47,\"neha\")\n",
    "print(s1[0])\n",
    "print(s2[2])\n",
    "print(s1[-1])\n",
    "print(s2[-2])\n"
   ]
  },
  {
   "cell_type": "code",
   "execution_count": null,
   "id": "c2892780",
   "metadata": {},
   "outputs": [],
   "source": [
    "print(s1)\n",
    "print(s2)\n",
    "print(s3)\n",
    "###printing start and end\n",
    "print(s1[1:4])\n",
    "### printing if end not given\n",
    "print(s1[0:])\n",
    "### printing start & end and with step size\n",
    "print(s1[1:10:2])\n",
    "### printing if start & end not given but step size mentioned\n",
    "print(s2[::-1])\n",
    "###printing star with -1 and end & step size with -1\n",
    "print(s3[-1:0:-1])\n",
    "### printting only with start mentioned\n",
    "print(s2[0])\n",
    "### printing only with mentioning end and not mentioning the start point\n",
    "print(s3[:-2])\n",
    "### printing multipling string of list\n",
    "print(s2*2)\n",
    "### prnting sum of list 1 and list 2 elements\n",
    "print(s1+s3)"
   ]
  },
  {
   "cell_type": "markdown",
   "id": "316d1181",
   "metadata": {},
   "source": [
    "### python 7th class"
   ]
  },
  {
   "cell_type": "code",
   "execution_count": null,
   "id": "3fc74cc6",
   "metadata": {},
   "outputs": [],
   "source": [
    "###to use append function\n",
    "l1 = [1, \"vicky\", 5,7,9,\"shobha\"]\n",
    "l1.append(10)\n",
    "print(l1)"
   ]
  },
  {
   "cell_type": "code",
   "execution_count": null,
   "id": "b4ea970b",
   "metadata": {},
   "outputs": [],
   "source": [
    "### using extend function\n",
    "l2 = [1,2,5,8,5,9,7]\n",
    "l3 = [5,9,3,7,5]\n",
    "l2.extend(l3)\n",
    "print(l2)\n",
    "print(l3)"
   ]
  },
  {
   "cell_type": "code",
   "execution_count": null,
   "id": "eb3d1008",
   "metadata": {},
   "outputs": [],
   "source": [
    "### using insert function in list\n",
    "l2 = [1,2,5,8,5,9,7]\n",
    "l2.insert(5,7)\n",
    "print(l2)"
   ]
  },
  {
   "cell_type": "code",
   "execution_count": null,
   "id": "af9e21ea",
   "metadata": {},
   "outputs": [],
   "source": [
    "### using remove function in list\n",
    "l3 = [5,9,3,7,5]\n",
    "l3.remove(3)\n",
    "print(l3)"
   ]
  },
  {
   "cell_type": "code",
   "execution_count": null,
   "id": "37d83459",
   "metadata": {},
   "outputs": [],
   "source": [
    "#### using index function in list(basically means seaching an element within list\n",
    "l2 = [1,2,5,8,5,9,7]\n",
    "l2.index(9)\n"
   ]
  },
  {
   "cell_type": "code",
   "execution_count": null,
   "id": "2e875905",
   "metadata": {},
   "outputs": [],
   "source": [
    "### using list count function in list(checking an element occurence time)\n",
    "l2 = [1,2,5,8,5,9,7,8]\n",
    "l2.count(8)"
   ]
  },
  {
   "cell_type": "code",
   "execution_count": null,
   "id": "1de5f726",
   "metadata": {},
   "outputs": [],
   "source": [
    "l2 = [1,2,5,8,5,9,7,8]\n",
    "l2.count(2)"
   ]
  },
  {
   "cell_type": "code",
   "execution_count": null,
   "id": "49f7de02",
   "metadata": {},
   "outputs": [],
   "source": [
    "### using list pop function(removing an element according to index position)\n",
    "l2 = [1,2,5,8,5,9,7,8]\n",
    "l2.pop(4)\n",
    "print(l2)"
   ]
  },
  {
   "cell_type": "code",
   "execution_count": null,
   "id": "32dee2b0",
   "metadata": {},
   "outputs": [],
   "source": [
    "### using reverse function\n",
    "l2 = [1,2,5,8,5,9,7,8]\n",
    "l2.reverse()\n",
    "print(l2)"
   ]
  },
  {
   "cell_type": "code",
   "execution_count": null,
   "id": "c91b3c48",
   "metadata": {},
   "outputs": [],
   "source": [
    "### using copy function\n",
    "l2 = [1,2,5,8,5,9,7,8]\n",
    "new_l3 = l2.copy()\n",
    "print(new_l3)\n",
    "print(l2)"
   ]
  },
  {
   "cell_type": "code",
   "execution_count": null,
   "id": "1d70b1c3",
   "metadata": {},
   "outputs": [],
   "source": [
    "### using clear function in list\n",
    "l2 = [1,2,5,8,5,9,7,8]\n",
    "l2.clear()\n",
    "print(l2)"
   ]
  },
  {
   "cell_type": "code",
   "execution_count": null,
   "id": "bb3111f9",
   "metadata": {},
   "outputs": [],
   "source": [
    "### using list sorting function\n",
    "l3 = [5,9,3,7,5] #priting unarranged order\n",
    "print(l3)\n",
    "l3.sort() #printing arranger oder\n",
    "print(l3)\n"
   ]
  },
  {
   "cell_type": "code",
   "execution_count": null,
   "id": "8cc727b0",
   "metadata": {},
   "outputs": [],
   "source": [
    "## arranging in descending order\n",
    "print(l3)\n",
    "l3.sort(reverse=True)\n",
    "print(l3)"
   ]
  },
  {
   "cell_type": "markdown",
   "id": "64adec75",
   "metadata": {},
   "source": [
    "###LIST COMPREHENSION"
   ]
  },
  {
   "cell_type": "code",
   "execution_count": null,
   "id": "ac150544",
   "metadata": {},
   "outputs": [],
   "source": [
    "### without list comprehension( using for loop method)\n",
    "l3 = [1,5,9,7,5,3]\n",
    "for i in range (0, len(l3)):\n",
    "    l3[i] = l3[i]+10\n",
    "print(l3)"
   ]
  },
  {
   "cell_type": "code",
   "execution_count": null,
   "id": "b4f1caa0",
   "metadata": {},
   "outputs": [],
   "source": [
    "###with using list comprehension\n",
    "l3 = [1,5,9,7,5,3]\n",
    "l3 = [x+10 for x in l3]\n",
    "print(l3)"
   ]
  },
  {
   "cell_type": "markdown",
   "id": "b88049da",
   "metadata": {},
   "source": [
    "###tuple"
   ]
  },
  {
   "cell_type": "code",
   "execution_count": null,
   "id": "07cf524d",
   "metadata": {},
   "outputs": [],
   "source": [
    "tuple1 = ('vicky', 'sam', 'ashu',5,8,2)\n",
    "tuple2 = (3,4,9,7,6,1)\n",
    "print(tuple1)\n",
    "print(tuple2[1:5])\n",
    "print(tuple1[1: ])\n",
    "print(tuple2[0])\n",
    "print(tuple1[ :-2])\n",
    "print(tuple2*2)\n",
    "print(tuple1 + tuple2)"
   ]
  },
  {
   "cell_type": "code",
   "execution_count": null,
   "id": "a28432ad",
   "metadata": {},
   "outputs": [],
   "source": [
    "### finding element in set with IN and NOT IN operator\n",
    "s1 = (1,5,9,7,5,3,2,5,8)\n",
    "5 in s1"
   ]
  },
  {
   "cell_type": "code",
   "execution_count": null,
   "id": "a4a2f839",
   "metadata": {},
   "outputs": [],
   "source": [
    "7 in s1"
   ]
  },
  {
   "cell_type": "code",
   "execution_count": null,
   "id": "bdb59ff8",
   "metadata": {},
   "outputs": [],
   "source": [
    "10 not in s1"
   ]
  },
  {
   "cell_type": "code",
   "execution_count": null,
   "id": "d91f2dd5",
   "metadata": {},
   "outputs": [],
   "source": [
    "2 not in s1"
   ]
  },
  {
   "cell_type": "code",
   "execution_count": null,
   "id": "8a8c956a",
   "metadata": {},
   "outputs": [],
   "source": [
    "###setting formula or logic , so that we no need to pass the logic again and again(argument not passed)\n",
    "def display():\n",
    "    print('hello from function')\n",
    "display()"
   ]
  },
  {
   "cell_type": "code",
   "execution_count": null,
   "id": "a1e6d129",
   "metadata": {},
   "outputs": [],
   "source": [
    "### seetinga logic or fucntion with argument passed\n",
    "def display(name):\n",
    "    print('my name is '+name)\n",
    "display('shobha')\n",
    "display('iurvahsi')\n",
    "display('neha')"
   ]
  },
  {
   "cell_type": "code",
   "execution_count": null,
   "id": "7144543b",
   "metadata": {},
   "outputs": [],
   "source": [
    "### we can also use this DEF funcion in betwwen of paranthesis example\n",
    "def greet(name):\n",
    "    print('hello ' +name+ ' very very good morning')\n",
    "greet('vicky')\n",
    "greet('shobha')\n"
   ]
  },
  {
   "cell_type": "code",
   "execution_count": null,
   "id": "76242ad9",
   "metadata": {},
   "outputs": [],
   "source": [
    "### calculation by using def function\n",
    "def sum(x, y):\n",
    "    s = 0\n",
    "    for i in range(x, y+1):\n",
    "        s = s + i\n",
    "    print('sum of intergars from is ',x,' to ',y,' :',s)\n",
    "sum(1,26)\n",
    "sum(26,51)\n",
    "sum(51,71)\n",
    "sum(71,101)"
   ]
  },
  {
   "cell_type": "code",
   "execution_count": null,
   "id": "c745ffd3",
   "metadata": {},
   "outputs": [],
   "source": [
    "### finding even and odd by using def function\n",
    "def evenodd(x):\n",
    "    if (x % 2 == 0):\n",
    "        print(\"even\")\n",
    "    else:\n",
    "        print(\"odd\")\n",
    "evenodd(2)\n",
    "evenodd(9)"
   ]
  },
  {
   "cell_type": "markdown",
   "id": "b007df41",
   "metadata": {},
   "source": [
    "###position agrumnent"
   ]
  },
  {
   "cell_type": "code",
   "execution_count": null,
   "id": "fd5c0eae",
   "metadata": {},
   "outputs": [],
   "source": [
    "def display(name, age):\n",
    "    print('name= ',name,'age= ',age)\n",
    "display('vicky', 29)\n",
    "display(29, 'vicky')\n",
    "        \n",
    "    "
   ]
  },
  {
   "cell_type": "code",
   "execution_count": null,
   "id": "ca142a9b",
   "metadata": {},
   "outputs": [],
   "source": [
    "### keyword agrument\n",
    "def display(name, age):\n",
    "    print('name= ',name,'age= ',age)\n",
    "display(name= 'vicky', age= 29)\n",
    "display(age= 29, name= 'vicky')\n",
    "        "
   ]
  },
  {
   "cell_type": "code",
   "execution_count": null,
   "id": "b144371a",
   "metadata": {},
   "outputs": [],
   "source": [
    "## non deault value in def function\n",
    "def value(x, y):\n",
    "    print(\"x=\", x)\n",
    "    print(\"y=\", y)\n",
    "value(10, 20)"
   ]
  },
  {
   "cell_type": "code",
   "execution_count": null,
   "id": "d580cd6d",
   "metadata": {},
   "outputs": [],
   "source": [
    "### by setting default vakue in def function\n",
    "def display(x, y=10):\n",
    "    print(\"x=\", x)\n",
    "    print(\"y=\", y)\n",
    "display(1,20)"
   ]
  },
  {
   "cell_type": "markdown",
   "id": "b993521c",
   "metadata": {},
   "source": [
    "###local and global variable"
   ]
  },
  {
   "cell_type": "code",
   "execution_count": null,
   "id": "39629ae9",
   "metadata": {},
   "outputs": [],
   "source": [
    "a = 1 \n",
    "#uses global because there is no local 'a'\n",
    "def f():\n",
    "    print(\"inside f():\", a)\n",
    "\n",
    "#variable 'a' is redefined as a local\n",
    "def g():\n",
    "    a = 2\n",
    "    print(\"inside g():\", a)\n",
    "\n",
    "#uses global keyword to modify global \"a\"\n",
    "def h():\n",
    "    global a\n",
    "    a = 3\n",
    "    print(\"inside h():\", a)"
   ]
  },
  {
   "cell_type": "code",
   "execution_count": null,
   "id": "1826b7d0",
   "metadata": {},
   "outputs": [],
   "source": [
    "a = 1 \n",
    "#uses global because there is no local 'a'\n",
    "def f():\n",
    "    print(\"inside f():\", a)\n",
    "\n",
    "#variable 'a' is redefined as a local\n",
    "def g():\n",
    "    a = 2\n",
    "    print(\"inside g():\", a)\n",
    "\n",
    "#uses global keyword to modify global \"a\"\n",
    "def h():\n",
    "    global a\n",
    "    a = 3\n",
    "    print(\"inside h():\", a)"
   ]
  },
  {
   "cell_type": "code",
   "execution_count": null,
   "id": "012e61dc",
   "metadata": {},
   "outputs": [],
   "source": [
    "#global scope\n",
    "print(\"global : \",a)\n",
    "f()\n",
    "print(\"gobal : \",a)\n",
    "g()\n",
    "print(\"gobal : \",a)\n",
    "h()\n",
    "print(\"gobal : \",a)"
   ]
  },
  {
   "cell_type": "markdown",
   "id": "403b1cef",
   "metadata": {},
   "source": [
    "###pthon 10 th class\n"
   ]
  },
  {
   "cell_type": "code",
   "execution_count": null,
   "id": "f6a16201",
   "metadata": {},
   "outputs": [],
   "source": [
    "## how to create a class\n",
    "class myclass:\n",
    "    x = 7"
   ]
  },
  {
   "cell_type": "code",
   "execution_count": null,
   "id": "cc0af1c9",
   "metadata": {},
   "outputs": [],
   "source": [
    "## how to create object (by using class name as myclass)\n",
    "school = myclass()\n",
    "print(school.x)"
   ]
  },
  {
   "cell_type": "code",
   "execution_count": null,
   "id": "bbd34cf2",
   "metadata": {},
   "outputs": [],
   "source": [
    "## defining object of class by init()function\n",
    "class parent: \n",
    "    def __init__(self, name, grade, age):\n",
    "        self.name = name\n",
    "        self.grade = grade\n",
    "        self.age = age\n",
    "p1 = parent('suman','A',30)\n",
    "print(p1.name)\n",
    "print(p1.grade)\n",
    "print(p1.age)"
   ]
  },
  {
   "cell_type": "code",
   "execution_count": null,
   "id": "66e6420a",
   "metadata": {},
   "outputs": [],
   "source": [
    "##defining str function with init function\n",
    "class parent: \n",
    "    def __init__(self, name, grade, age):\n",
    "        self.name = name\n",
    "        self.grade = grade\n",
    "        self.age = age\n",
    "    def __str__(self):\n",
    "        return f'{self.name}-{self.grade}-({self.age})'\n",
    "p1 = parent(\"vicky\",\"A\", 30)\n",
    "print(p1)"
   ]
  },
  {
   "cell_type": "code",
   "execution_count": null,
   "id": "3efec58c",
   "metadata": {},
   "outputs": [],
   "source": [
    "###object method \n",
    "class parent: \n",
    "    def __init__(self, name, grade, age):\n",
    "        self.name = name\n",
    "        self.grade = grade\n",
    "        self.age = age\n",
    "    def myfunc(self):\n",
    "        print(\"my name is \"+self.name, \"and my grade is \"+self.grade,\"my age is\", +self.age)\n",
    "p1 = parent(\"vicky\",\"A\", 30) \n",
    "p1.myfunc()"
   ]
  },
  {
   "cell_type": "code",
   "execution_count": null,
   "id": "72c65559",
   "metadata": {},
   "outputs": [],
   "source": [
    "###modify property\n",
    "p1.name = \"neha\"\n",
    "print(p1.name)"
   ]
  },
  {
   "cell_type": "code",
   "execution_count": null,
   "id": "adf7ba9a",
   "metadata": {},
   "outputs": [],
   "source": [
    "###deleting object property\n",
    "del(p1.name)\n",
    "print(p1.age)"
   ]
  },
  {
   "cell_type": "code",
   "execution_count": null,
   "id": "6dd370ed",
   "metadata": {},
   "outputs": [],
   "source": [
    "###delete compete object\n",
    "del(p1)"
   ]
  },
  {
   "cell_type": "code",
   "execution_count": null,
   "id": "a4823713",
   "metadata": {},
   "outputs": [],
   "source": [
    "print(p1)"
   ]
  },
  {
   "cell_type": "code",
   "execution_count": null,
   "id": "9fdce06e",
   "metadata": {},
   "outputs": [],
   "source": [
    "##multi level inheritance\n",
    "class person:\n",
    "    \n",
    "    def __init__(self, first, last):\n",
    "        self.firstn = first\n",
    "        self.lastn = last\n",
    "    \n",
    "    def name (self):\n",
    "        return self.firstn +\" \"+ self.lastn\n",
    "\n",
    "class emp(person):\n",
    "    \n",
    "    def __init__(self, first, last, roll):\n",
    "        person.__init__(self, first, last)\n",
    "        self.roll = roll\n",
    "        \n",
    "    def getemp(self):\n",
    "        return self.name() + \" , \"+ self.roll\n",
    "    \n",
    "##a = person(\"urvshi\", \"saini\")\n",
    "b = emp(\"urvashi\", \"saini\", 9650)\n",
    "\n",
    "print(b.name())\n",
    "print(b.getemp())"
   ]
  },
  {
   "cell_type": "code",
   "execution_count": 1,
   "id": "2998ac78",
   "metadata": {},
   "outputs": [],
   "source": [
    "import numpy as np"
   ]
  },
  {
   "cell_type": "code",
   "execution_count": 2,
   "id": "93bd092e",
   "metadata": {},
   "outputs": [],
   "source": [
    "num = [1,2,3]"
   ]
  },
  {
   "cell_type": "code",
   "execution_count": 3,
   "id": "3c7f659f",
   "metadata": {},
   "outputs": [
    {
     "data": {
      "text/plain": [
       "array([1, 2, 3])"
      ]
     },
     "execution_count": 3,
     "metadata": {},
     "output_type": "execute_result"
    }
   ],
   "source": [
    "##single dimension array\n",
    "num = np.array(num)\n",
    "num"
   ]
  },
  {
   "cell_type": "code",
   "execution_count": 4,
   "id": "b266925e",
   "metadata": {},
   "outputs": [
    {
     "data": {
      "text/plain": [
       "array([[1, 2, 5, 4],\n",
       "       [5, 8, 7, 4]])"
      ]
     },
     "execution_count": 4,
     "metadata": {},
     "output_type": "execute_result"
    }
   ],
   "source": [
    " ##double dimension array\n",
    "num1 = [[1,2,5,4],[5,8,7,4]]\n",
    "num1 = np.array(num1)\n",
    "num1"
   ]
  },
  {
   "cell_type": "code",
   "execution_count": 5,
   "id": "e6517a3a",
   "metadata": {},
   "outputs": [
    {
     "data": {
      "text/plain": [
       "array([[[5, 4, 8],\n",
       "        [5, 6, 9]],\n",
       "\n",
       "       [[2, 3, 4],\n",
       "        [1, 5, 7]]])"
      ]
     },
     "execution_count": 5,
     "metadata": {},
     "output_type": "execute_result"
    }
   ],
   "source": [
    "###multi dimnetion array\n",
    "num2 = [[[5,4,8],[5,6,9,]],[[2,3,4],[1,5,7]]]\n",
    "num2 = np.array(num2)\n",
    "num2"
   ]
  },
  {
   "cell_type": "code",
   "execution_count": 6,
   "id": "1b131102",
   "metadata": {},
   "outputs": [
    {
     "name": "stdout",
     "output_type": "stream",
     "text": [
      "[[1 2 5 4]\n",
      " [5 8 7 4]]\n"
     ]
    },
    {
     "data": {
      "text/plain": [
       "2"
      ]
     },
     "execution_count": 6,
     "metadata": {},
     "output_type": "execute_result"
    }
   ],
   "source": [
    "##how to know dimension of array\n",
    "print(num1)\n",
    "num1.ndim    "
   ]
  },
  {
   "cell_type": "code",
   "execution_count": 7,
   "id": "2c52ba45",
   "metadata": {},
   "outputs": [
    {
     "name": "stdout",
     "output_type": "stream",
     "text": [
      "[[[5 4 8]\n",
      "  [5 6 9]]\n",
      "\n",
      " [[2 3 4]\n",
      "  [1 5 7]]]\n"
     ]
    },
    {
     "data": {
      "text/plain": [
       "3"
      ]
     },
     "execution_count": 7,
     "metadata": {},
     "output_type": "execute_result"
    }
   ],
   "source": [
    "print(num2)\n",
    "num2.ndim"
   ]
  },
  {
   "cell_type": "code",
   "execution_count": 8,
   "id": "dc120baa",
   "metadata": {},
   "outputs": [
    {
     "name": "stdout",
     "output_type": "stream",
     "text": [
      "[1 2 3]\n"
     ]
    },
    {
     "data": {
      "text/plain": [
       "1"
      ]
     },
     "execution_count": 8,
     "metadata": {},
     "output_type": "execute_result"
    }
   ],
   "source": [
    "print(num)\n",
    "num.ndim"
   ]
  },
  {
   "cell_type": "code",
   "execution_count": 9,
   "id": "9a6b8d0e",
   "metadata": {},
   "outputs": [
    {
     "name": "stdout",
     "output_type": "stream",
     "text": [
      "[[1 2 5 4]\n",
      " [5 8 7 4]]\n"
     ]
    },
    {
     "data": {
      "text/plain": [
       "(2, 4)"
      ]
     },
     "execution_count": 9,
     "metadata": {},
     "output_type": "execute_result"
    }
   ],
   "source": [
    "### shape of matrix in numpy array\n",
    "print(num1)\n",
    "num1.shape"
   ]
  },
  {
   "cell_type": "code",
   "execution_count": 10,
   "id": "9027187e",
   "metadata": {},
   "outputs": [
    {
     "name": "stdout",
     "output_type": "stream",
     "text": [
      "[1 2 3]\n"
     ]
    },
    {
     "data": {
      "text/plain": [
       "(3,)"
      ]
     },
     "execution_count": 10,
     "metadata": {},
     "output_type": "execute_result"
    }
   ],
   "source": [
    "print(num)\n",
    "num.shape"
   ]
  },
  {
   "cell_type": "code",
   "execution_count": 11,
   "id": "e1ead747",
   "metadata": {},
   "outputs": [
    {
     "name": "stdout",
     "output_type": "stream",
     "text": [
      "[[[5 4 8]\n",
      "  [5 6 9]]\n",
      "\n",
      " [[2 3 4]\n",
      "  [1 5 7]]]\n"
     ]
    },
    {
     "data": {
      "text/plain": [
       "(2, 2, 3)"
      ]
     },
     "execution_count": 11,
     "metadata": {},
     "output_type": "execute_result"
    }
   ],
   "source": [
    "print(num2)\n",
    "num2.shape"
   ]
  },
  {
   "cell_type": "code",
   "execution_count": 12,
   "id": "638f5898",
   "metadata": {},
   "outputs": [
    {
     "data": {
      "text/plain": [
       "dtype('int32')"
      ]
     },
     "execution_count": 12,
     "metadata": {},
     "output_type": "execute_result"
    }
   ],
   "source": [
    "##how to know the type\n",
    "num.dtype"
   ]
  },
  {
   "cell_type": "code",
   "execution_count": 13,
   "id": "a4600bc8",
   "metadata": {},
   "outputs": [
    {
     "data": {
      "text/plain": [
       "dtype('int32')"
      ]
     },
     "execution_count": 13,
     "metadata": {},
     "output_type": "execute_result"
    }
   ],
   "source": [
    "num1.dtype"
   ]
  },
  {
   "cell_type": "code",
   "execution_count": 14,
   "id": "c7c9c70d",
   "metadata": {},
   "outputs": [
    {
     "data": {
      "text/plain": [
       "dtype('int32')"
      ]
     },
     "execution_count": 14,
     "metadata": {},
     "output_type": "execute_result"
    }
   ],
   "source": [
    "num2.dtype"
   ]
  },
  {
   "cell_type": "code",
   "execution_count": 15,
   "id": "39abcdb5",
   "metadata": {},
   "outputs": [
    {
     "data": {
      "text/plain": [
       "array([[1., 1., 1.],\n",
       "       [1., 1., 1.]])"
      ]
     },
     "execution_count": 15,
     "metadata": {},
     "output_type": "execute_result"
    }
   ],
   "source": [
    "##matrix of ones\n",
    "arr = np.ones((2,3))\n",
    "arr"
   ]
  },
  {
   "cell_type": "code",
   "execution_count": 16,
   "id": "6aede2b9",
   "metadata": {},
   "outputs": [
    {
     "data": {
      "text/plain": [
       "array([0.28648687, 0.68316678, 0.2369915 , 0.22421905])"
      ]
     },
     "execution_count": 16,
     "metadata": {},
     "output_type": "execute_result"
    }
   ],
   "source": [
    "## uniformaty of number 0 and 5\n",
    "rand_num = np.random.rand(4)\n",
    "rand_num"
   ]
  },
  {
   "cell_type": "code",
   "execution_count": 17,
   "id": "9c7b696a",
   "metadata": {},
   "outputs": [],
   "source": [
    "#numpy(reshaping of data)\n",
    "import numpy as np"
   ]
  },
  {
   "cell_type": "code",
   "execution_count": 18,
   "id": "967f27ca",
   "metadata": {},
   "outputs": [
    {
     "data": {
      "text/plain": [
       "array([15,  1,  6, 11,  2, 19, 17,  9,  8, 12, 15,  9, 11,  8,  5, 16, 16,\n",
       "        5,  5,  7])"
      ]
     },
     "execution_count": 18,
     "metadata": {},
     "output_type": "execute_result"
    }
   ],
   "source": [
    "arr = np.random.randint(1, 20,20)\n",
    "arr"
   ]
  },
  {
   "cell_type": "code",
   "execution_count": 19,
   "id": "15082856",
   "metadata": {},
   "outputs": [
    {
     "data": {
      "text/plain": [
       "(20,)"
      ]
     },
     "execution_count": 19,
     "metadata": {},
     "output_type": "execute_result"
    }
   ],
   "source": [
    "#identify shape of arr\n",
    "arr.shape"
   ]
  },
  {
   "cell_type": "code",
   "execution_count": 20,
   "id": "c0014acb",
   "metadata": {},
   "outputs": [
    {
     "data": {
      "text/plain": [
       "1"
      ]
     },
     "execution_count": 20,
     "metadata": {},
     "output_type": "execute_result"
    }
   ],
   "source": [
    "#identify arr dimension\n",
    "arr.ndim"
   ]
  },
  {
   "cell_type": "code",
   "execution_count": 21,
   "id": "0561c158",
   "metadata": {},
   "outputs": [
    {
     "data": {
      "text/plain": [
       "array([[15,  1,  6, 11,  2],\n",
       "       [19, 17,  9,  8, 12],\n",
       "       [15,  9, 11,  8,  5],\n",
       "       [16, 16,  5,  5,  7]])"
      ]
     },
     "execution_count": 21,
     "metadata": {},
     "output_type": "execute_result"
    }
   ],
   "source": [
    "#reshape of arr(here 2 is row and 3 is column)\n",
    "arr = arr.reshape(4,5)\n",
    "arr"
   ]
  },
  {
   "cell_type": "code",
   "execution_count": 22,
   "id": "726b49fe",
   "metadata": {},
   "outputs": [
    {
     "data": {
      "text/plain": [
       "(4, 5)"
      ]
     },
     "execution_count": 22,
     "metadata": {},
     "output_type": "execute_result"
    }
   ],
   "source": [
    "arr.shape"
   ]
  },
  {
   "cell_type": "code",
   "execution_count": 23,
   "id": "39da2a05",
   "metadata": {},
   "outputs": [
    {
     "data": {
      "text/plain": [
       "2"
      ]
     },
     "execution_count": 23,
     "metadata": {},
     "output_type": "execute_result"
    }
   ],
   "source": [
    "arr.ndim"
   ]
  },
  {
   "cell_type": "code",
   "execution_count": 24,
   "id": "45f3d652",
   "metadata": {},
   "outputs": [
    {
     "data": {
      "text/plain": [
       "array([15,  1,  6, 11,  2, 19, 17,  9,  8, 12, 15,  9, 11,  8,  5, 16, 16,\n",
       "        5,  5,  7])"
      ]
     },
     "execution_count": 24,
     "metadata": {},
     "output_type": "execute_result"
    }
   ],
   "source": [
    "arr = arr.reshape(20)\n",
    "arr"
   ]
  },
  {
   "cell_type": "code",
   "execution_count": 25,
   "id": "63a8c15c",
   "metadata": {},
   "outputs": [
    {
     "data": {
      "text/plain": [
       "array([[[15,  1,  6, 11,  2],\n",
       "        [19, 17,  9,  8, 12]],\n",
       "\n",
       "       [[15,  9, 11,  8,  5],\n",
       "        [16, 16,  5,  5,  7]]])"
      ]
     },
     "execution_count": 25,
     "metadata": {},
     "output_type": "execute_result"
    }
   ],
   "source": [
    "#reshaping arr into multiple dimension\n",
    "arr = arr.reshape(2,2,5)\n",
    "arr"
   ]
  },
  {
   "cell_type": "code",
   "execution_count": 26,
   "id": "28eb6a9b",
   "metadata": {},
   "outputs": [
    {
     "data": {
      "text/plain": [
       "array([ 1,  2,  3,  4,  5,  6,  7,  8,  9, 10])"
      ]
     },
     "execution_count": 26,
     "metadata": {},
     "output_type": "execute_result"
    }
   ],
   "source": [
    "#arranging arr in sequnece with the help of arrange function\n",
    "arr = np.arange(1,11)\n",
    "arr"
   ]
  },
  {
   "cell_type": "code",
   "execution_count": 27,
   "id": "f0b40468",
   "metadata": {},
   "outputs": [
    {
     "data": {
      "text/plain": [
       "array([[ 1,  2],\n",
       "       [ 3,  4],\n",
       "       [ 5,  6],\n",
       "       [ 7,  8],\n",
       "       [ 9, 10]])"
      ]
     },
     "execution_count": 27,
     "metadata": {},
     "output_type": "execute_result"
    }
   ],
   "source": [
    "arr = arr.reshape(5,2)\n",
    "arr"
   ]
  },
  {
   "cell_type": "code",
   "execution_count": 28,
   "id": "9a612a47",
   "metadata": {},
   "outputs": [
    {
     "data": {
      "text/plain": [
       "array([  1,   2,   3,   4,   5,   6,   7,   8,   9,  10,  11,  12,  13,\n",
       "        14,  15,  16,  17,  18,  19,  20,  21,  22,  23,  24,  25,  26,\n",
       "        27,  28,  29,  30,  31,  32,  33,  34,  35,  36,  37,  38,  39,\n",
       "        40,  41,  42,  43,  44,  45,  46,  47,  48,  49,  50,  51,  52,\n",
       "        53,  54,  55,  56,  57,  58,  59,  60,  61,  62,  63,  64,  65,\n",
       "        66,  67,  68,  69,  70,  71,  72,  73,  74,  75,  76,  77,  78,\n",
       "        79,  80,  81,  82,  83,  84,  85,  86,  87,  88,  89,  90,  91,\n",
       "        92,  93,  94,  95,  96,  97,  98,  99, 100])"
      ]
     },
     "execution_count": 28,
     "metadata": {},
     "output_type": "execute_result"
    }
   ],
   "source": [
    "#creating a arr data again with arange function with higher end number\n",
    "arr = np.arange(1,101)\n",
    "arr"
   ]
  },
  {
   "cell_type": "code",
   "execution_count": 29,
   "id": "13e384c5",
   "metadata": {},
   "outputs": [
    {
     "data": {
      "text/plain": [
       "array([[  1,   2,   3,   4,   5,   6,   7,   8,   9,  10,  11,  12,  13,\n",
       "         14,  15,  16,  17,  18,  19,  20],\n",
       "       [ 21,  22,  23,  24,  25,  26,  27,  28,  29,  30,  31,  32,  33,\n",
       "         34,  35,  36,  37,  38,  39,  40],\n",
       "       [ 41,  42,  43,  44,  45,  46,  47,  48,  49,  50,  51,  52,  53,\n",
       "         54,  55,  56,  57,  58,  59,  60],\n",
       "       [ 61,  62,  63,  64,  65,  66,  67,  68,  69,  70,  71,  72,  73,\n",
       "         74,  75,  76,  77,  78,  79,  80],\n",
       "       [ 81,  82,  83,  84,  85,  86,  87,  88,  89,  90,  91,  92,  93,\n",
       "         94,  95,  96,  97,  98,  99, 100]])"
      ]
     },
     "execution_count": 29,
     "metadata": {},
     "output_type": "execute_result"
    }
   ],
   "source": [
    "#if we do not know the column no. or row no. that how much we want to print therefore in that case we will use (-1) for the same\n",
    "arr = arr.reshape(5,-1)\n",
    "arr"
   ]
  },
  {
   "cell_type": "code",
   "execution_count": 30,
   "id": "7c742541",
   "metadata": {},
   "outputs": [
    {
     "data": {
      "text/plain": [
       "array([[  1,   2,   3,   4,   5,   6,   7,   8,   9,  10],\n",
       "       [ 11,  12,  13,  14,  15,  16,  17,  18,  19,  20],\n",
       "       [ 21,  22,  23,  24,  25,  26,  27,  28,  29,  30],\n",
       "       [ 31,  32,  33,  34,  35,  36,  37,  38,  39,  40],\n",
       "       [ 41,  42,  43,  44,  45,  46,  47,  48,  49,  50],\n",
       "       [ 51,  52,  53,  54,  55,  56,  57,  58,  59,  60],\n",
       "       [ 61,  62,  63,  64,  65,  66,  67,  68,  69,  70],\n",
       "       [ 71,  72,  73,  74,  75,  76,  77,  78,  79,  80],\n",
       "       [ 81,  82,  83,  84,  85,  86,  87,  88,  89,  90],\n",
       "       [ 91,  92,  93,  94,  95,  96,  97,  98,  99, 100]])"
      ]
     },
     "execution_count": 30,
     "metadata": {},
     "output_type": "execute_result"
    }
   ],
   "source": [
    "arr = arr.reshape(-1,10)\n",
    "arr"
   ]
  },
  {
   "cell_type": "code",
   "execution_count": 32,
   "id": "4e7debd2",
   "metadata": {},
   "outputs": [
    {
     "data": {
      "text/plain": [
       "array([10,  5, 16,  1, 18, 28, 29, 26, 17, 18])"
      ]
     },
     "execution_count": 32,
     "metadata": {},
     "output_type": "execute_result"
    }
   ],
   "source": [
    "## numpy seed function(menetioned argument once the elements as result comes out they will not get changes if we run the code again, and we change the argument then only random no. as result can come different.)\n",
    "##here 1 is start range and 30 is end range and 10 is the number of element want to print in list\n",
    "np.random.seed(10)\n",
    "arr = np.random.randint(1,30,10)\n",
    "arr"
   ]
  },
  {
   "cell_type": "code",
   "execution_count": 31,
   "id": "5119779d",
   "metadata": {},
   "outputs": [
    {
     "data": {
      "text/plain": [
       "array([ 9,  6, 13,  6,  8])"
      ]
     },
     "execution_count": 31,
     "metadata": {},
     "output_type": "execute_result"
    }
   ],
   "source": [
    "np.random.seed(15)\n",
    "arr = np.random.randint(1,15,5)\n",
    "arr"
   ]
  },
  {
   "cell_type": "code",
   "execution_count": 33,
   "id": "a0e05b8f",
   "metadata": {},
   "outputs": [
    {
     "data": {
      "text/plain": [
       "10"
      ]
     },
     "execution_count": 33,
     "metadata": {},
     "output_type": "execute_result"
    }
   ],
   "source": [
    "arr.size"
   ]
  },
  {
   "cell_type": "code",
   "execution_count": 34,
   "id": "a47b706f",
   "metadata": {},
   "outputs": [
    {
     "data": {
      "text/plain": [
       "(10,)"
      ]
     },
     "execution_count": 34,
     "metadata": {},
     "output_type": "execute_result"
    }
   ],
   "source": [
    "arr.shape"
   ]
  },
  {
   "cell_type": "code",
   "execution_count": 35,
   "id": "c42d0e9c",
   "metadata": {},
   "outputs": [
    {
     "data": {
      "text/plain": [
       "array([5, 7, 1, 9, 5, 3])"
      ]
     },
     "execution_count": 35,
     "metadata": {},
     "output_type": "execute_result"
    }
   ],
   "source": [
    "#indexing and slicing\n",
    "#creating an array\n",
    "arr = np.array([5,7,1,9,5,3])\n",
    "arr"
   ]
  },
  {
   "cell_type": "code",
   "execution_count": 36,
   "id": "ab656882",
   "metadata": {},
   "outputs": [
    {
     "data": {
      "text/plain": [
       "5"
      ]
     },
     "execution_count": 36,
     "metadata": {},
     "output_type": "execute_result"
    }
   ],
   "source": [
    "#finding out the negative indexing and negative indexinf start from back to front means reverse to front\n",
    "arr [-2]"
   ]
  },
  {
   "cell_type": "code",
   "execution_count": 37,
   "id": "8d1e760a",
   "metadata": {},
   "outputs": [
    {
     "data": {
      "text/plain": [
       "7"
      ]
     },
     "execution_count": 37,
     "metadata": {},
     "output_type": "execute_result"
    }
   ],
   "source": [
    "#finding out first element inside list using indexing\n",
    "arr [1]"
   ]
  },
  {
   "cell_type": "code",
   "execution_count": 38,
   "id": "d6e7e0cd",
   "metadata": {},
   "outputs": [
    {
     "data": {
      "text/plain": [
       "array([5, 7, 1])"
      ]
     },
     "execution_count": 38,
     "metadata": {},
     "output_type": "execute_result"
    }
   ],
   "source": [
    "arr [0:3]"
   ]
  },
  {
   "cell_type": "code",
   "execution_count": 39,
   "id": "215be2d9",
   "metadata": {},
   "outputs": [
    {
     "data": {
      "text/plain": [
       "array([5, 7, 1, 9])"
      ]
     },
     "execution_count": 39,
     "metadata": {},
     "output_type": "execute_result"
    }
   ],
   "source": [
    "arr [:-2]"
   ]
  },
  {
   "cell_type": "code",
   "execution_count": 40,
   "id": "f1bc2b0e",
   "metadata": {},
   "outputs": [
    {
     "data": {
      "text/plain": [
       "array([3, 5, 9, 1, 7, 5])"
      ]
     },
     "execution_count": 40,
     "metadata": {},
     "output_type": "execute_result"
    }
   ],
   "source": [
    "arr [::-1]"
   ]
  },
  {
   "cell_type": "code",
   "execution_count": 41,
   "id": "f6dc5703",
   "metadata": {},
   "outputs": [
    {
     "data": {
      "text/plain": [
       "array([9, 5, 3])"
      ]
     },
     "execution_count": 41,
     "metadata": {},
     "output_type": "execute_result"
    }
   ],
   "source": [
    "arr [-3:]"
   ]
  },
  {
   "cell_type": "code",
   "execution_count": 42,
   "id": "264ba9ed",
   "metadata": {},
   "outputs": [
    {
     "data": {
      "text/plain": [
       "array([5, 1, 5])"
      ]
     },
     "execution_count": 42,
     "metadata": {},
     "output_type": "execute_result"
    }
   ],
   "source": [
    "arr [::2]"
   ]
  },
  {
   "cell_type": "code",
   "execution_count": 45,
   "id": "f7dd433f",
   "metadata": {},
   "outputs": [
    {
     "data": {
      "text/plain": [
       "array([[5, 8, 7],\n",
       "       [3, 6, 7],\n",
       "       [2, 4, 9]])"
      ]
     },
     "execution_count": 45,
     "metadata": {},
     "output_type": "execute_result"
    }
   ],
   "source": [
    "#indexing and slicing of 2d array\n",
    "##creating 2d array\n",
    "matrix = np.array([[5,8,7],[3,6,7],[2,4,9]])\n",
    "matrix"
   ]
  },
  {
   "cell_type": "code",
   "execution_count": 46,
   "id": "db175954",
   "metadata": {},
   "outputs": [
    {
     "data": {
      "text/plain": [
       "6"
      ]
     },
     "execution_count": 46,
     "metadata": {},
     "output_type": "execute_result"
    }
   ],
   "source": [
    "#access numeric 6 from matrix\n",
    "matrix[1,1]"
   ]
  },
  {
   "cell_type": "code",
   "execution_count": 47,
   "id": "e4481cc2",
   "metadata": {},
   "outputs": [
    {
     "data": {
      "text/plain": [
       "array([[5, 8],\n",
       "       [3, 6]])"
      ]
     },
     "execution_count": 47,
     "metadata": {},
     "output_type": "execute_result"
    }
   ],
   "source": [
    "## access numeric number 5,8 and 3,6 from matrix in 1 go\n",
    "matrix[0:2,0:2]"
   ]
  },
  {
   "cell_type": "code",
   "execution_count": 48,
   "id": "4a46dbf2",
   "metadata": {},
   "outputs": [
    {
     "data": {
      "text/plain": [
       "array([[5, 8, 7],\n",
       "       [3, 6, 7],\n",
       "       [2, 4, 9]])"
      ]
     },
     "execution_count": 48,
     "metadata": {},
     "output_type": "execute_result"
    }
   ],
   "source": [
    "matrix"
   ]
  },
  {
   "cell_type": "code",
   "execution_count": 49,
   "id": "e9566c32",
   "metadata": {},
   "outputs": [
    {
     "data": {
      "text/plain": [
       "array([[8, 7],\n",
       "       [6, 7],\n",
       "       [4, 9]])"
      ]
     },
     "execution_count": 49,
     "metadata": {},
     "output_type": "execute_result"
    }
   ],
   "source": [
    "#access element number 8,7 & 6,7 & 4,9 in one go\n",
    "matrix[0:4,1:3]"
   ]
  },
  {
   "cell_type": "code",
   "execution_count": 63,
   "id": "b8a7531f",
   "metadata": {},
   "outputs": [
    {
     "data": {
      "text/plain": [
       "array([[39, 38, 16, 40, 21],\n",
       "       [32, 26,  1, 33, 26],\n",
       "       [ 3, 31, 18,  7, 23],\n",
       "       [30, 43,  8, 29, 20],\n",
       "       [ 1,  8, 30, 43, 24]])"
      ]
     },
     "execution_count": 63,
     "metadata": {},
     "output_type": "execute_result"
    }
   ],
   "source": [
    "#create random numbers of matrix with row and column\n",
    "matrix1 = np.random.randint(1,50,25).reshape(5,5)\n",
    "matrix1"
   ]
  },
  {
   "cell_type": "code",
   "execution_count": 1,
   "id": "5e0c0f95",
   "metadata": {},
   "outputs": [],
   "source": [
    "import numpy as np"
   ]
  },
  {
   "cell_type": "code",
   "execution_count": 2,
   "id": "04026586",
   "metadata": {},
   "outputs": [
    {
     "data": {
      "text/plain": [
       "array([5, 7, 1, 9, 5, 3])"
      ]
     },
     "execution_count": 2,
     "metadata": {},
     "output_type": "execute_result"
    }
   ],
   "source": [
    "#creating and view and copy (advanced indexing)\n",
    "#example of only view\n",
    "arr = np.array([5,7,1,9,5,3])\n",
    "arr"
   ]
  },
  {
   "cell_type": "code",
   "execution_count": 3,
   "id": "ce5c4881",
   "metadata": {},
   "outputs": [
    {
     "data": {
      "text/plain": [
       "array([7, 1, 9, 5])"
      ]
     },
     "execution_count": 3,
     "metadata": {},
     "output_type": "execute_result"
    }
   ],
   "source": [
    "sliced_arr = arr[1:5]\n",
    "sliced_arr"
   ]
  },
  {
   "cell_type": "code",
   "execution_count": 4,
   "id": "e77cc927",
   "metadata": {},
   "outputs": [
    {
     "data": {
      "text/plain": [
       "array([0, 0, 0, 0])"
      ]
     },
     "execution_count": 4,
     "metadata": {},
     "output_type": "execute_result"
    }
   ],
   "source": [
    "sliced_arr[:]= 0\n",
    "sliced_arr"
   ]
  },
  {
   "cell_type": "code",
   "execution_count": 5,
   "id": "afd2477c",
   "metadata": {},
   "outputs": [
    {
     "data": {
      "text/plain": [
       "array([5, 0, 0, 0, 0, 3])"
      ]
     },
     "execution_count": 5,
     "metadata": {},
     "output_type": "execute_result"
    }
   ],
   "source": [
    "arr"
   ]
  },
  {
   "cell_type": "code",
   "execution_count": 6,
   "id": "3f175702",
   "metadata": {},
   "outputs": [
    {
     "data": {
      "text/plain": [
       "array([5, 7, 1, 9, 5, 3])"
      ]
     },
     "execution_count": 6,
     "metadata": {},
     "output_type": "execute_result"
    }
   ],
   "source": [
    "#example of copy with .copy function without disturbing original \"arr\" data\n",
    "arr = np.array([5,7,1,9,5,3])\n",
    "arr"
   ]
  },
  {
   "cell_type": "code",
   "execution_count": 8,
   "id": "f0a71e9d",
   "metadata": {},
   "outputs": [
    {
     "data": {
      "text/plain": [
       "array([7, 1, 9, 5])"
      ]
     },
     "execution_count": 8,
     "metadata": {},
     "output_type": "execute_result"
    }
   ],
   "source": [
    "sliced_arr = arr[1:5].copy()\n",
    "sliced_arr"
   ]
  },
  {
   "cell_type": "code",
   "execution_count": 9,
   "id": "bc0ade67",
   "metadata": {},
   "outputs": [
    {
     "data": {
      "text/plain": [
       "array([0, 0, 0, 0])"
      ]
     },
     "execution_count": 9,
     "metadata": {},
     "output_type": "execute_result"
    }
   ],
   "source": [
    "sliced_arr[:]= 0\n",
    "sliced_arr"
   ]
  },
  {
   "cell_type": "code",
   "execution_count": 10,
   "id": "722f93ea",
   "metadata": {},
   "outputs": [
    {
     "data": {
      "text/plain": [
       "array([5, 7, 1, 9, 5, 3])"
      ]
     },
     "execution_count": 10,
     "metadata": {},
     "output_type": "execute_result"
    }
   ],
   "source": [
    "arr"
   ]
  },
  {
   "cell_type": "code",
   "execution_count": 12,
   "id": "d7c2e375",
   "metadata": {},
   "outputs": [
    {
     "data": {
      "text/plain": [
       "array([[ 5,  2, -3],\n",
       "       [ 2,  4,  7],\n",
       "       [-5,  3,  4]])"
      ]
     },
     "execution_count": 12,
     "metadata": {},
     "output_type": "execute_result"
    }
   ],
   "source": [
    "#condtional selection method to choose element from the array\n",
    "array = np.array([[5,2,-3],[2,4,7],[-5,3,4]])\n",
    "array"
   ]
  },
  {
   "cell_type": "code",
   "execution_count": 13,
   "id": "45dbe745",
   "metadata": {},
   "outputs": [
    {
     "data": {
      "text/plain": [
       "array([-3, -5])"
      ]
     },
     "execution_count": 13,
     "metadata": {},
     "output_type": "execute_result"
    }
   ],
   "source": [
    "#we want to access those element whihc are less than zero in numeric number with help of condition method\n",
    "array[array<0]"
   ]
  },
  {
   "cell_type": "code",
   "execution_count": 14,
   "id": "24df5a90",
   "metadata": {},
   "outputs": [
    {
     "data": {
      "text/plain": [
       "array([5, 2, 2, 4, 7, 3, 4])"
      ]
     },
     "execution_count": 14,
     "metadata": {},
     "output_type": "execute_result"
    }
   ],
   "source": [
    "array[array>0]"
   ]
  },
  {
   "cell_type": "code",
   "execution_count": 15,
   "id": "a3aaf724",
   "metadata": {},
   "outputs": [
    {
     "data": {
      "text/plain": [
       "array([[ True,  True, False],\n",
       "       [ True,  True,  True],\n",
       "       [False,  True,  True]])"
      ]
     },
     "execution_count": 15,
     "metadata": {},
     "output_type": "execute_result"
    }
   ],
   "source": [
    "#checking boolion \n",
    "array>0"
   ]
  },
  {
   "cell_type": "code",
   "execution_count": 16,
   "id": "26504742",
   "metadata": {},
   "outputs": [
    {
     "data": {
      "text/plain": [
       "array([1, 2, 3, 4, 5, 6, 7, 8, 9])"
      ]
     },
     "execution_count": 16,
     "metadata": {},
     "output_type": "execute_result"
    }
   ],
   "source": [
    "ar = np.arange(1,10)\n",
    "ar"
   ]
  },
  {
   "cell_type": "code",
   "execution_count": 17,
   "id": "c4a18c77",
   "metadata": {},
   "outputs": [
    {
     "data": {
      "text/plain": [
       "array([6, 7, 8, 9])"
      ]
     },
     "execution_count": 17,
     "metadata": {},
     "output_type": "execute_result"
    }
   ],
   "source": [
    "ar[ar>5]"
   ]
  },
  {
   "cell_type": "code",
   "execution_count": 18,
   "id": "41e894b6",
   "metadata": {},
   "outputs": [
    {
     "data": {
      "text/plain": [
       "array([1, 2, 3, 4, 5, 6])"
      ]
     },
     "execution_count": 18,
     "metadata": {},
     "output_type": "execute_result"
    }
   ],
   "source": [
    "ar[ar<7]"
   ]
  },
  {
   "cell_type": "code",
   "execution_count": 22,
   "id": "ef95b14e",
   "metadata": {},
   "outputs": [
    {
     "data": {
      "text/plain": [
       "array([ True,  True,  True,  True,  True,  True, False, False, False])"
      ]
     },
     "execution_count": 22,
     "metadata": {},
     "output_type": "execute_result"
    }
   ],
   "source": [
    "#with boolion example\n",
    "ar<7"
   ]
  },
  {
   "cell_type": "code",
   "execution_count": 23,
   "id": "1e1bdf48",
   "metadata": {},
   "outputs": [
    {
     "data": {
      "text/plain": [
       "array([False, False, False, False, False,  True,  True,  True,  True])"
      ]
     },
     "execution_count": 23,
     "metadata": {},
     "output_type": "execute_result"
    }
   ],
   "source": [
    "ar>5"
   ]
  },
  {
   "cell_type": "code",
   "execution_count": 28,
   "id": "952ceb1f",
   "metadata": {},
   "outputs": [
    {
     "name": "stdout",
     "output_type": "stream",
     "text": [
      "ar: [1 2 3 4 5 6 7 8 9]\n"
     ]
    },
    {
     "data": {
      "text/plain": [
       "array([2, 4, 6, 8])"
      ]
     },
     "execution_count": 28,
     "metadata": {},
     "output_type": "execute_result"
    }
   ],
   "source": [
    "#finding even value from \"ar\"\n",
    "print(\"ar:\",ar)\n",
    "ar[ar%2 ==0]"
   ]
  },
  {
   "cell_type": "code",
   "execution_count": 30,
   "id": "c299afc2",
   "metadata": {},
   "outputs": [
    {
     "data": {
      "text/plain": [
       "array([7])"
      ]
     },
     "execution_count": 30,
     "metadata": {},
     "output_type": "execute_result"
    }
   ],
   "source": [
    "#accessing element which are equal to numeric 7\n",
    "ar[ar == 7]"
   ]
  },
  {
   "cell_type": "code",
   "execution_count": 36,
   "id": "5687821c",
   "metadata": {},
   "outputs": [
    {
     "data": {
      "text/plain": [
       "array([1, 0, 3, 0, 5, 0, 7, 0, 9])"
      ]
     },
     "execution_count": 36,
     "metadata": {},
     "output_type": "execute_result"
    }
   ],
   "source": [
    "#assinging 0 to the value which are even in the array\n",
    "ar[ar%2 == 0] = 0\n",
    "ar"
   ]
  },
  {
   "cell_type": "code",
   "execution_count": null,
   "id": "f6256c29",
   "metadata": {},
   "outputs": [],
   "source": [
    "data1['Date'].str.replace(\"-\",\"\").astype(int)"
   ]
  },
  {
   "cell_type": "code",
   "execution_count": null,
   "id": "1574502c",
   "metadata": {},
   "outputs": [],
   "source": [
    "data1['dteday']=pd.to_datetime(data1['dteday']).dt.strftime('%m-%d-%Y\"').astype('int')\n"
   ]
  },
  {
   "cell_type": "code",
   "execution_count": null,
   "id": "9bc0f1c0",
   "metadata": {},
   "outputs": [],
   "source": [
    "time data \"13-01-2011\" doesn't match format \"%m-%d-%Y\", at position 12. You might want to try"
   ]
  },
  {
   "cell_type": "code",
   "execution_count": 1,
   "id": "53a7d871",
   "metadata": {},
   "outputs": [],
   "source": [
    "import pandas as pd"
   ]
  },
  {
   "cell_type": "code",
   "execution_count": 2,
   "id": "d166a7e7",
   "metadata": {},
   "outputs": [],
   "source": [
    "data1 = pd.read_csv(\"dataset_1 - dataset_1.csv\")"
   ]
  },
  {
   "cell_type": "code",
   "execution_count": 4,
   "id": "9f31e91d",
   "metadata": {},
   "outputs": [
    {
     "data": {
      "text/plain": [
       "<bound method NDFrame.head of      instant      dteday  season  yr  mnth  hr  holiday  weekday  weathersit  \\\n",
       "0          1  01-01-2011       1   0     1   0    False        6           1   \n",
       "1          2  01-01-2011       1   0     1   1    False        6           1   \n",
       "2          3  01-01-2011       1   0     1   2    False        6           1   \n",
       "3          4  01-01-2011       1   0     1   3    False        6           1   \n",
       "4          5  01-01-2011       1   0     1   4    False        6           1   \n",
       "..       ...         ...     ...  ..   ...  ..      ...      ...         ...   \n",
       "605      606  28-01-2011       1   0     1  11    False        5           3   \n",
       "606      607  28-01-2011       1   0     1  12    False        5           3   \n",
       "607      608  28-01-2011       1   0     1  13    False        5           3   \n",
       "608      609  28-01-2011       1   0     1  14    False        5           3   \n",
       "609      610  28-01-2011       1   0     1  15    False        5           2   \n",
       "\n",
       "     temp  \n",
       "0    0.24  \n",
       "1    0.22  \n",
       "2    0.22  \n",
       "3    0.24  \n",
       "4    0.24  \n",
       "..    ...  \n",
       "605  0.18  \n",
       "606  0.18  \n",
       "607  0.18  \n",
       "608  0.22  \n",
       "609  0.20  \n",
       "\n",
       "[610 rows x 10 columns]>"
      ]
     },
     "execution_count": 4,
     "metadata": {},
     "output_type": "execute_result"
    }
   ],
   "source": [
    "data1.head"
   ]
  },
  {
   "cell_type": "code",
   "execution_count": 16,
   "id": "b5e81935",
   "metadata": {},
   "outputs": [
    {
     "data": {
      "text/plain": [
       "0       1012011\n",
       "1       1012011\n",
       "2       1012011\n",
       "3       1012011\n",
       "4       1012011\n",
       "         ...   \n",
       "605    28012011\n",
       "606    28012011\n",
       "607    28012011\n",
       "608    28012011\n",
       "609    28012011\n",
       "Name: dteday, Length: 610, dtype: int32"
      ]
     },
     "execution_count": 16,
     "metadata": {},
     "output_type": "execute_result"
    }
   ],
   "source": [
    "data1['dteday'].str.replace(\"-\",\"\").astype(int)"
   ]
  },
  {
   "cell_type": "code",
   "execution_count": 14,
   "id": "8e3de507",
   "metadata": {},
   "outputs": [
    {
     "ename": "ValueError",
     "evalue": "time data \"13-01-2011\" doesn't match format \"%m-%d-%Y\", at position 12. You might want to try:\n    - passing `format` if your strings have a consistent format;\n    - passing `format='ISO8601'` if your strings are all ISO8601 but not necessarily in exactly the same format;\n    - passing `format='mixed'`, and the format will be inferred for each element individually. You might want to use `dayfirst` alongside this.",
     "output_type": "error",
     "traceback": [
      "\u001b[1;31m---------------------------------------------------------------------------\u001b[0m",
      "\u001b[1;31mValueError\u001b[0m                                Traceback (most recent call last)",
      "Cell \u001b[1;32mIn[14], line 1\u001b[0m\n\u001b[1;32m----> 1\u001b[0m data1[\u001b[38;5;124m'\u001b[39m\u001b[38;5;124mdteday\u001b[39m\u001b[38;5;124m'\u001b[39m]\u001b[38;5;241m=\u001b[39mpd\u001b[38;5;241m.\u001b[39mto_datetime(data1[\u001b[38;5;124m'\u001b[39m\u001b[38;5;124mdteday\u001b[39m\u001b[38;5;124m'\u001b[39m])\u001b[38;5;241m.\u001b[39mdt\u001b[38;5;241m.\u001b[39mstrftime(\u001b[38;5;124m'\u001b[39m\u001b[38;5;124m%\u001b[39m\u001b[38;5;124mY\u001b[39m\u001b[38;5;124m%\u001b[39m\u001b[38;5;124mm\u001b[39m\u001b[38;5;132;01m%d\u001b[39;00m\u001b[38;5;124m'\u001b[39m)\u001b[38;5;241m.\u001b[39mastype(\u001b[38;5;124m'\u001b[39m\u001b[38;5;124mint\u001b[39m\u001b[38;5;124m'\u001b[39m)\n",
      "File \u001b[1;32m~\\anaconda3\\Lib\\site-packages\\pandas\\core\\tools\\datetimes.py:1046\u001b[0m, in \u001b[0;36mto_datetime\u001b[1;34m(arg, errors, dayfirst, yearfirst, utc, format, exact, unit, infer_datetime_format, origin, cache)\u001b[0m\n\u001b[0;32m   1044\u001b[0m             result \u001b[38;5;241m=\u001b[39m arg\u001b[38;5;241m.\u001b[39mtz_localize(\u001b[38;5;124m\"\u001b[39m\u001b[38;5;124mutc\u001b[39m\u001b[38;5;124m\"\u001b[39m)\n\u001b[0;32m   1045\u001b[0m \u001b[38;5;28;01melif\u001b[39;00m \u001b[38;5;28misinstance\u001b[39m(arg, ABCSeries):\n\u001b[1;32m-> 1046\u001b[0m     cache_array \u001b[38;5;241m=\u001b[39m _maybe_cache(arg, \u001b[38;5;28mformat\u001b[39m, cache, convert_listlike)\n\u001b[0;32m   1047\u001b[0m     \u001b[38;5;28;01mif\u001b[39;00m \u001b[38;5;129;01mnot\u001b[39;00m cache_array\u001b[38;5;241m.\u001b[39mempty:\n\u001b[0;32m   1048\u001b[0m         result \u001b[38;5;241m=\u001b[39m arg\u001b[38;5;241m.\u001b[39mmap(cache_array)\n",
      "File \u001b[1;32m~\\anaconda3\\Lib\\site-packages\\pandas\\core\\tools\\datetimes.py:250\u001b[0m, in \u001b[0;36m_maybe_cache\u001b[1;34m(arg, format, cache, convert_listlike)\u001b[0m\n\u001b[0;32m    248\u001b[0m unique_dates \u001b[38;5;241m=\u001b[39m unique(arg)\n\u001b[0;32m    249\u001b[0m \u001b[38;5;28;01mif\u001b[39;00m \u001b[38;5;28mlen\u001b[39m(unique_dates) \u001b[38;5;241m<\u001b[39m \u001b[38;5;28mlen\u001b[39m(arg):\n\u001b[1;32m--> 250\u001b[0m     cache_dates \u001b[38;5;241m=\u001b[39m convert_listlike(unique_dates, \u001b[38;5;28mformat\u001b[39m)\n\u001b[0;32m    251\u001b[0m     \u001b[38;5;66;03m# GH#45319\u001b[39;00m\n\u001b[0;32m    252\u001b[0m     \u001b[38;5;28;01mtry\u001b[39;00m:\n",
      "File \u001b[1;32m~\\anaconda3\\Lib\\site-packages\\pandas\\core\\tools\\datetimes.py:453\u001b[0m, in \u001b[0;36m_convert_listlike_datetimes\u001b[1;34m(arg, format, name, utc, unit, errors, dayfirst, yearfirst, exact)\u001b[0m\n\u001b[0;32m    451\u001b[0m \u001b[38;5;66;03m# `format` could be inferred, or user didn't ask for mixed-format parsing.\u001b[39;00m\n\u001b[0;32m    452\u001b[0m \u001b[38;5;28;01mif\u001b[39;00m \u001b[38;5;28mformat\u001b[39m \u001b[38;5;129;01mis\u001b[39;00m \u001b[38;5;129;01mnot\u001b[39;00m \u001b[38;5;28;01mNone\u001b[39;00m \u001b[38;5;129;01mand\u001b[39;00m \u001b[38;5;28mformat\u001b[39m \u001b[38;5;241m!=\u001b[39m \u001b[38;5;124m\"\u001b[39m\u001b[38;5;124mmixed\u001b[39m\u001b[38;5;124m\"\u001b[39m:\n\u001b[1;32m--> 453\u001b[0m     \u001b[38;5;28;01mreturn\u001b[39;00m _array_strptime_with_fallback(arg, name, utc, \u001b[38;5;28mformat\u001b[39m, exact, errors)\n\u001b[0;32m    455\u001b[0m result, tz_parsed \u001b[38;5;241m=\u001b[39m objects_to_datetime64ns(\n\u001b[0;32m    456\u001b[0m     arg,\n\u001b[0;32m    457\u001b[0m     dayfirst\u001b[38;5;241m=\u001b[39mdayfirst,\n\u001b[1;32m   (...)\u001b[0m\n\u001b[0;32m    461\u001b[0m     allow_object\u001b[38;5;241m=\u001b[39m\u001b[38;5;28;01mTrue\u001b[39;00m,\n\u001b[0;32m    462\u001b[0m )\n\u001b[0;32m    464\u001b[0m \u001b[38;5;28;01mif\u001b[39;00m tz_parsed \u001b[38;5;129;01mis\u001b[39;00m \u001b[38;5;129;01mnot\u001b[39;00m \u001b[38;5;28;01mNone\u001b[39;00m:\n\u001b[0;32m    465\u001b[0m     \u001b[38;5;66;03m# We can take a shortcut since the datetime64 numpy array\u001b[39;00m\n\u001b[0;32m    466\u001b[0m     \u001b[38;5;66;03m# is in UTC\u001b[39;00m\n",
      "File \u001b[1;32m~\\anaconda3\\Lib\\site-packages\\pandas\\core\\tools\\datetimes.py:484\u001b[0m, in \u001b[0;36m_array_strptime_with_fallback\u001b[1;34m(arg, name, utc, fmt, exact, errors)\u001b[0m\n\u001b[0;32m    473\u001b[0m \u001b[38;5;28;01mdef\u001b[39;00m \u001b[38;5;21m_array_strptime_with_fallback\u001b[39m(\n\u001b[0;32m    474\u001b[0m     arg,\n\u001b[0;32m    475\u001b[0m     name,\n\u001b[1;32m   (...)\u001b[0m\n\u001b[0;32m    479\u001b[0m     errors: \u001b[38;5;28mstr\u001b[39m,\n\u001b[0;32m    480\u001b[0m ) \u001b[38;5;241m-\u001b[39m\u001b[38;5;241m>\u001b[39m Index:\n\u001b[0;32m    481\u001b[0m \u001b[38;5;250m    \u001b[39m\u001b[38;5;124;03m\"\"\"\u001b[39;00m\n\u001b[0;32m    482\u001b[0m \u001b[38;5;124;03m    Call array_strptime, with fallback behavior depending on 'errors'.\u001b[39;00m\n\u001b[0;32m    483\u001b[0m \u001b[38;5;124;03m    \"\"\"\u001b[39;00m\n\u001b[1;32m--> 484\u001b[0m     result, timezones \u001b[38;5;241m=\u001b[39m array_strptime(arg, fmt, exact\u001b[38;5;241m=\u001b[39mexact, errors\u001b[38;5;241m=\u001b[39merrors, utc\u001b[38;5;241m=\u001b[39mutc)\n\u001b[0;32m    485\u001b[0m     \u001b[38;5;28;01mif\u001b[39;00m \u001b[38;5;28many\u001b[39m(tz \u001b[38;5;129;01mis\u001b[39;00m \u001b[38;5;129;01mnot\u001b[39;00m \u001b[38;5;28;01mNone\u001b[39;00m \u001b[38;5;28;01mfor\u001b[39;00m tz \u001b[38;5;129;01min\u001b[39;00m timezones):\n\u001b[0;32m    486\u001b[0m         \u001b[38;5;28;01mreturn\u001b[39;00m _return_parsed_timezone_results(result, timezones, utc, name)\n",
      "File \u001b[1;32m~\\anaconda3\\Lib\\site-packages\\pandas\\_libs\\tslibs\\strptime.pyx:530\u001b[0m, in \u001b[0;36mpandas._libs.tslibs.strptime.array_strptime\u001b[1;34m()\u001b[0m\n",
      "File \u001b[1;32m~\\anaconda3\\Lib\\site-packages\\pandas\\_libs\\tslibs\\strptime.pyx:351\u001b[0m, in \u001b[0;36mpandas._libs.tslibs.strptime.array_strptime\u001b[1;34m()\u001b[0m\n",
      "\u001b[1;31mValueError\u001b[0m: time data \"13-01-2011\" doesn't match format \"%m-%d-%Y\", at position 12. You might want to try:\n    - passing `format` if your strings have a consistent format;\n    - passing `format='ISO8601'` if your strings are all ISO8601 but not necessarily in exactly the same format;\n    - passing `format='mixed'`, and the format will be inferred for each element individually. You might want to use `dayfirst` alongside this."
     ]
    }
   ],
   "source": [
    "data1['dteday']=pd.to_datetime(data1['dteday']).dt.strftime('%Y%m%d').astype('int')"
   ]
  },
  {
   "cell_type": "code",
   "execution_count": 7,
   "id": "7fbb064c",
   "metadata": {},
   "outputs": [],
   "source": [
    "date_string = \"13-01-2011\"\n",
    "date_format = \"%m-%d-%Y\""
   ]
  },
  {
   "cell_type": "code",
   "execution_count": 12,
   "id": "84edf927",
   "metadata": {},
   "outputs": [
    {
     "ename": "NameError",
     "evalue": "name 'datetime' is not defined",
     "output_type": "error",
     "traceback": [
      "\u001b[1;31m---------------------------------------------------------------------------\u001b[0m",
      "\u001b[1;31mNameError\u001b[0m                                 Traceback (most recent call last)",
      "Cell \u001b[1;32mIn[12], line 1\u001b[0m\n\u001b[1;32m----> 1\u001b[0m parsed_date \u001b[38;5;241m=\u001b[39m datetime\u001b[38;5;241m.\u001b[39mstrptime(date_string, date_format)\n\u001b[0;32m      2\u001b[0m \u001b[38;5;28mprint\u001b[39m(\u001b[38;5;124m\"\u001b[39m\u001b[38;5;124mParsed date:\u001b[39m\u001b[38;5;124m\"\u001b[39m, parsed_date)\n",
      "\u001b[1;31mNameError\u001b[0m: name 'datetime' is not defined"
     ]
    }
   ],
   "source": [
    "parsed_date = datetime.strptime(date_string, date_format)\n",
    "print(\"Parsed date:\", parsed_date)"
   ]
  },
  {
   "cell_type": "code",
   "execution_count": 1,
   "id": "5f7043e3",
   "metadata": {},
   "outputs": [],
   "source": [
    "import numpy as np"
   ]
  },
  {
   "cell_type": "code",
   "execution_count": 2,
   "id": "2684f5f5",
   "metadata": {},
   "outputs": [
    {
     "data": {
      "text/plain": [
       "array([5, 7, 8, 9, 4])"
      ]
     },
     "execution_count": 2,
     "metadata": {},
     "output_type": "execute_result"
    }
   ],
   "source": [
    "#operation array with scaler\n",
    "array = np.array([5,7,8,9,4])\n",
    "array"
   ]
  },
  {
   "cell_type": "code",
   "execution_count": 3,
   "id": "0306adf6",
   "metadata": {},
   "outputs": [
    {
     "data": {
      "text/plain": [
       "array([10, 14, 16, 18,  8])"
      ]
     },
     "execution_count": 3,
     "metadata": {},
     "output_type": "execute_result"
    }
   ],
   "source": [
    "array*2"
   ]
  },
  {
   "cell_type": "code",
   "execution_count": 4,
   "id": "4767d284",
   "metadata": {},
   "outputs": [
    {
     "data": {
      "text/plain": [
       "array([10, 12, 13, 14,  9])"
      ]
     },
     "execution_count": 4,
     "metadata": {},
     "output_type": "execute_result"
    }
   ],
   "source": [
    "array+5"
   ]
  },
  {
   "cell_type": "code",
   "execution_count": 5,
   "id": "a3c911b4",
   "metadata": {},
   "outputs": [
    {
     "data": {
      "text/plain": [
       "array([2.5, 3.5, 4. , 4.5, 2. ])"
      ]
     },
     "execution_count": 5,
     "metadata": {},
     "output_type": "execute_result"
    }
   ],
   "source": [
    "array/2"
   ]
  },
  {
   "cell_type": "code",
   "execution_count": 6,
   "id": "9943c14a",
   "metadata": {},
   "outputs": [
    {
     "data": {
      "text/plain": [
       "array([25, 49, 64, 81, 16])"
      ]
     },
     "execution_count": 6,
     "metadata": {},
     "output_type": "execute_result"
    }
   ],
   "source": [
    "array**2"
   ]
  },
  {
   "cell_type": "code",
   "execution_count": 1,
   "id": "f5f6111a",
   "metadata": {},
   "outputs": [],
   "source": [
    "import pandas as pd"
   ]
  },
  {
   "cell_type": "code",
   "execution_count": 6,
   "id": "1ff05545",
   "metadata": {},
   "outputs": [],
   "source": [
    "data = pd.read_csv('BILLING.csv')"
   ]
  },
  {
   "cell_type": "code",
   "execution_count": 9,
   "id": "959f3b41",
   "metadata": {},
   "outputs": [
    {
     "data": {
      "text/html": [
       "<div>\n",
       "<style scoped>\n",
       "    .dataframe tbody tr th:only-of-type {\n",
       "        vertical-align: middle;\n",
       "    }\n",
       "\n",
       "    .dataframe tbody tr th {\n",
       "        vertical-align: top;\n",
       "    }\n",
       "\n",
       "    .dataframe thead th {\n",
       "        text-align: right;\n",
       "    }\n",
       "</style>\n",
       "<table border=\"1\" class=\"dataframe\">\n",
       "  <thead>\n",
       "    <tr style=\"text-align: right;\">\n",
       "      <th></th>\n",
       "      <th>Contract Account</th>\n",
       "      <th>consumption  Start date</th>\n",
       "      <th>consumption  end date</th>\n",
       "      <th>BILL NUBER</th>\n",
       "      <th>BILLDATE</th>\n",
       "      <th>Bill due Date</th>\n",
       "      <th>Ownership Group</th>\n",
       "      <th>San Category</th>\n",
       "      <th>Contract Dmd</th>\n",
       "      <th>San Load</th>\n",
       "      <th>...</th>\n",
       "      <th>Billed Unit</th>\n",
       "      <th>Fixed Charges</th>\n",
       "      <th>Demand Charges</th>\n",
       "      <th>Energy Charges</th>\n",
       "      <th>E Tax</th>\n",
       "      <th>Current Demand</th>\n",
       "      <th>Amount Payable</th>\n",
       "      <th>Peak Unit</th>\n",
       "      <th>Normal Unit</th>\n",
       "      <th>Off Peak Unit</th>\n",
       "    </tr>\n",
       "  </thead>\n",
       "  <tbody>\n",
       "    <tr>\n",
       "      <th>0</th>\n",
       "      <td>60000111111</td>\n",
       "      <td>01.08.2013</td>\n",
       "      <td>31.08.2013</td>\n",
       "      <td>10013111111</td>\n",
       "      <td>23.09.2013</td>\n",
       "      <td>08.10.2013</td>\n",
       "      <td>KCG</td>\n",
       "      <td>E-LIP&gt;100</td>\n",
       "      <td>209.0</td>\n",
       "      <td>296</td>\n",
       "      <td>...</td>\n",
       "      <td>31,548</td>\n",
       "      <td>0</td>\n",
       "      <td>26,125.00</td>\n",
       "      <td>2,08,216.80</td>\n",
       "      <td>11,314.91</td>\n",
       "      <td>2,65,828.23</td>\n",
       "      <td>2,65,830.00</td>\n",
       "      <td>8,922</td>\n",
       "      <td>15,006</td>\n",
       "      <td>7,590</td>\n",
       "    </tr>\n",
       "    <tr>\n",
       "      <th>1</th>\n",
       "      <td>60000111111</td>\n",
       "      <td>01.09.2013</td>\n",
       "      <td>Merged</td>\n",
       "      <td>10013111112</td>\n",
       "      <td>14.10.2013</td>\n",
       "      <td>29.10.2013</td>\n",
       "      <td>KCG</td>\n",
       "      <td>E-LIP&gt;100</td>\n",
       "      <td>209.0</td>\n",
       "      <td>296</td>\n",
       "      <td>...</td>\n",
       "      <td>29,712</td>\n",
       "      <td>0</td>\n",
       "      <td>26,125.00</td>\n",
       "      <td>1,96,099.20</td>\n",
       "      <td>10,704.19</td>\n",
       "      <td>2,53,002.97</td>\n",
       "      <td>2,53,000.00</td>\n",
       "      <td>9,114</td>\n",
       "      <td>13,626</td>\n",
       "      <td>6,966</td>\n",
       "    </tr>\n",
       "    <tr>\n",
       "      <th>2</th>\n",
       "      <td>60000111111</td>\n",
       "      <td>01.10.2013</td>\n",
       "      <td>31.10.2013</td>\n",
       "      <td>10013111113</td>\n",
       "      <td>25.11.2013</td>\n",
       "      <td>10.12.2013</td>\n",
       "      <td>KCG</td>\n",
       "      <td>E-LIP&gt;100</td>\n",
       "      <td>209.0</td>\n",
       "      <td>296</td>\n",
       "      <td>...</td>\n",
       "      <td>28,092</td>\n",
       "      <td>0</td>\n",
       "      <td>26,125.00</td>\n",
       "      <td>1,85,407.20</td>\n",
       "      <td>9,656.49</td>\n",
       "      <td>2,31,001.09</td>\n",
       "      <td>2,31,000.00</td>\n",
       "      <td>3,084</td>\n",
       "      <td>16,302</td>\n",
       "      <td>8,706</td>\n",
       "    </tr>\n",
       "    <tr>\n",
       "      <th>3</th>\n",
       "      <td>60000111111</td>\n",
       "      <td>15.03.2013</td>\n",
       "      <td>09.04.2013</td>\n",
       "      <td>10013111114</td>\n",
       "      <td>10.04.2013</td>\n",
       "      <td>25.04.2013</td>\n",
       "      <td>KCG</td>\n",
       "      <td>E-LIP&gt;100</td>\n",
       "      <td>209.0</td>\n",
       "      <td>296</td>\n",
       "      <td>...</td>\n",
       "      <td>16,578</td>\n",
       "      <td>0</td>\n",
       "      <td>22,164.45</td>\n",
       "      <td>1,04,441.40</td>\n",
       "      <td>5,718.17</td>\n",
       "      <td>1,44,351.58</td>\n",
       "      <td>1,44,350.00</td>\n",
       "      <td>0</td>\n",
       "      <td>0</td>\n",
       "      <td>0</td>\n",
       "    </tr>\n",
       "    <tr>\n",
       "      <th>4</th>\n",
       "      <td>60000111111</td>\n",
       "      <td>01.11.2013</td>\n",
       "      <td>12.12.2013</td>\n",
       "      <td>10013111115</td>\n",
       "      <td>14.12.2013</td>\n",
       "      <td>30.12.2013</td>\n",
       "      <td>KCG</td>\n",
       "      <td>E-LIP&gt;100</td>\n",
       "      <td>209.0</td>\n",
       "      <td>296</td>\n",
       "      <td>...</td>\n",
       "      <td>22,950</td>\n",
       "      <td>0</td>\n",
       "      <td>36,237.99</td>\n",
       "      <td>1,51,470.00</td>\n",
       "      <td>7,803.56</td>\n",
       "      <td>2,03,011.71</td>\n",
       "      <td>2,03,010.00</td>\n",
       "      <td>1,974</td>\n",
       "      <td>12,630</td>\n",
       "      <td>8,346</td>\n",
       "    </tr>\n",
       "    <tr>\n",
       "      <th>...</th>\n",
       "      <td>...</td>\n",
       "      <td>...</td>\n",
       "      <td>...</td>\n",
       "      <td>...</td>\n",
       "      <td>...</td>\n",
       "      <td>...</td>\n",
       "      <td>...</td>\n",
       "      <td>...</td>\n",
       "      <td>...</td>\n",
       "      <td>...</td>\n",
       "      <td>...</td>\n",
       "      <td>...</td>\n",
       "      <td>...</td>\n",
       "      <td>...</td>\n",
       "      <td>...</td>\n",
       "      <td>...</td>\n",
       "      <td>...</td>\n",
       "      <td>...</td>\n",
       "      <td>...</td>\n",
       "      <td>...</td>\n",
       "      <td>...</td>\n",
       "    </tr>\n",
       "    <tr>\n",
       "      <th>686</th>\n",
       "      <td>60000111135</td>\n",
       "      <td>09.01.2014</td>\n",
       "      <td>06.02.2014</td>\n",
       "      <td>10013111797</td>\n",
       "      <td>07.02.2014</td>\n",
       "      <td>24.02.2014</td>\n",
       "      <td>HRB</td>\n",
       "      <td>E-SIP</td>\n",
       "      <td>NaN</td>\n",
       "      <td>95</td>\n",
       "      <td>...</td>\n",
       "      <td>7,139</td>\n",
       "      <td>8,175.52</td>\n",
       "      <td>0</td>\n",
       "      <td>49,973.00</td>\n",
       "      <td>2,734.75</td>\n",
       "      <td>66,387.63</td>\n",
       "      <td>66,390.00</td>\n",
       "      <td>0</td>\n",
       "      <td>0</td>\n",
       "      <td>0</td>\n",
       "    </tr>\n",
       "    <tr>\n",
       "      <th>687</th>\n",
       "      <td>60000111135</td>\n",
       "      <td>07.11.2014</td>\n",
       "      <td>06.12.2014</td>\n",
       "      <td>10013111798</td>\n",
       "      <td>07.12.2014</td>\n",
       "      <td>24.12.2014</td>\n",
       "      <td>HRB</td>\n",
       "      <td>E-SIP</td>\n",
       "      <td>NaN</td>\n",
       "      <td>95</td>\n",
       "      <td>...</td>\n",
       "      <td>10,205</td>\n",
       "      <td>8,583.84</td>\n",
       "      <td>0</td>\n",
       "      <td>80,619.50</td>\n",
       "      <td>4,301.68</td>\n",
       "      <td>99,605.93</td>\n",
       "      <td>99,600.00</td>\n",
       "      <td>2,717</td>\n",
       "      <td>4,830</td>\n",
       "      <td>2,659</td>\n",
       "    </tr>\n",
       "    <tr>\n",
       "      <th>688</th>\n",
       "      <td>60000111135</td>\n",
       "      <td>07.10.2014</td>\n",
       "      <td>06.11.2014</td>\n",
       "      <td>10013111799</td>\n",
       "      <td>09.11.2014</td>\n",
       "      <td>26.11.2014</td>\n",
       "      <td>HRB</td>\n",
       "      <td>E-SIP</td>\n",
       "      <td>NaN</td>\n",
       "      <td>95</td>\n",
       "      <td>...</td>\n",
       "      <td>13,069</td>\n",
       "      <td>8,696.16</td>\n",
       "      <td>0</td>\n",
       "      <td>1,03,245.10</td>\n",
       "      <td>5,509.22</td>\n",
       "      <td>1,25,085.45</td>\n",
       "      <td>1,25,090.00</td>\n",
       "      <td>3,535</td>\n",
       "      <td>6,087</td>\n",
       "      <td>3,447</td>\n",
       "    </tr>\n",
       "    <tr>\n",
       "      <th>689</th>\n",
       "      <td>60000111135</td>\n",
       "      <td>07.06.2013</td>\n",
       "      <td>09.07.2013</td>\n",
       "      <td>10013111800</td>\n",
       "      <td>10.07.2013</td>\n",
       "      <td>27.07.2013</td>\n",
       "      <td>HRB</td>\n",
       "      <td>E-SIP</td>\n",
       "      <td>NaN</td>\n",
       "      <td>95</td>\n",
       "      <td>...</td>\n",
       "      <td>16,262</td>\n",
       "      <td>9,420.19</td>\n",
       "      <td>0</td>\n",
       "      <td>1,07,329.20</td>\n",
       "      <td>5,956.77</td>\n",
       "      <td>1,35,548.61</td>\n",
       "      <td>1,36,120.00</td>\n",
       "      <td>0</td>\n",
       "      <td>0</td>\n",
       "      <td>0</td>\n",
       "    </tr>\n",
       "    <tr>\n",
       "      <th>690</th>\n",
       "      <td>60000111135</td>\n",
       "      <td>11.04.2013</td>\n",
       "      <td>01.05.2013</td>\n",
       "      <td>10013111801</td>\n",
       "      <td>09.05.2013</td>\n",
       "      <td>27.05.2013</td>\n",
       "      <td>HRB</td>\n",
       "      <td>E-SIP</td>\n",
       "      <td>NaN</td>\n",
       "      <td>95</td>\n",
       "      <td>...</td>\n",
       "      <td>8,287</td>\n",
       "      <td>6,039.36</td>\n",
       "      <td>0</td>\n",
       "      <td>54,694.20</td>\n",
       "      <td>2,996.47</td>\n",
       "      <td>69,543.01</td>\n",
       "      <td>69,540.00</td>\n",
       "      <td>0</td>\n",
       "      <td>0</td>\n",
       "      <td>0</td>\n",
       "    </tr>\n",
       "  </tbody>\n",
       "</table>\n",
       "<p>691 rows × 24 columns</p>\n",
       "</div>"
      ],
      "text/plain": [
       "     Contract Account consumption  Start date  consumption  end date   \\\n",
       "0         60000111111               01.08.2013             31.08.2013   \n",
       "1         60000111111               01.09.2013                 Merged   \n",
       "2         60000111111               01.10.2013             31.10.2013   \n",
       "3         60000111111               15.03.2013             09.04.2013   \n",
       "4         60000111111               01.11.2013             12.12.2013   \n",
       "..                ...                      ...                    ...   \n",
       "686       60000111135               09.01.2014             06.02.2014   \n",
       "687       60000111135               07.11.2014             06.12.2014   \n",
       "688       60000111135               07.10.2014             06.11.2014   \n",
       "689       60000111135               07.06.2013             09.07.2013   \n",
       "690       60000111135               11.04.2013             01.05.2013   \n",
       "\n",
       "      BILL NUBER    BILLDATE Bill due Date Ownership Group San Category  \\\n",
       "0    10013111111  23.09.2013    08.10.2013             KCG    E-LIP>100   \n",
       "1    10013111112  14.10.2013    29.10.2013             KCG    E-LIP>100   \n",
       "2    10013111113  25.11.2013    10.12.2013             KCG    E-LIP>100   \n",
       "3    10013111114  10.04.2013    25.04.2013             KCG    E-LIP>100   \n",
       "4    10013111115  14.12.2013    30.12.2013             KCG    E-LIP>100   \n",
       "..           ...         ...           ...             ...          ...   \n",
       "686  10013111797  07.02.2014    24.02.2014             HRB        E-SIP   \n",
       "687  10013111798  07.12.2014    24.12.2014             HRB        E-SIP   \n",
       "688  10013111799  09.11.2014    26.11.2014             HRB        E-SIP   \n",
       "689  10013111800  10.07.2013    27.07.2013             HRB        E-SIP   \n",
       "690  10013111801  09.05.2013    27.05.2013             HRB        E-SIP   \n",
       "\n",
       "     Contract Dmd  San Load  ...  Billed Unit Fixed Charges Demand Charges  \\\n",
       "0           209.0       296  ...       31,548             0      26,125.00   \n",
       "1           209.0       296  ...       29,712             0      26,125.00   \n",
       "2           209.0       296  ...       28,092             0      26,125.00   \n",
       "3           209.0       296  ...       16,578             0      22,164.45   \n",
       "4           209.0       296  ...       22,950             0      36,237.99   \n",
       "..            ...       ...  ...          ...           ...            ...   \n",
       "686           NaN        95  ...        7,139      8,175.52              0   \n",
       "687           NaN        95  ...       10,205      8,583.84              0   \n",
       "688           NaN        95  ...       13,069      8,696.16              0   \n",
       "689           NaN        95  ...       16,262      9,420.19              0   \n",
       "690           NaN        95  ...        8,287      6,039.36              0   \n",
       "\n",
       "    Energy Charges      E Tax Current Demand Amount Payable Peak Unit  \\\n",
       "0      2,08,216.80  11,314.91    2,65,828.23    2,65,830.00     8,922   \n",
       "1      1,96,099.20  10,704.19    2,53,002.97    2,53,000.00     9,114   \n",
       "2      1,85,407.20   9,656.49    2,31,001.09    2,31,000.00     3,084   \n",
       "3      1,04,441.40   5,718.17    1,44,351.58    1,44,350.00         0   \n",
       "4      1,51,470.00   7,803.56    2,03,011.71    2,03,010.00     1,974   \n",
       "..             ...        ...            ...            ...       ...   \n",
       "686      49,973.00   2,734.75      66,387.63      66,390.00         0   \n",
       "687      80,619.50   4,301.68      99,605.93      99,600.00     2,717   \n",
       "688    1,03,245.10   5,509.22    1,25,085.45    1,25,090.00     3,535   \n",
       "689    1,07,329.20   5,956.77    1,35,548.61    1,36,120.00         0   \n",
       "690      54,694.20   2,996.47      69,543.01      69,540.00         0   \n",
       "\n",
       "    Normal Unit Off Peak Unit  \n",
       "0        15,006         7,590  \n",
       "1        13,626         6,966  \n",
       "2        16,302         8,706  \n",
       "3             0             0  \n",
       "4        12,630         8,346  \n",
       "..          ...           ...  \n",
       "686           0             0  \n",
       "687       4,830         2,659  \n",
       "688       6,087         3,447  \n",
       "689           0             0  \n",
       "690           0             0  \n",
       "\n",
       "[691 rows x 24 columns]"
      ]
     },
     "execution_count": 9,
     "metadata": {},
     "output_type": "execute_result"
    }
   ],
   "source": [
    "data"
   ]
  },
  {
   "cell_type": "code",
   "execution_count": 17,
   "id": "586fe802",
   "metadata": {},
   "outputs": [
    {
     "data": {
      "text/html": [
       "<div>\n",
       "<style scoped>\n",
       "    .dataframe tbody tr th:only-of-type {\n",
       "        vertical-align: middle;\n",
       "    }\n",
       "\n",
       "    .dataframe tbody tr th {\n",
       "        vertical-align: top;\n",
       "    }\n",
       "\n",
       "    .dataframe thead th {\n",
       "        text-align: right;\n",
       "    }\n",
       "</style>\n",
       "<table border=\"1\" class=\"dataframe\">\n",
       "  <thead>\n",
       "    <tr style=\"text-align: right;\">\n",
       "      <th></th>\n",
       "      <th>Contract Account</th>\n",
       "      <th>consumption  Start date</th>\n",
       "      <th>consumption  end date</th>\n",
       "      <th>BILL NUBER</th>\n",
       "      <th>BILLDATE</th>\n",
       "      <th>Bill due Date</th>\n",
       "      <th>Ownership Group</th>\n",
       "      <th>San Category</th>\n",
       "      <th>Contract Dmd</th>\n",
       "      <th>San Load</th>\n",
       "      <th>...</th>\n",
       "      <th>Billed Unit</th>\n",
       "      <th>Fixed Charges</th>\n",
       "      <th>Demand Charges</th>\n",
       "      <th>Energy Charges</th>\n",
       "      <th>E Tax</th>\n",
       "      <th>Current Demand</th>\n",
       "      <th>Amount Payable</th>\n",
       "      <th>Peak Unit</th>\n",
       "      <th>Normal Unit</th>\n",
       "      <th>Off Peak Unit</th>\n",
       "    </tr>\n",
       "  </thead>\n",
       "  <tbody>\n",
       "    <tr>\n",
       "      <th>0</th>\n",
       "      <td>60000111111</td>\n",
       "      <td>01.08.2013</td>\n",
       "      <td>31.08.2013</td>\n",
       "      <td>10013111111</td>\n",
       "      <td>23.09.2013</td>\n",
       "      <td>08.10.2013</td>\n",
       "      <td>KCG</td>\n",
       "      <td>E-LIP&gt;100</td>\n",
       "      <td>209.0</td>\n",
       "      <td>296</td>\n",
       "      <td>...</td>\n",
       "      <td>31,548</td>\n",
       "      <td>0</td>\n",
       "      <td>26,125.00</td>\n",
       "      <td>2,08,216.80</td>\n",
       "      <td>11,314.91</td>\n",
       "      <td>2,65,828.23</td>\n",
       "      <td>2,65,830.00</td>\n",
       "      <td>8,922</td>\n",
       "      <td>15,006</td>\n",
       "      <td>7,590</td>\n",
       "    </tr>\n",
       "    <tr>\n",
       "      <th>1</th>\n",
       "      <td>60000111111</td>\n",
       "      <td>01.09.2013</td>\n",
       "      <td>Merged</td>\n",
       "      <td>10013111112</td>\n",
       "      <td>14.10.2013</td>\n",
       "      <td>29.10.2013</td>\n",
       "      <td>KCG</td>\n",
       "      <td>E-LIP&gt;100</td>\n",
       "      <td>209.0</td>\n",
       "      <td>296</td>\n",
       "      <td>...</td>\n",
       "      <td>29,712</td>\n",
       "      <td>0</td>\n",
       "      <td>26,125.00</td>\n",
       "      <td>1,96,099.20</td>\n",
       "      <td>10,704.19</td>\n",
       "      <td>2,53,002.97</td>\n",
       "      <td>2,53,000.00</td>\n",
       "      <td>9,114</td>\n",
       "      <td>13,626</td>\n",
       "      <td>6,966</td>\n",
       "    </tr>\n",
       "    <tr>\n",
       "      <th>2</th>\n",
       "      <td>60000111111</td>\n",
       "      <td>01.10.2013</td>\n",
       "      <td>31.10.2013</td>\n",
       "      <td>10013111113</td>\n",
       "      <td>25.11.2013</td>\n",
       "      <td>10.12.2013</td>\n",
       "      <td>KCG</td>\n",
       "      <td>E-LIP&gt;100</td>\n",
       "      <td>209.0</td>\n",
       "      <td>296</td>\n",
       "      <td>...</td>\n",
       "      <td>28,092</td>\n",
       "      <td>0</td>\n",
       "      <td>26,125.00</td>\n",
       "      <td>1,85,407.20</td>\n",
       "      <td>9,656.49</td>\n",
       "      <td>2,31,001.09</td>\n",
       "      <td>2,31,000.00</td>\n",
       "      <td>3,084</td>\n",
       "      <td>16,302</td>\n",
       "      <td>8,706</td>\n",
       "    </tr>\n",
       "    <tr>\n",
       "      <th>3</th>\n",
       "      <td>60000111111</td>\n",
       "      <td>15.03.2013</td>\n",
       "      <td>09.04.2013</td>\n",
       "      <td>10013111114</td>\n",
       "      <td>10.04.2013</td>\n",
       "      <td>25.04.2013</td>\n",
       "      <td>KCG</td>\n",
       "      <td>E-LIP&gt;100</td>\n",
       "      <td>209.0</td>\n",
       "      <td>296</td>\n",
       "      <td>...</td>\n",
       "      <td>16,578</td>\n",
       "      <td>0</td>\n",
       "      <td>22,164.45</td>\n",
       "      <td>1,04,441.40</td>\n",
       "      <td>5,718.17</td>\n",
       "      <td>1,44,351.58</td>\n",
       "      <td>1,44,350.00</td>\n",
       "      <td>0</td>\n",
       "      <td>0</td>\n",
       "      <td>0</td>\n",
       "    </tr>\n",
       "    <tr>\n",
       "      <th>4</th>\n",
       "      <td>60000111111</td>\n",
       "      <td>01.11.2013</td>\n",
       "      <td>12.12.2013</td>\n",
       "      <td>10013111115</td>\n",
       "      <td>14.12.2013</td>\n",
       "      <td>30.12.2013</td>\n",
       "      <td>KCG</td>\n",
       "      <td>E-LIP&gt;100</td>\n",
       "      <td>209.0</td>\n",
       "      <td>296</td>\n",
       "      <td>...</td>\n",
       "      <td>22,950</td>\n",
       "      <td>0</td>\n",
       "      <td>36,237.99</td>\n",
       "      <td>1,51,470.00</td>\n",
       "      <td>7,803.56</td>\n",
       "      <td>2,03,011.71</td>\n",
       "      <td>2,03,010.00</td>\n",
       "      <td>1,974</td>\n",
       "      <td>12,630</td>\n",
       "      <td>8,346</td>\n",
       "    </tr>\n",
       "    <tr>\n",
       "      <th>...</th>\n",
       "      <td>...</td>\n",
       "      <td>...</td>\n",
       "      <td>...</td>\n",
       "      <td>...</td>\n",
       "      <td>...</td>\n",
       "      <td>...</td>\n",
       "      <td>...</td>\n",
       "      <td>...</td>\n",
       "      <td>...</td>\n",
       "      <td>...</td>\n",
       "      <td>...</td>\n",
       "      <td>...</td>\n",
       "      <td>...</td>\n",
       "      <td>...</td>\n",
       "      <td>...</td>\n",
       "      <td>...</td>\n",
       "      <td>...</td>\n",
       "      <td>...</td>\n",
       "      <td>...</td>\n",
       "      <td>...</td>\n",
       "      <td>...</td>\n",
       "    </tr>\n",
       "    <tr>\n",
       "      <th>686</th>\n",
       "      <td>60000111135</td>\n",
       "      <td>09.01.2014</td>\n",
       "      <td>06.02.2014</td>\n",
       "      <td>10013111797</td>\n",
       "      <td>07.02.2014</td>\n",
       "      <td>24.02.2014</td>\n",
       "      <td>HRB</td>\n",
       "      <td>E-SIP</td>\n",
       "      <td>NaN</td>\n",
       "      <td>95</td>\n",
       "      <td>...</td>\n",
       "      <td>7,139</td>\n",
       "      <td>8,175.52</td>\n",
       "      <td>0</td>\n",
       "      <td>49,973.00</td>\n",
       "      <td>2,734.75</td>\n",
       "      <td>66,387.63</td>\n",
       "      <td>66,390.00</td>\n",
       "      <td>0</td>\n",
       "      <td>0</td>\n",
       "      <td>0</td>\n",
       "    </tr>\n",
       "    <tr>\n",
       "      <th>687</th>\n",
       "      <td>60000111135</td>\n",
       "      <td>07.11.2014</td>\n",
       "      <td>06.12.2014</td>\n",
       "      <td>10013111798</td>\n",
       "      <td>07.12.2014</td>\n",
       "      <td>24.12.2014</td>\n",
       "      <td>HRB</td>\n",
       "      <td>E-SIP</td>\n",
       "      <td>NaN</td>\n",
       "      <td>95</td>\n",
       "      <td>...</td>\n",
       "      <td>10,205</td>\n",
       "      <td>8,583.84</td>\n",
       "      <td>0</td>\n",
       "      <td>80,619.50</td>\n",
       "      <td>4,301.68</td>\n",
       "      <td>99,605.93</td>\n",
       "      <td>99,600.00</td>\n",
       "      <td>2,717</td>\n",
       "      <td>4,830</td>\n",
       "      <td>2,659</td>\n",
       "    </tr>\n",
       "    <tr>\n",
       "      <th>688</th>\n",
       "      <td>60000111135</td>\n",
       "      <td>07.10.2014</td>\n",
       "      <td>06.11.2014</td>\n",
       "      <td>10013111799</td>\n",
       "      <td>09.11.2014</td>\n",
       "      <td>26.11.2014</td>\n",
       "      <td>HRB</td>\n",
       "      <td>E-SIP</td>\n",
       "      <td>NaN</td>\n",
       "      <td>95</td>\n",
       "      <td>...</td>\n",
       "      <td>13,069</td>\n",
       "      <td>8,696.16</td>\n",
       "      <td>0</td>\n",
       "      <td>1,03,245.10</td>\n",
       "      <td>5,509.22</td>\n",
       "      <td>1,25,085.45</td>\n",
       "      <td>1,25,090.00</td>\n",
       "      <td>3,535</td>\n",
       "      <td>6,087</td>\n",
       "      <td>3,447</td>\n",
       "    </tr>\n",
       "    <tr>\n",
       "      <th>689</th>\n",
       "      <td>60000111135</td>\n",
       "      <td>07.06.2013</td>\n",
       "      <td>09.07.2013</td>\n",
       "      <td>10013111800</td>\n",
       "      <td>10.07.2013</td>\n",
       "      <td>27.07.2013</td>\n",
       "      <td>HRB</td>\n",
       "      <td>E-SIP</td>\n",
       "      <td>NaN</td>\n",
       "      <td>95</td>\n",
       "      <td>...</td>\n",
       "      <td>16,262</td>\n",
       "      <td>9,420.19</td>\n",
       "      <td>0</td>\n",
       "      <td>1,07,329.20</td>\n",
       "      <td>5,956.77</td>\n",
       "      <td>1,35,548.61</td>\n",
       "      <td>1,36,120.00</td>\n",
       "      <td>0</td>\n",
       "      <td>0</td>\n",
       "      <td>0</td>\n",
       "    </tr>\n",
       "    <tr>\n",
       "      <th>690</th>\n",
       "      <td>60000111135</td>\n",
       "      <td>11.04.2013</td>\n",
       "      <td>01.05.2013</td>\n",
       "      <td>10013111801</td>\n",
       "      <td>09.05.2013</td>\n",
       "      <td>27.05.2013</td>\n",
       "      <td>HRB</td>\n",
       "      <td>E-SIP</td>\n",
       "      <td>NaN</td>\n",
       "      <td>95</td>\n",
       "      <td>...</td>\n",
       "      <td>8,287</td>\n",
       "      <td>6,039.36</td>\n",
       "      <td>0</td>\n",
       "      <td>54,694.20</td>\n",
       "      <td>2,996.47</td>\n",
       "      <td>69,543.01</td>\n",
       "      <td>69,540.00</td>\n",
       "      <td>0</td>\n",
       "      <td>0</td>\n",
       "      <td>0</td>\n",
       "    </tr>\n",
       "  </tbody>\n",
       "</table>\n",
       "<p>691 rows × 24 columns</p>\n",
       "</div>"
      ],
      "text/plain": [
       "     Contract Account consumption  Start date  consumption  end date   \\\n",
       "0         60000111111               01.08.2013             31.08.2013   \n",
       "1         60000111111               01.09.2013                 Merged   \n",
       "2         60000111111               01.10.2013             31.10.2013   \n",
       "3         60000111111               15.03.2013             09.04.2013   \n",
       "4         60000111111               01.11.2013             12.12.2013   \n",
       "..                ...                      ...                    ...   \n",
       "686       60000111135               09.01.2014             06.02.2014   \n",
       "687       60000111135               07.11.2014             06.12.2014   \n",
       "688       60000111135               07.10.2014             06.11.2014   \n",
       "689       60000111135               07.06.2013             09.07.2013   \n",
       "690       60000111135               11.04.2013             01.05.2013   \n",
       "\n",
       "      BILL NUBER    BILLDATE Bill due Date Ownership Group San Category  \\\n",
       "0    10013111111  23.09.2013    08.10.2013             KCG    E-LIP>100   \n",
       "1    10013111112  14.10.2013    29.10.2013             KCG    E-LIP>100   \n",
       "2    10013111113  25.11.2013    10.12.2013             KCG    E-LIP>100   \n",
       "3    10013111114  10.04.2013    25.04.2013             KCG    E-LIP>100   \n",
       "4    10013111115  14.12.2013    30.12.2013             KCG    E-LIP>100   \n",
       "..           ...         ...           ...             ...          ...   \n",
       "686  10013111797  07.02.2014    24.02.2014             HRB        E-SIP   \n",
       "687  10013111798  07.12.2014    24.12.2014             HRB        E-SIP   \n",
       "688  10013111799  09.11.2014    26.11.2014             HRB        E-SIP   \n",
       "689  10013111800  10.07.2013    27.07.2013             HRB        E-SIP   \n",
       "690  10013111801  09.05.2013    27.05.2013             HRB        E-SIP   \n",
       "\n",
       "     Contract Dmd  San Load  ...  Billed Unit Fixed Charges Demand Charges  \\\n",
       "0           209.0       296  ...       31,548             0      26,125.00   \n",
       "1           209.0       296  ...       29,712             0      26,125.00   \n",
       "2           209.0       296  ...       28,092             0      26,125.00   \n",
       "3           209.0       296  ...       16,578             0      22,164.45   \n",
       "4           209.0       296  ...       22,950             0      36,237.99   \n",
       "..            ...       ...  ...          ...           ...            ...   \n",
       "686           NaN        95  ...        7,139      8,175.52              0   \n",
       "687           NaN        95  ...       10,205      8,583.84              0   \n",
       "688           NaN        95  ...       13,069      8,696.16              0   \n",
       "689           NaN        95  ...       16,262      9,420.19              0   \n",
       "690           NaN        95  ...        8,287      6,039.36              0   \n",
       "\n",
       "    Energy Charges      E Tax Current Demand Amount Payable Peak Unit  \\\n",
       "0      2,08,216.80  11,314.91    2,65,828.23    2,65,830.00     8,922   \n",
       "1      1,96,099.20  10,704.19    2,53,002.97    2,53,000.00     9,114   \n",
       "2      1,85,407.20   9,656.49    2,31,001.09    2,31,000.00     3,084   \n",
       "3      1,04,441.40   5,718.17    1,44,351.58    1,44,350.00         0   \n",
       "4      1,51,470.00   7,803.56    2,03,011.71    2,03,010.00     1,974   \n",
       "..             ...        ...            ...            ...       ...   \n",
       "686      49,973.00   2,734.75      66,387.63      66,390.00         0   \n",
       "687      80,619.50   4,301.68      99,605.93      99,600.00     2,717   \n",
       "688    1,03,245.10   5,509.22    1,25,085.45    1,25,090.00     3,535   \n",
       "689    1,07,329.20   5,956.77    1,35,548.61    1,36,120.00         0   \n",
       "690      54,694.20   2,996.47      69,543.01      69,540.00         0   \n",
       "\n",
       "    Normal Unit Off Peak Unit  \n",
       "0        15,006         7,590  \n",
       "1        13,626         6,966  \n",
       "2        16,302         8,706  \n",
       "3             0             0  \n",
       "4        12,630         8,346  \n",
       "..          ...           ...  \n",
       "686           0             0  \n",
       "687       4,830         2,659  \n",
       "688       6,087         3,447  \n",
       "689           0             0  \n",
       "690           0             0  \n",
       "\n",
       "[691 rows x 24 columns]"
      ]
     },
     "execution_count": 17,
     "metadata": {},
     "output_type": "execute_result"
    }
   ],
   "source": [
    "data2 = pd.read_csv('BILLING.csv', header=0)\n",
    "data2"
   ]
  },
  {
   "cell_type": "code",
   "execution_count": 18,
   "id": "52d8fe09",
   "metadata": {},
   "outputs": [
    {
     "data": {
      "text/html": [
       "<div>\n",
       "<style scoped>\n",
       "    .dataframe tbody tr th:only-of-type {\n",
       "        vertical-align: middle;\n",
       "    }\n",
       "\n",
       "    .dataframe tbody tr th {\n",
       "        vertical-align: top;\n",
       "    }\n",
       "\n",
       "    .dataframe thead th {\n",
       "        text-align: right;\n",
       "    }\n",
       "</style>\n",
       "<table border=\"1\" class=\"dataframe\">\n",
       "  <thead>\n",
       "    <tr style=\"text-align: right;\">\n",
       "      <th></th>\n",
       "      <th>1</th>\n",
       "      <th>4</th>\n",
       "      <th>6</th>\n",
       "    </tr>\n",
       "  </thead>\n",
       "  <tbody>\n",
       "    <tr>\n",
       "      <th>0</th>\n",
       "      <td>consumption  Start date</td>\n",
       "      <td>BILLDATE</td>\n",
       "      <td>Ownership Group</td>\n",
       "    </tr>\n",
       "    <tr>\n",
       "      <th>1</th>\n",
       "      <td>01.08.2013</td>\n",
       "      <td>23.09.2013</td>\n",
       "      <td>KCG</td>\n",
       "    </tr>\n",
       "    <tr>\n",
       "      <th>2</th>\n",
       "      <td>01.09.2013</td>\n",
       "      <td>14.10.2013</td>\n",
       "      <td>KCG</td>\n",
       "    </tr>\n",
       "    <tr>\n",
       "      <th>3</th>\n",
       "      <td>01.10.2013</td>\n",
       "      <td>25.11.2013</td>\n",
       "      <td>KCG</td>\n",
       "    </tr>\n",
       "    <tr>\n",
       "      <th>4</th>\n",
       "      <td>15.03.2013</td>\n",
       "      <td>10.04.2013</td>\n",
       "      <td>KCG</td>\n",
       "    </tr>\n",
       "    <tr>\n",
       "      <th>5</th>\n",
       "      <td>01.11.2013</td>\n",
       "      <td>14.12.2013</td>\n",
       "      <td>KCG</td>\n",
       "    </tr>\n",
       "  </tbody>\n",
       "</table>\n",
       "</div>"
      ],
      "text/plain": [
       "                          1           4                6\n",
       "0  consumption  Start date     BILLDATE  Ownership Group\n",
       "1                01.08.2013  23.09.2013              KCG\n",
       "2                01.09.2013  14.10.2013              KCG\n",
       "3                01.10.2013  25.11.2013              KCG\n",
       "4                15.03.2013  10.04.2013              KCG\n",
       "5                01.11.2013  14.12.2013              KCG"
      ]
     },
     "execution_count": 18,
     "metadata": {},
     "output_type": "execute_result"
    }
   ],
   "source": [
    "data3 = pd.read_csv('BILLING.csv', header=None, nrows=6,usecols=(1,4,6))\n",
    "data3"
   ]
  },
  {
   "cell_type": "code",
   "execution_count": 21,
   "id": "d455b656",
   "metadata": {},
   "outputs": [
    {
     "data": {
      "text/html": [
       "<div>\n",
       "<style scoped>\n",
       "    .dataframe tbody tr th:only-of-type {\n",
       "        vertical-align: middle;\n",
       "    }\n",
       "\n",
       "    .dataframe tbody tr th {\n",
       "        vertical-align: top;\n",
       "    }\n",
       "\n",
       "    .dataframe thead th {\n",
       "        text-align: right;\n",
       "    }\n",
       "</style>\n",
       "<table border=\"1\" class=\"dataframe\">\n",
       "  <thead>\n",
       "    <tr style=\"text-align: right;\">\n",
       "      <th></th>\n",
       "      <th>Contract Account</th>\n",
       "      <th>consumption  Start date</th>\n",
       "      <th>consumption  end date</th>\n",
       "      <th>BILL NUBER</th>\n",
       "      <th>BILLDATE</th>\n",
       "      <th>Bill due Date</th>\n",
       "      <th>Ownership Group</th>\n",
       "      <th>San Category</th>\n",
       "      <th>Contract Dmd</th>\n",
       "      <th>San Load</th>\n",
       "      <th>...</th>\n",
       "      <th>Billed Unit</th>\n",
       "      <th>Fixed Charges</th>\n",
       "      <th>Demand Charges</th>\n",
       "      <th>Energy Charges</th>\n",
       "      <th>E Tax</th>\n",
       "      <th>Current Demand</th>\n",
       "      <th>Amount Payable</th>\n",
       "      <th>Peak Unit</th>\n",
       "      <th>Normal Unit</th>\n",
       "      <th>Off Peak Unit</th>\n",
       "    </tr>\n",
       "  </thead>\n",
       "  <tbody>\n",
       "    <tr>\n",
       "      <th>503</th>\n",
       "      <td>60000111129</td>\n",
       "      <td>14.03.2014</td>\n",
       "      <td>08.04.2014</td>\n",
       "      <td>10013111614</td>\n",
       "      <td>11.04.2014</td>\n",
       "      <td>28.04.2014</td>\n",
       "      <td>HRB</td>\n",
       "      <td>E-SIP</td>\n",
       "      <td>NaN</td>\n",
       "      <td>95</td>\n",
       "      <td>...</td>\n",
       "      <td>17,104</td>\n",
       "      <td>7,244.42</td>\n",
       "      <td>0</td>\n",
       "      <td>1,19,728.00</td>\n",
       "      <td>6,884.36</td>\n",
       "      <td>1,52,902.64</td>\n",
       "      <td>1,46,770.00</td>\n",
       "      <td>0</td>\n",
       "      <td>0</td>\n",
       "      <td>0</td>\n",
       "    </tr>\n",
       "    <tr>\n",
       "      <th>596</th>\n",
       "      <td>60000111132</td>\n",
       "      <td>10.03.2015</td>\n",
       "      <td>06.04.2015</td>\n",
       "      <td>10013111707</td>\n",
       "      <td>08.04.2015</td>\n",
       "      <td>25.04.2015</td>\n",
       "      <td>HRB</td>\n",
       "      <td>E-SIP</td>\n",
       "      <td>NaN</td>\n",
       "      <td>21</td>\n",
       "      <td>...</td>\n",
       "      <td>1,553</td>\n",
       "      <td>1,719.33</td>\n",
       "      <td>0</td>\n",
       "      <td>12,268.70</td>\n",
       "      <td>662.52</td>\n",
       "      <td>15,769.60</td>\n",
       "      <td>16,460.00</td>\n",
       "      <td>0</td>\n",
       "      <td>0</td>\n",
       "      <td>0</td>\n",
       "    </tr>\n",
       "    <tr>\n",
       "      <th>24</th>\n",
       "      <td>60000111111</td>\n",
       "      <td>07.06.2013</td>\n",
       "      <td>08.07.2013</td>\n",
       "      <td>10013111135</td>\n",
       "      <td>10.07.2013</td>\n",
       "      <td>25.07.2013</td>\n",
       "      <td>KCG</td>\n",
       "      <td>E-LIP&gt;100</td>\n",
       "      <td>209.0</td>\n",
       "      <td>296</td>\n",
       "      <td>...</td>\n",
       "      <td>30,366</td>\n",
       "      <td>0</td>\n",
       "      <td>27,642.86</td>\n",
       "      <td>1,91,305.80</td>\n",
       "      <td>10,617.47</td>\n",
       "      <td>2,53,650.48</td>\n",
       "      <td>2,53,650.00</td>\n",
       "      <td>0</td>\n",
       "      <td>0</td>\n",
       "      <td>0</td>\n",
       "    </tr>\n",
       "    <tr>\n",
       "      <th>382</th>\n",
       "      <td>60000111124</td>\n",
       "      <td>16.03.2015</td>\n",
       "      <td>11.04.2015</td>\n",
       "      <td>10013111493</td>\n",
       "      <td>11.04.2015</td>\n",
       "      <td>27.04.2015</td>\n",
       "      <td>KCG</td>\n",
       "      <td>E-SIP</td>\n",
       "      <td>NaN</td>\n",
       "      <td>106</td>\n",
       "      <td>...</td>\n",
       "      <td>19,271</td>\n",
       "      <td>7,468.49</td>\n",
       "      <td>0</td>\n",
       "      <td>1,52,240.90</td>\n",
       "      <td>8,417.50</td>\n",
       "      <td>1,84,928.81</td>\n",
       "      <td>2,02,370.00</td>\n",
       "      <td>6,018</td>\n",
       "      <td>10,280</td>\n",
       "      <td>2,972</td>\n",
       "    </tr>\n",
       "    <tr>\n",
       "      <th>315</th>\n",
       "      <td>60000111122</td>\n",
       "      <td>12.07.2014</td>\n",
       "      <td>13.08.2014</td>\n",
       "      <td>10013111426</td>\n",
       "      <td>14.08.2014</td>\n",
       "      <td>29.08.2014</td>\n",
       "      <td>EXPR</td>\n",
       "      <td>E-LIP&gt;100</td>\n",
       "      <td>949.0</td>\n",
       "      <td>806</td>\n",
       "      <td>...</td>\n",
       "      <td>34,008</td>\n",
       "      <td>0</td>\n",
       "      <td>1,26,288.17</td>\n",
       "      <td>2,47,665.60</td>\n",
       "      <td>14,187.21</td>\n",
       "      <td>4,35,661.93</td>\n",
       "      <td>4,35,660.00</td>\n",
       "      <td>16,560</td>\n",
       "      <td>11,424</td>\n",
       "      <td>6,036</td>\n",
       "    </tr>\n",
       "    <tr>\n",
       "      <th>496</th>\n",
       "      <td>60000111128</td>\n",
       "      <td>12.02.2015</td>\n",
       "      <td>14.03.2015</td>\n",
       "      <td>10013111607</td>\n",
       "      <td>14.03.2015</td>\n",
       "      <td>30.03.2015</td>\n",
       "      <td>HRB</td>\n",
       "      <td>E-SIP</td>\n",
       "      <td>NaN</td>\n",
       "      <td>90</td>\n",
       "      <td>...</td>\n",
       "      <td>9,044</td>\n",
       "      <td>8,575.47</td>\n",
       "      <td>0</td>\n",
       "      <td>71,447.60</td>\n",
       "      <td>3,948.57</td>\n",
       "      <td>92,181.42</td>\n",
       "      <td>92,190.00</td>\n",
       "      <td>2,457</td>\n",
       "      <td>5,469</td>\n",
       "      <td>1,118</td>\n",
       "    </tr>\n",
       "    <tr>\n",
       "      <th>7</th>\n",
       "      <td>60000111111</td>\n",
       "      <td>14.03.2014</td>\n",
       "      <td>11.04.2014</td>\n",
       "      <td>10013111118</td>\n",
       "      <td>13.04.2014</td>\n",
       "      <td>28.04.2014</td>\n",
       "      <td>KCG</td>\n",
       "      <td>E-LIP&gt;100</td>\n",
       "      <td>209.0</td>\n",
       "      <td>296</td>\n",
       "      <td>...</td>\n",
       "      <td>16,956</td>\n",
       "      <td>0</td>\n",
       "      <td>24,748.22</td>\n",
       "      <td>1,11,909.60</td>\n",
       "      <td>6,196.06</td>\n",
       "      <td>1,58,577.68</td>\n",
       "      <td>1,58,580.00</td>\n",
       "      <td>2,592</td>\n",
       "      <td>8,004</td>\n",
       "      <td>6,360</td>\n",
       "    </tr>\n",
       "  </tbody>\n",
       "</table>\n",
       "<p>7 rows × 24 columns</p>\n",
       "</div>"
      ],
      "text/plain": [
       "     Contract Account consumption  Start date  consumption  end date   \\\n",
       "503       60000111129               14.03.2014             08.04.2014   \n",
       "596       60000111132               10.03.2015             06.04.2015   \n",
       "24        60000111111               07.06.2013             08.07.2013   \n",
       "382       60000111124               16.03.2015             11.04.2015   \n",
       "315       60000111122               12.07.2014             13.08.2014   \n",
       "496       60000111128               12.02.2015             14.03.2015   \n",
       "7         60000111111               14.03.2014             11.04.2014   \n",
       "\n",
       "      BILL NUBER    BILLDATE Bill due Date Ownership Group San Category  \\\n",
       "503  10013111614  11.04.2014    28.04.2014             HRB        E-SIP   \n",
       "596  10013111707  08.04.2015    25.04.2015             HRB        E-SIP   \n",
       "24   10013111135  10.07.2013    25.07.2013             KCG    E-LIP>100   \n",
       "382  10013111493  11.04.2015    27.04.2015             KCG        E-SIP   \n",
       "315  10013111426  14.08.2014    29.08.2014            EXPR    E-LIP>100   \n",
       "496  10013111607  14.03.2015    30.03.2015             HRB        E-SIP   \n",
       "7    10013111118  13.04.2014    28.04.2014             KCG    E-LIP>100   \n",
       "\n",
       "     Contract Dmd  San Load  ...  Billed Unit Fixed Charges Demand Charges  \\\n",
       "503           NaN        95  ...       17,104      7,244.42              0   \n",
       "596           NaN        21  ...        1,553      1,719.33              0   \n",
       "24          209.0       296  ...       30,366             0      27,642.86   \n",
       "382           NaN       106  ...       19,271      7,468.49              0   \n",
       "315         949.0       806  ...       34,008             0    1,26,288.17   \n",
       "496           NaN        90  ...        9,044      8,575.47              0   \n",
       "7           209.0       296  ...       16,956             0      24,748.22   \n",
       "\n",
       "    Energy Charges      E Tax Current Demand Amount Payable Peak Unit  \\\n",
       "503    1,19,728.00   6,884.36    1,52,902.64    1,46,770.00         0   \n",
       "596      12,268.70     662.52      15,769.60      16,460.00         0   \n",
       "24     1,91,305.80  10,617.47    2,53,650.48    2,53,650.00         0   \n",
       "382    1,52,240.90   8,417.50    1,84,928.81    2,02,370.00     6,018   \n",
       "315    2,47,665.60  14,187.21    4,35,661.93    4,35,660.00    16,560   \n",
       "496      71,447.60   3,948.57      92,181.42      92,190.00     2,457   \n",
       "7      1,11,909.60   6,196.06    1,58,577.68    1,58,580.00     2,592   \n",
       "\n",
       "    Normal Unit Off Peak Unit  \n",
       "503           0             0  \n",
       "596           0             0  \n",
       "24            0             0  \n",
       "382      10,280         2,972  \n",
       "315      11,424         6,036  \n",
       "496       5,469         1,118  \n",
       "7         8,004         6,360  \n",
       "\n",
       "[7 rows x 24 columns]"
      ]
     },
     "execution_count": 21,
     "metadata": {},
     "output_type": "execute_result"
    }
   ],
   "source": [
    "data2.sample(7)"
   ]
  },
  {
   "cell_type": "code",
   "execution_count": null,
   "id": "1c2ec7d3",
   "metadata": {},
   "outputs": [],
   "source": []
  },
  {
   "cell_type": "code",
   "execution_count": 2,
   "id": "f588e686",
   "metadata": {},
   "outputs": [],
   "source": [
    "import numpy as np"
   ]
  },
  {
   "cell_type": "code",
   "execution_count": 3,
   "id": "8e858c69",
   "metadata": {},
   "outputs": [],
   "source": [
    "#flatten (change will not reflect in orignal array)\n",
    "array = np.array([[[5,8,7],[2,6,7]],[[2,7,8],[6,7,4]]])"
   ]
  },
  {
   "cell_type": "code",
   "execution_count": 4,
   "id": "0dbee9a1",
   "metadata": {},
   "outputs": [
    {
     "data": {
      "text/plain": [
       "array([[[5, 8, 7],\n",
       "        [2, 6, 7]],\n",
       "\n",
       "       [[2, 7, 8],\n",
       "        [6, 7, 4]]])"
      ]
     },
     "execution_count": 4,
     "metadata": {},
     "output_type": "execute_result"
    }
   ],
   "source": [
    "#creating multi dimension array\n",
    "array"
   ]
  },
  {
   "cell_type": "code",
   "execution_count": 5,
   "id": "5c69e482",
   "metadata": {},
   "outputs": [
    {
     "data": {
      "text/plain": [
       "array([5, 8, 7, 2, 6, 7, 2, 7, 8, 6, 7, 4])"
      ]
     },
     "execution_count": 5,
     "metadata": {},
     "output_type": "execute_result"
    }
   ],
   "source": [
    "#converting multi dimension array into single dimension array\n",
    "array.flatten()"
   ]
  },
  {
   "cell_type": "code",
   "execution_count": 9,
   "id": "15b96076",
   "metadata": {},
   "outputs": [
    {
     "data": {
      "text/plain": [
       "array([[5, 8, 7],\n",
       "       [2, 6, 7]])"
      ]
     },
     "execution_count": 9,
     "metadata": {},
     "output_type": "execute_result"
    }
   ],
   "source": [
    "array = np.array([[5,8,7],[2,6,7]])\n",
    "array\n",
    "            "
   ]
  },
  {
   "cell_type": "code",
   "execution_count": 10,
   "id": "94e05e0f",
   "metadata": {},
   "outputs": [
    {
     "data": {
      "text/plain": [
       "array([5, 8, 7, 2, 6, 7])"
      ]
     },
     "execution_count": 10,
     "metadata": {},
     "output_type": "execute_result"
    }
   ],
   "source": [
    "cat=array.flatten()\n",
    "cat"
   ]
  },
  {
   "cell_type": "code",
   "execution_count": 11,
   "id": "dbddc6ca",
   "metadata": {},
   "outputs": [
    {
     "data": {
      "text/plain": [
       "array([[5, 8, 7],\n",
       "       [2, 6, 7]])"
      ]
     },
     "execution_count": 11,
     "metadata": {},
     "output_type": "execute_result"
    }
   ],
   "source": [
    "array"
   ]
  },
  {
   "cell_type": "code",
   "execution_count": 18,
   "id": "fe82358a",
   "metadata": {},
   "outputs": [],
   "source": [
    "cat[0]=0"
   ]
  },
  {
   "cell_type": "code",
   "execution_count": 19,
   "id": "3341c24a",
   "metadata": {},
   "outputs": [
    {
     "data": {
      "text/plain": [
       "array([[5, 8, 7],\n",
       "       [2, 6, 7]])"
      ]
     },
     "execution_count": 19,
     "metadata": {},
     "output_type": "execute_result"
    }
   ],
   "source": [
    "#array not changed here\n",
    "array"
   ]
  },
  {
   "cell_type": "code",
   "execution_count": 20,
   "id": "f1062782",
   "metadata": {},
   "outputs": [
    {
     "data": {
      "text/plain": [
       "array([5, 8, 7, 2, 6, 7])"
      ]
     },
     "execution_count": 20,
     "metadata": {},
     "output_type": "execute_result"
    }
   ],
   "source": [
    "#ravel(change will reflect in orignal array)\n",
    "dog = array.ravel()\n",
    "dog"
   ]
  },
  {
   "cell_type": "code",
   "execution_count": 21,
   "id": "a7f6ba75",
   "metadata": {},
   "outputs": [],
   "source": [
    "dog[0]=0"
   ]
  },
  {
   "cell_type": "code",
   "execution_count": 22,
   "id": "5169968d",
   "metadata": {},
   "outputs": [
    {
     "data": {
      "text/plain": [
       "array([[0, 8, 7],\n",
       "       [2, 6, 7]])"
      ]
     },
     "execution_count": 22,
     "metadata": {},
     "output_type": "execute_result"
    }
   ],
   "source": [
    "array"
   ]
  },
  {
   "cell_type": "code",
   "execution_count": 24,
   "id": "8ef007fb",
   "metadata": {},
   "outputs": [
    {
     "data": {
      "text/plain": [
       "'2.0.3'"
      ]
     },
     "execution_count": 24,
     "metadata": {},
     "output_type": "execute_result"
    }
   ],
   "source": [
    "import pandas as pd\n",
    "pd.__version__"
   ]
  },
  {
   "cell_type": "code",
   "execution_count": 25,
   "id": "2e0e6937",
   "metadata": {},
   "outputs": [],
   "source": [
    "#series\n",
    "vicky=[22,11,5,8,33,'saini']"
   ]
  },
  {
   "cell_type": "code",
   "execution_count": 27,
   "id": "622e7f0d",
   "metadata": {},
   "outputs": [
    {
     "name": "stdout",
     "output_type": "stream",
     "text": [
      "[22, 11, 5, 8, 33, 'saini']\n"
     ]
    }
   ],
   "source": [
    "print(vicky)"
   ]
  },
  {
   "cell_type": "code",
   "execution_count": 36,
   "id": "b39adcf5",
   "metadata": {},
   "outputs": [
    {
     "data": {
      "text/plain": [
       "0       22\n",
       "1       11\n",
       "2        5\n",
       "3        8\n",
       "4       33\n",
       "5    saini\n",
       "dtype: object"
      ]
     },
     "execution_count": 36,
     "metadata": {},
     "output_type": "execute_result"
    }
   ],
   "source": [
    "#converting list into series\n",
    "series1 = pd.Series(vicky)\n",
    "series1"
   ]
  },
  {
   "cell_type": "code",
   "execution_count": 35,
   "id": "e973b803",
   "metadata": {},
   "outputs": [
    {
     "data": {
      "text/plain": [
       "pandas.core.series.Series"
      ]
     },
     "execution_count": 35,
     "metadata": {},
     "output_type": "execute_result"
    }
   ],
   "source": [
    "type(series1)"
   ]
  },
  {
   "cell_type": "code",
   "execution_count": 38,
   "id": "4fc7bfce",
   "metadata": {},
   "outputs": [],
   "source": [
    " #creating empty series\n",
    "e = pd.Series([])"
   ]
  },
  {
   "cell_type": "code",
   "execution_count": 41,
   "id": "9428cf1c",
   "metadata": {},
   "outputs": [
    {
     "data": {
      "text/plain": [
       "Series([], dtype: object)"
      ]
     },
     "execution_count": 41,
     "metadata": {},
     "output_type": "execute_result"
    }
   ],
   "source": [
    "e"
   ]
  },
  {
   "cell_type": "code",
   "execution_count": 42,
   "id": "cb04696b",
   "metadata": {},
   "outputs": [
    {
     "data": {
      "text/plain": [
       "0    4\n",
       "1    2\n",
       "2    8\n",
       "3    7\n",
       "4    8\n",
       "dtype: int64"
      ]
     },
     "execution_count": 42,
     "metadata": {},
     "output_type": "execute_result"
    }
   ],
   "source": [
    "#creating series inside series\n",
    "v=pd.Series([4,2,8,7,8])\n",
    "v"
   ]
  },
  {
   "cell_type": "code",
   "execution_count": 46,
   "id": "eff72c8e",
   "metadata": {},
   "outputs": [
    {
     "data": {
      "text/plain": [
       "5    5\n",
       "6    8\n",
       "7    9\n",
       "8    7\n",
       "dtype: int64"
      ]
     },
     "execution_count": 46,
     "metadata": {},
     "output_type": "execute_result"
    }
   ],
   "source": [
    "#creating series by mention index value\n",
    "s = pd.Series([5,8,9,7], index = [5,6,7,8])\n",
    "s"
   ]
  },
  {
   "cell_type": "code",
   "execution_count": 48,
   "id": "39d56a22",
   "metadata": {},
   "outputs": [
    {
     "data": {
      "text/plain": [
       "0    5\n",
       "1    8\n",
       "2    9\n",
       "3    7\n",
       "dtype: int64"
      ]
     },
     "execution_count": 48,
     "metadata": {},
     "output_type": "execute_result"
    }
   ],
   "source": [
    "#by default with index value it will start from 0 \n",
    "s= pd.Series([5,8,9,7])\n",
    "s"
   ]
  },
  {
   "cell_type": "code",
   "execution_count": 3,
   "id": "ef45b5ed",
   "metadata": {},
   "outputs": [],
   "source": [
    "import pandas as pd"
   ]
  },
  {
   "cell_type": "code",
   "execution_count": 4,
   "id": "088b6318",
   "metadata": {},
   "outputs": [
    {
     "data": {
      "text/plain": [
       "5    5.0\n",
       "6    8.0\n",
       "7    9.0\n",
       "8    7.0\n",
       "dtype: float64"
      ]
     },
     "execution_count": 4,
     "metadata": {},
     "output_type": "execute_result"
    }
   ],
   "source": [
    "s1 = pd.Series([5,8,9,7], index = [5,6,7,8],dtype = float)\n",
    "s1"
   ]
  },
  {
   "cell_type": "code",
   "execution_count": 5,
   "id": "e9b3ebc7",
   "metadata": {},
   "outputs": [
    {
     "data": {
      "text/plain": [
       "vicky      98\n",
       "shobha     78\n",
       "urvashi    88\n",
       "dtype: int64"
      ]
     },
     "execution_count": 5,
     "metadata": {},
     "output_type": "execute_result"
    }
   ],
   "source": [
    "#creating series from dictionary\n",
    "s2 = pd.Series({'vicky':98,'shobha':78,'urvashi':88})\n",
    "s2"
   ]
  },
  {
   "cell_type": "code",
   "execution_count": 6,
   "id": "a3b395cd",
   "metadata": {},
   "outputs": [
    {
     "name": "stdout",
     "output_type": "stream",
     "text": [
      "vicky      98\n",
      "shobha     78\n",
      "urvashi    88\n",
      "dtype: int64\n"
     ]
    }
   ],
   "source": [
    "print(s2)"
   ]
  },
  {
   "cell_type": "code",
   "execution_count": 8,
   "id": "86b20b98",
   "metadata": {},
   "outputs": [
    {
     "data": {
      "text/plain": [
       "78"
      ]
     },
     "execution_count": 8,
     "metadata": {},
     "output_type": "execute_result"
    }
   ],
   "source": [
    "s2['shobha']"
   ]
  },
  {
   "cell_type": "code",
   "execution_count": 10,
   "id": "8c76f70e",
   "metadata": {},
   "outputs": [
    {
     "data": {
      "text/plain": [
       "88"
      ]
     },
     "execution_count": 10,
     "metadata": {},
     "output_type": "execute_result"
    }
   ],
   "source": [
    "s2['urvashi']"
   ]
  },
  {
   "cell_type": "code",
   "execution_count": 11,
   "id": "c83b2e17",
   "metadata": {},
   "outputs": [
    {
     "data": {
      "text/plain": [
       "98"
      ]
     },
     "execution_count": 11,
     "metadata": {},
     "output_type": "execute_result"
    }
   ],
   "source": [
    "s2['vicky']"
   ]
  },
  {
   "cell_type": "code",
   "execution_count": 17,
   "id": "a7d07267",
   "metadata": {},
   "outputs": [
    {
     "data": {
      "text/plain": [
       "0    4\n",
       "1    2\n",
       "2    8\n",
       "3    7\n",
       "4    8\n",
       "dtype: int64"
      ]
     },
     "execution_count": 17,
     "metadata": {},
     "output_type": "execute_result"
    }
   ],
   "source": [
    "v=pd.Series([4,2,8,7,8])\n",
    "v"
   ]
  },
  {
   "cell_type": "code",
   "execution_count": 18,
   "id": "72f1a3b8",
   "metadata": {},
   "outputs": [
    {
     "data": {
      "text/plain": [
       "1    2\n",
       "2    8\n",
       "3    7\n",
       "4    8\n",
       "dtype: int64"
      ]
     },
     "execution_count": 18,
     "metadata": {},
     "output_type": "execute_result"
    }
   ],
   "source": [
    "#slicing of series'v'\n",
    "v[1:5]"
   ]
  },
  {
   "cell_type": "code",
   "execution_count": null,
   "id": "50d48d2d",
   "metadata": {},
   "outputs": [],
   "source": [
    "#slicing of series'v' with step size 2"
   ]
  },
  {
   "cell_type": "code",
   "execution_count": 19,
   "id": "87858b46",
   "metadata": {},
   "outputs": [
    {
     "data": {
      "text/plain": [
       "1    2\n",
       "3    7\n",
       "dtype: int64"
      ]
     },
     "execution_count": 19,
     "metadata": {},
     "output_type": "execute_result"
    }
   ],
   "source": [
    "v[1:5:2]"
   ]
  },
  {
   "cell_type": "code",
   "execution_count": 22,
   "id": "f7692889",
   "metadata": {},
   "outputs": [
    {
     "name": "stdout",
     "output_type": "stream",
     "text": [
      "0     8\n",
      "1     8\n",
      "2    48\n",
      "3    14\n",
      "4     8\n",
      "dtype: int64\n"
     ]
    }
   ],
   "source": [
    "v=pd.Series([4,2,8,7,8])\n",
    "w=pd.Series([2,4,6,2,1])\n",
    "z=v*w\n",
    "print(z)"
   ]
  },
  {
   "cell_type": "code",
   "execution_count": 23,
   "id": "245cf4d4",
   "metadata": {},
   "outputs": [
    {
     "data": {
      "text/plain": [
       "2"
      ]
     },
     "execution_count": 23,
     "metadata": {},
     "output_type": "execute_result"
    }
   ],
   "source": [
    "min(v)"
   ]
  },
  {
   "cell_type": "code",
   "execution_count": 24,
   "id": "d9a1c187",
   "metadata": {},
   "outputs": [
    {
     "data": {
      "text/plain": [
       "6"
      ]
     },
     "execution_count": 24,
     "metadata": {},
     "output_type": "execute_result"
    }
   ],
   "source": [
    "max(w)"
   ]
  },
  {
   "cell_type": "code",
   "execution_count": 25,
   "id": "66fd53ab",
   "metadata": {},
   "outputs": [
    {
     "data": {
      "text/plain": [
       "0    4\n",
       "2    8\n",
       "3    7\n",
       "4    8\n",
       "dtype: int64"
      ]
     },
     "execution_count": 25,
     "metadata": {},
     "output_type": "execute_result"
    }
   ],
   "source": [
    "v[v>2]"
   ]
  },
  {
   "cell_type": "code",
   "execution_count": 29,
   "id": "2021246f",
   "metadata": {},
   "outputs": [
    {
     "name": "stdout",
     "output_type": "stream",
     "text": [
      "0    4\n",
      "1    2\n",
      "2    8\n",
      "3    7\n",
      "4    8\n",
      "dtype: int64\n"
     ]
    }
   ],
   "source": [
    "print(v)"
   ]
  },
  {
   "cell_type": "code",
   "execution_count": 26,
   "id": "ce00fa5f",
   "metadata": {},
   "outputs": [
    {
     "data": {
      "text/plain": [
       "0    4\n",
       "1    2\n",
       "2    8\n",
       "3    7\n",
       "dtype: int64"
      ]
     },
     "execution_count": 26,
     "metadata": {},
     "output_type": "execute_result"
    }
   ],
   "source": [
    "v.drop(4)"
   ]
  },
  {
   "cell_type": "code",
   "execution_count": 28,
   "id": "beaeb49b",
   "metadata": {},
   "outputs": [
    {
     "data": {
      "text/plain": [
       "0    4\n",
       "1    2\n",
       "3    7\n",
       "4    8\n",
       "dtype: int64"
      ]
     },
     "execution_count": 28,
     "metadata": {},
     "output_type": "execute_result"
    }
   ],
   "source": [
    "v.drop(2)"
   ]
  },
  {
   "cell_type": "code",
   "execution_count": 4,
   "id": "a32b2be2",
   "metadata": {},
   "outputs": [],
   "source": [
    "import matplotlib.pyplot as plt"
   ]
  },
  {
   "cell_type": "code",
   "execution_count": 5,
   "id": "deec6417",
   "metadata": {},
   "outputs": [
    {
     "data": {
      "text/plain": [
       "'3.7.2'"
      ]
     },
     "execution_count": 5,
     "metadata": {},
     "output_type": "execute_result"
    }
   ],
   "source": [
    "import matplotlib\n",
    "matplotlib.__version__\n"
   ]
  },
  {
   "cell_type": "code",
   "execution_count": 7,
   "id": "6415972f",
   "metadata": {},
   "outputs": [],
   "source": [
    "import pandas as pd\n",
    "import numpy as np"
   ]
  },
  {
   "cell_type": "code",
   "execution_count": 8,
   "id": "35e8fa42",
   "metadata": {},
   "outputs": [
    {
     "data": {
      "image/png": "[encoded data removed]",
      "text/plain": [
       "<Figure size 640x480 with 1 Axes>"
      ]
     },
     "metadata": {},
     "output_type": "display_data"
    }
   ],
   "source": [
    "#show graph\n",
    "plt.plot([1,2,3],[5,3,4])\n",
    "plt.show()"
   ]
  },
  {
   "cell_type": "code",
   "execution_count": 16,
   "id": "ec079605",
   "metadata": {},
   "outputs": [
    {
     "data": {
      "image/png": "[encoded data removed]",
      "text/plain": [
       "<Figure size 640x480 with 1 Axes>"
      ]
     },
     "metadata": {},
     "output_type": "display_data"
    }
   ],
   "source": [
    "#define color,line style,line width\n",
    "plt.plot([2,5,8],[5,2,4], color ='blue', ls= 'dotted', lw =4)\n",
    "plt.show()"
   ]
  },
  {
   "cell_type": "code",
   "execution_count": 20,
   "id": "8a8a55c1",
   "metadata": {},
   "outputs": [
    {
     "data": {
      "image/png": "[encoded data removed]",
      "text/plain": [
       "<Figure size 640x480 with 1 Axes>"
      ]
     },
     "metadata": {},
     "output_type": "display_data"
    }
   ],
   "source": [
    "#defining marker  and marker width\n",
    "plt.plot([2,5,8],[5,2,4], marker= 'o', mew=4 )\n",
    "plt.show()  "
   ]
  },
  {
   "cell_type": "code",
   "execution_count": 21,
   "id": "86bc89d7",
   "metadata": {},
   "outputs": [],
   "source": [
    "import seaborn as sns"
   ]
  },
  {
   "cell_type": "code",
   "execution_count": 22,
   "id": "fc6b277a",
   "metadata": {},
   "outputs": [
    {
     "data": {
      "text/html": [
       "<div>\n",
       "<style scoped>\n",
       "    .dataframe tbody tr th:only-of-type {\n",
       "        vertical-align: middle;\n",
       "    }\n",
       "\n",
       "    .dataframe tbody tr th {\n",
       "        vertical-align: top;\n",
       "    }\n",
       "\n",
       "    .dataframe thead th {\n",
       "        text-align: right;\n",
       "    }\n",
       "</style>\n",
       "<table border=\"1\" class=\"dataframe\">\n",
       "  <thead>\n",
       "    <tr style=\"text-align: right;\">\n",
       "      <th></th>\n",
       "      <th>total_bill</th>\n",
       "      <th>tip</th>\n",
       "      <th>sex</th>\n",
       "      <th>smoker</th>\n",
       "      <th>day</th>\n",
       "      <th>time</th>\n",
       "      <th>size</th>\n",
       "    </tr>\n",
       "  </thead>\n",
       "  <tbody>\n",
       "    <tr>\n",
       "      <th>0</th>\n",
       "      <td>16.99</td>\n",
       "      <td>1.01</td>\n",
       "      <td>Female</td>\n",
       "      <td>No</td>\n",
       "      <td>Sun</td>\n",
       "      <td>Dinner</td>\n",
       "      <td>2</td>\n",
       "    </tr>\n",
       "    <tr>\n",
       "      <th>1</th>\n",
       "      <td>10.34</td>\n",
       "      <td>1.66</td>\n",
       "      <td>Male</td>\n",
       "      <td>No</td>\n",
       "      <td>Sun</td>\n",
       "      <td>Dinner</td>\n",
       "      <td>3</td>\n",
       "    </tr>\n",
       "    <tr>\n",
       "      <th>2</th>\n",
       "      <td>21.01</td>\n",
       "      <td>3.50</td>\n",
       "      <td>Male</td>\n",
       "      <td>No</td>\n",
       "      <td>Sun</td>\n",
       "      <td>Dinner</td>\n",
       "      <td>3</td>\n",
       "    </tr>\n",
       "    <tr>\n",
       "      <th>3</th>\n",
       "      <td>23.68</td>\n",
       "      <td>3.31</td>\n",
       "      <td>Male</td>\n",
       "      <td>No</td>\n",
       "      <td>Sun</td>\n",
       "      <td>Dinner</td>\n",
       "      <td>2</td>\n",
       "    </tr>\n",
       "    <tr>\n",
       "      <th>4</th>\n",
       "      <td>24.59</td>\n",
       "      <td>3.61</td>\n",
       "      <td>Female</td>\n",
       "      <td>No</td>\n",
       "      <td>Sun</td>\n",
       "      <td>Dinner</td>\n",
       "      <td>4</td>\n",
       "    </tr>\n",
       "    <tr>\n",
       "      <th>...</th>\n",
       "      <td>...</td>\n",
       "      <td>...</td>\n",
       "      <td>...</td>\n",
       "      <td>...</td>\n",
       "      <td>...</td>\n",
       "      <td>...</td>\n",
       "      <td>...</td>\n",
       "    </tr>\n",
       "    <tr>\n",
       "      <th>239</th>\n",
       "      <td>29.03</td>\n",
       "      <td>5.92</td>\n",
       "      <td>Male</td>\n",
       "      <td>No</td>\n",
       "      <td>Sat</td>\n",
       "      <td>Dinner</td>\n",
       "      <td>3</td>\n",
       "    </tr>\n",
       "    <tr>\n",
       "      <th>240</th>\n",
       "      <td>27.18</td>\n",
       "      <td>2.00</td>\n",
       "      <td>Female</td>\n",
       "      <td>Yes</td>\n",
       "      <td>Sat</td>\n",
       "      <td>Dinner</td>\n",
       "      <td>2</td>\n",
       "    </tr>\n",
       "    <tr>\n",
       "      <th>241</th>\n",
       "      <td>22.67</td>\n",
       "      <td>2.00</td>\n",
       "      <td>Male</td>\n",
       "      <td>Yes</td>\n",
       "      <td>Sat</td>\n",
       "      <td>Dinner</td>\n",
       "      <td>2</td>\n",
       "    </tr>\n",
       "    <tr>\n",
       "      <th>242</th>\n",
       "      <td>17.82</td>\n",
       "      <td>1.75</td>\n",
       "      <td>Male</td>\n",
       "      <td>No</td>\n",
       "      <td>Sat</td>\n",
       "      <td>Dinner</td>\n",
       "      <td>2</td>\n",
       "    </tr>\n",
       "    <tr>\n",
       "      <th>243</th>\n",
       "      <td>18.78</td>\n",
       "      <td>3.00</td>\n",
       "      <td>Female</td>\n",
       "      <td>No</td>\n",
       "      <td>Thur</td>\n",
       "      <td>Dinner</td>\n",
       "      <td>2</td>\n",
       "    </tr>\n",
       "  </tbody>\n",
       "</table>\n",
       "<p>244 rows × 7 columns</p>\n",
       "</div>"
      ],
      "text/plain": [
       "     total_bill   tip     sex smoker   day    time  size\n",
       "0         16.99  1.01  Female     No   Sun  Dinner     2\n",
       "1         10.34  1.66    Male     No   Sun  Dinner     3\n",
       "2         21.01  3.50    Male     No   Sun  Dinner     3\n",
       "3         23.68  3.31    Male     No   Sun  Dinner     2\n",
       "4         24.59  3.61  Female     No   Sun  Dinner     4\n",
       "..          ...   ...     ...    ...   ...     ...   ...\n",
       "239       29.03  5.92    Male     No   Sat  Dinner     3\n",
       "240       27.18  2.00  Female    Yes   Sat  Dinner     2\n",
       "241       22.67  2.00    Male    Yes   Sat  Dinner     2\n",
       "242       17.82  1.75    Male     No   Sat  Dinner     2\n",
       "243       18.78  3.00  Female     No  Thur  Dinner     2\n",
       "\n",
       "[244 rows x 7 columns]"
      ]
     },
     "execution_count": 22,
     "metadata": {},
     "output_type": "execute_result"
    }
   ],
   "source": [
    "tips = sns.load_dataset('tips')\n",
    "tips"
   ]
  },
  {
   "cell_type": "code",
   "execution_count": 25,
   "id": "8e7f8e41",
   "metadata": {},
   "outputs": [
    {
     "data": {
      "text/html": [
       "<div>\n",
       "<style scoped>\n",
       "    .dataframe tbody tr th:only-of-type {\n",
       "        vertical-align: middle;\n",
       "    }\n",
       "\n",
       "    .dataframe tbody tr th {\n",
       "        vertical-align: top;\n",
       "    }\n",
       "\n",
       "    .dataframe thead th {\n",
       "        text-align: right;\n",
       "    }\n",
       "</style>\n",
       "<table border=\"1\" class=\"dataframe\">\n",
       "  <thead>\n",
       "    <tr style=\"text-align: right;\">\n",
       "      <th></th>\n",
       "      <th>total_bill</th>\n",
       "      <th>tip</th>\n",
       "      <th>sex</th>\n",
       "      <th>smoker</th>\n",
       "      <th>day</th>\n",
       "      <th>time</th>\n",
       "      <th>size</th>\n",
       "    </tr>\n",
       "  </thead>\n",
       "  <tbody>\n",
       "    <tr>\n",
       "      <th>0</th>\n",
       "      <td>False</td>\n",
       "      <td>False</td>\n",
       "      <td>False</td>\n",
       "      <td>False</td>\n",
       "      <td>False</td>\n",
       "      <td>False</td>\n",
       "      <td>False</td>\n",
       "    </tr>\n",
       "    <tr>\n",
       "      <th>1</th>\n",
       "      <td>False</td>\n",
       "      <td>False</td>\n",
       "      <td>False</td>\n",
       "      <td>False</td>\n",
       "      <td>False</td>\n",
       "      <td>False</td>\n",
       "      <td>False</td>\n",
       "    </tr>\n",
       "    <tr>\n",
       "      <th>2</th>\n",
       "      <td>False</td>\n",
       "      <td>False</td>\n",
       "      <td>False</td>\n",
       "      <td>False</td>\n",
       "      <td>False</td>\n",
       "      <td>False</td>\n",
       "      <td>False</td>\n",
       "    </tr>\n",
       "    <tr>\n",
       "      <th>3</th>\n",
       "      <td>False</td>\n",
       "      <td>False</td>\n",
       "      <td>False</td>\n",
       "      <td>False</td>\n",
       "      <td>False</td>\n",
       "      <td>False</td>\n",
       "      <td>False</td>\n",
       "    </tr>\n",
       "    <tr>\n",
       "      <th>4</th>\n",
       "      <td>False</td>\n",
       "      <td>False</td>\n",
       "      <td>False</td>\n",
       "      <td>False</td>\n",
       "      <td>False</td>\n",
       "      <td>False</td>\n",
       "      <td>False</td>\n",
       "    </tr>\n",
       "    <tr>\n",
       "      <th>...</th>\n",
       "      <td>...</td>\n",
       "      <td>...</td>\n",
       "      <td>...</td>\n",
       "      <td>...</td>\n",
       "      <td>...</td>\n",
       "      <td>...</td>\n",
       "      <td>...</td>\n",
       "    </tr>\n",
       "    <tr>\n",
       "      <th>239</th>\n",
       "      <td>False</td>\n",
       "      <td>False</td>\n",
       "      <td>False</td>\n",
       "      <td>False</td>\n",
       "      <td>False</td>\n",
       "      <td>False</td>\n",
       "      <td>False</td>\n",
       "    </tr>\n",
       "    <tr>\n",
       "      <th>240</th>\n",
       "      <td>False</td>\n",
       "      <td>False</td>\n",
       "      <td>False</td>\n",
       "      <td>False</td>\n",
       "      <td>False</td>\n",
       "      <td>False</td>\n",
       "      <td>False</td>\n",
       "    </tr>\n",
       "    <tr>\n",
       "      <th>241</th>\n",
       "      <td>False</td>\n",
       "      <td>False</td>\n",
       "      <td>False</td>\n",
       "      <td>False</td>\n",
       "      <td>False</td>\n",
       "      <td>False</td>\n",
       "      <td>False</td>\n",
       "    </tr>\n",
       "    <tr>\n",
       "      <th>242</th>\n",
       "      <td>False</td>\n",
       "      <td>False</td>\n",
       "      <td>False</td>\n",
       "      <td>False</td>\n",
       "      <td>False</td>\n",
       "      <td>False</td>\n",
       "      <td>False</td>\n",
       "    </tr>\n",
       "    <tr>\n",
       "      <th>243</th>\n",
       "      <td>False</td>\n",
       "      <td>False</td>\n",
       "      <td>False</td>\n",
       "      <td>False</td>\n",
       "      <td>False</td>\n",
       "      <td>False</td>\n",
       "      <td>False</td>\n",
       "    </tr>\n",
       "  </tbody>\n",
       "</table>\n",
       "<p>244 rows × 7 columns</p>\n",
       "</div>"
      ],
      "text/plain": [
       "     total_bill    tip    sex  smoker    day   time   size\n",
       "0         False  False  False   False  False  False  False\n",
       "1         False  False  False   False  False  False  False\n",
       "2         False  False  False   False  False  False  False\n",
       "3         False  False  False   False  False  False  False\n",
       "4         False  False  False   False  False  False  False\n",
       "..          ...    ...    ...     ...    ...    ...    ...\n",
       "239       False  False  False   False  False  False  False\n",
       "240       False  False  False   False  False  False  False\n",
       "241       False  False  False   False  False  False  False\n",
       "242       False  False  False   False  False  False  False\n",
       "243       False  False  False   False  False  False  False\n",
       "\n",
       "[244 rows x 7 columns]"
      ]
     },
     "execution_count": 25,
     "metadata": {},
     "output_type": "execute_result"
    }
   ],
   "source": [
    "tips.isnull()"
   ]
  },
  {
   "cell_type": "code",
   "execution_count": 31,
   "id": "3c077bff",
   "metadata": {},
   "outputs": [
    {
     "data": {
      "image/png": "[encoded data removed]",
      "text/plain": [
       "<Figure size 640x480 with 1 Axes>"
      ]
     },
     "metadata": {},
     "output_type": "display_data"
    }
   ],
   "source": [
    "plt.scatter(tips['total_bill'],tips['tip'],color='green',edgecolor= 'yellow')\n",
    "plt.title('scater plot of total_bill vs tip')\n",
    "plt.xlabel('total_bill')\n",
    "plt.ylabel('tip')\n",
    "plt.show()"
   ]
  },
  {
   "cell_type": "markdown",
   "id": "6194f42e",
   "metadata": {},
   "source": [
    "covaraince"
   ]
  },
  {
   "cell_type": "code",
   "execution_count": 8,
   "id": "a87bed87",
   "metadata": {},
   "outputs": [],
   "source": [
    "x = [1,-2,-4,-5,-1,-2,5,6,3,4,8,11]\n",
    "y = [2,3,4,5,2,1,5,9,7,5,6,1]"
   ]
  },
  {
   "cell_type": "code",
   "execution_count": 9,
   "id": "1bd9d747",
   "metadata": {},
   "outputs": [
    {
     "name": "stdout",
     "output_type": "stream",
     "text": [
      "1.5000000000000004\n"
     ]
    }
   ],
   "source": [
    "n=len(x)\n",
    "x_mean=sum(x)/n\n",
    "y_mean=sum(y)/n\n",
    "cov_xy=sum((x[i]-x_mean)*(y[i]-y_mean) for i in range(n))/n-1\n",
    "print(cov_xy)"
   ]
  },
  {
   "cell_type": "code",
   "execution_count": 12,
   "id": "a5c1d698",
   "metadata": {},
   "outputs": [
    {
     "data": {
      "text/plain": [
       "array([[24.90909091,  2.72727273],\n",
       "       [ 2.72727273,  6.15151515]])"
      ]
     },
     "execution_count": 12,
     "metadata": {},
     "output_type": "execute_result"
    }
   ],
   "source": [
    "import numpy as np\n",
    "x_=np.array(x)\n",
    "y_=np.array(y)\n",
    "xy_cov=np.cov(x_,y_)\n",
    "xy_cov"
   ]
  },
  {
   "cell_type": "code",
   "execution_count": 13,
   "id": "dc13b13e",
   "metadata": {},
   "outputs": [
    {
     "name": "stdout",
     "output_type": "stream",
     "text": [
      "[[ 3.33333333 -1.33333333  3.        ]\n",
      " [-1.33333333  2.25       -0.33333333]\n",
      " [ 3.         -0.33333333  3.33333333]]\n"
     ]
    }
   ],
   "source": [
    "a=[1,2,5,4]\n",
    "b=[5,3,2,5]\n",
    "c=[1,2,4,5]\n",
    "data=np.array([a,b,c])\n",
    "covar_matrix=np.cov(data)\n",
    "print(covar_matrix)"
   ]
  },
  {
   "cell_type": "code",
   "execution_count": 15,
   "id": "21d486cf",
   "metadata": {},
   "outputs": [
    {
     "data": {
      "text/plain": [
       "<Axes: >"
      ]
     },
     "execution_count": 15,
     "metadata": {},
     "output_type": "execute_result"
    },
    {
     "data": {
      "image/png": "[encoded data removed]",
      "text/plain": [
       "<Figure size 640x480 with 2 Axes>"
      ]
     },
     "metadata": {},
     "output_type": "display_data"
    }
   ],
   "source": [
    "import seaborn as sns\n",
    "sns.heatmap(covar_matrix)"
   ]
  },
  {
   "cell_type": "markdown",
   "id": "7fd79346",
   "metadata": {},
   "source": [
    "corelation math formula"
   ]
  },
  {
   "cell_type": "code",
   "execution_count": 20,
   "id": "83244b23",
   "metadata": {},
   "outputs": [
    {
     "name": "stdout",
     "output_type": "stream",
     "text": [
      "0.12117729989622594\n"
     ]
    }
   ],
   "source": [
    "varx=sum((i-x_mean)**2 for i in x) / (n-1)\n",
    "vary=sum((i-y_mean)**2 for i in y) / (n-1)\n",
    "stdx = varx **0.5\n",
    "stdy = vary **0.5\n",
    "r= cov_xy / (stdx * stdy)\n",
    "print(r)"
   ]
  },
  {
   "cell_type": "code",
   "execution_count": 24,
   "id": "e0f0dbda",
   "metadata": {},
   "outputs": [],
   "source": [
    "import scipy\n",
    "r, p = scipy.stats.pearsonr(x,y)"
   ]
  },
  {
   "cell_type": "code",
   "execution_count": 25,
   "id": "ccc2acbd",
   "metadata": {},
   "outputs": [
    {
     "data": {
      "text/plain": [
       "0.22032236344768352"
      ]
     },
     "execution_count": 25,
     "metadata": {},
     "output_type": "execute_result"
    }
   ],
   "source": [
    "r#correlation coefficient"
   ]
  },
  {
   "cell_type": "code",
   "execution_count": 26,
   "id": "3e495310",
   "metadata": {},
   "outputs": [
    {
     "data": {
      "text/plain": [
       "0.4913949836608791"
      ]
     },
     "execution_count": 26,
     "metadata": {},
     "output_type": "execute_result"
    }
   ],
   "source": [
    "p#probability value"
   ]
  },
  {
   "cell_type": "code",
   "execution_count": 27,
   "id": "17429bbd",
   "metadata": {},
   "outputs": [
    {
     "data": {
      "text/plain": [
       "array([[1.        , 0.22032236],\n",
       "       [0.22032236, 1.        ]])"
      ]
     },
     "execution_count": 27,
     "metadata": {},
     "output_type": "execute_result"
    }
   ],
   "source": [
    "#to get 'corealtion coefficient matrix'\n",
    "corr_matrix = np.corrcoef(x,y)\n",
    "corr_matrix"
   ]
  },
  {
   "cell_type": "code",
   "execution_count": 28,
   "id": "a393984a",
   "metadata": {},
   "outputs": [
    {
     "data": {
      "text/plain": [
       "array([ 4.36465665e+01, -1.45398075e+00,  2.81342107e+01,  1.51468132e+01,\n",
       "        2.42605883e+01,  6.71201467e+00,  4.45250938e+01,  1.35980921e+01,\n",
       "        1.02238591e+01,  3.55987988e+01,  5.32015689e+01,  1.32168327e+01,\n",
       "        4.39366142e+01,  3.09618992e+01,  5.72054941e+01,  4.65417196e+01,\n",
       "        9.27282823e+00,  4.64216507e+01,  2.08830774e+01, -1.34566955e+01,\n",
       "        4.11609424e+00,  3.80347555e+01,  3.62855653e+01,  8.18445322e+00,\n",
       "       -2.71461521e-01,  2.35691641e+01,  3.57987144e+01,  8.03521306e+00,\n",
       "        8.93501358e+00,  1.85535223e+01,  4.66308491e+01,  9.14674346e+00,\n",
       "        1.15192324e+01,  4.43666349e+01,  1.61034426e+01,  1.08784289e+01,\n",
       "        9.51425647e+00,  3.50283715e+01,  5.00575112e+01,  9.36403740e-01,\n",
       "        2.84400227e+01,  5.67008759e+01,  1.02252642e+01,  4.77856073e+00,\n",
       "        1.01597048e+01, -3.04142814e+00,  4.26808364e+01,  5.39589741e+01,\n",
       "        1.48829766e+01,  4.46426619e+01,  2.32870687e+01,  8.24049552e+00,\n",
       "        4.25437681e+01, -1.08817518e+00,  5.35407093e+01, -8.51530824e+00,\n",
       "        2.11991283e+01,  2.88109961e+01,  2.78545127e+01, -1.42835004e+01,\n",
       "        1.97923451e+01,  2.56224927e+01,  2.17708134e+01,  8.89718293e+00,\n",
       "        2.90280254e+01,  1.13676215e+01,  3.48567669e+01,  2.06223403e+01,\n",
       "        5.97094853e+01,  9.28195535e+00,  5.13644930e+01,  1.50597386e+01,\n",
       "        3.80118609e+01,  4.20918291e+01,  4.59097637e+01,  5.22972667e+01,\n",
       "        4.86008761e+01,  1.04522104e+01,  2.07050804e+01,  2.76664034e+01,\n",
       "        1.54670698e+01,  2.78654542e+01,  3.06942940e+01,  2.12475866e+01,\n",
       "        3.06560587e+01, -1.61642574e-01,  3.24470091e+01,  4.20057244e+01,\n",
       "        1.75027650e+01,  2.32743653e+01,  4.44510437e+01,  1.29582299e+01,\n",
       "        3.20697849e+01,  2.96361817e+01,  3.03842792e+01,  3.79779517e+01,\n",
       "        2.48551413e+01, -1.36866706e+01,  2.91077154e+01,  1.05775329e+01,\n",
       "       -4.96281326e-01,  1.57784880e+01,  1.87809571e+01,  2.57797981e+01,\n",
       "        4.46734289e+01, -1.82700985e+01,  5.54745359e+01,  1.31226999e+01,\n",
       "        9.34023288e+00, -8.34996024e+00,  6.16612087e+01,  3.13263284e+01,\n",
       "        3.19036078e+01,  2.26148973e+01, -4.62053966e-02,  3.81899744e+01,\n",
       "        1.38781866e+01,  2.16190527e+01,  4.00378946e+01,  4.71400927e+01,\n",
       "       -2.18301472e+01,  2.67729113e+01,  2.80661021e+01,  1.89548480e+01,\n",
       "        1.47044811e+00,  5.03180601e+01,  1.84325084e+01,  2.72151027e+01,\n",
       "        4.97372906e+01,  1.70330046e+01,  1.75264486e+01,  3.15232669e+01,\n",
       "       -6.34012446e+00,  4.14187900e+01,  1.55043536e+01,  2.15910008e+01,\n",
       "        4.38929579e+01,  2.68858469e+01,  1.15394181e+01,  4.30171292e+01,\n",
       "       -1.45737924e+00,  3.35284290e+01,  2.71340442e+01,  4.50617466e+01,\n",
       "        1.90052327e+01,  1.75416942e+01,  4.79048531e+01,  1.44910669e+01,\n",
       "        4.11283402e+01,  3.99061094e+01,  2.23576874e+01,  7.80469979e+00,\n",
       "        1.41952109e+01,  7.39325342e+00,  1.44281799e+01,  3.89941181e+01,\n",
       "        4.66298941e+01,  3.69924041e+01,  2.22567483e+01,  9.73759543e+00,\n",
       "        3.93566729e+01,  9.60063755e+00,  5.46614785e+01,  1.80355894e+01,\n",
       "        2.96570425e+01,  1.37745954e+01,  2.23070039e+01,  2.98803853e+01,\n",
       "        3.82297217e+01,  4.10678802e+00,  5.00040232e+01,  2.28289235e+01,\n",
       "        5.60139865e+01,  2.62817948e+01,  5.11208981e+00,  3.08869227e+01,\n",
       "        2.34823259e+01,  1.23176824e+01,  1.87569869e+01,  3.65637082e+01,\n",
       "        6.19544582e+01,  5.19345618e+01,  1.11407889e+01,  1.90611129e+01,\n",
       "        3.31633073e+01,  1.87261606e+01,  5.54415877e+00,  2.75384539e+01,\n",
       "        4.07713957e+01,  2.13061640e+01,  2.02170249e+00,  2.37686977e+01,\n",
       "        6.02638857e+01,  3.87754316e+01,  4.20584858e+01,  2.98270080e+01,\n",
       "        2.36637834e+01,  2.45118430e+01,  1.45952783e+01,  2.48564187e+01,\n",
       "        8.89646323e+00,  1.13228774e+01,  3.04956774e+01, -7.75294696e+00,\n",
       "        5.62796613e+01,  3.63083762e+01,  1.03399721e+01,  1.34700235e+01,\n",
       "        3.22183888e+01,  4.93593956e+00, -2.38058884e+00,  1.54951439e+01,\n",
       "        8.22948246e+00,  3.04937329e+01,  3.28021005e+01,  5.31208323e+01,\n",
       "       -7.97159497e+00,  2.88763453e+00,  3.81409966e+01,  5.38594336e+01,\n",
       "        4.33552812e+01,  6.32013291e+01,  2.30649047e+01,  4.27594444e+01,\n",
       "        6.19227883e+01,  1.49537349e+01,  5.84656491e+01,  1.71397614e+01,\n",
       "       -9.56839240e+00,  3.84640133e+01, -7.82135122e-01,  3.23898798e+01,\n",
       "        4.27862325e+01,  4.36537233e+01,  2.79744852e+01,  1.81648771e+01,\n",
       "        1.91380137e+01,  6.77126198e+00,  1.05958932e+01,  3.56217761e+01,\n",
       "        2.61042553e+01,  1.28315856e+01,  3.25507623e+01,  3.58742606e+01,\n",
       "        1.72033329e+01,  5.12189730e+01,  4.79171795e+01,  2.47268470e+01,\n",
       "        9.32024005e+00,  2.34463370e+01,  1.22951036e+01,  3.25040564e+01,\n",
       "        2.39258863e+01,  5.50412120e+01,  1.50137514e+01,  4.72857752e+00,\n",
       "        3.46486460e+01,  2.85263815e+01,  4.94217578e+01,  2.53037427e+01,\n",
       "        3.26079757e+01,  8.80558900e-01,  5.36626157e+01,  1.87969910e-01,\n",
       "        3.06567606e+01,  4.85226185e+01,  9.48366474e+00,  3.83738799e+01,\n",
       "        4.18996279e+01,  1.14696483e+00,  2.84137168e+01,  4.19505485e-02,\n",
       "        7.54051751e+00,  4.65445363e+01,  4.09809698e+01,  5.70280300e+01,\n",
       "        3.87623842e+01,  4.87315452e+01,  2.42740228e+01,  2.61319233e+01,\n",
       "        6.69468205e+01,  2.36441432e+01,  5.79448824e+01,  5.30353778e+01,\n",
       "       -1.51248424e+01,  2.97788721e+01,  1.98708997e+01,  2.00048829e+01,\n",
       "        3.58447937e+01,  3.16849665e+01,  3.36933252e+01,  5.12952556e+01,\n",
       "        4.14706231e+01,  1.45745092e+01,  3.63617237e+01,  2.84178300e+01,\n",
       "        1.93684663e+01,  1.99682431e+01,  3.62101538e+01,  4.35637565e+01,\n",
       "        2.58142181e+01,  1.94917214e+01,  5.69619864e+00,  8.84509822e+00,\n",
       "        3.32045159e+01,  2.80840798e+01,  1.59509703e+00,  5.32215093e+01,\n",
       "        2.05696550e+01,  2.96836159e+01,  2.99324113e+01, -8.30735538e+00,\n",
       "       -2.18362046e-01,  9.64915828e-01,  3.87446041e+01, -5.71798819e+00,\n",
       "        1.64619349e+01,  4.26172041e+01,  2.77289299e+01,  1.23809813e+01,\n",
       "        1.21749615e+01,  4.89528226e+01,  2.07374327e+01,  1.19154434e+01,\n",
       "        5.77557574e+00,  3.24962037e+01,  4.66850742e+01,  5.29562611e+01,\n",
       "        3.00126244e+01,  5.03854957e+01,  2.63448988e+01,  3.67392293e+01,\n",
       "        4.06232458e+01,  4.94726212e+01,  7.98590811e+00,  9.66175280e+00,\n",
       "        3.22303916e+01,  1.82070866e+01, -1.55862112e+00,  2.84304219e+00,\n",
       "       -1.07183791e+00,  7.17623552e+00,  1.75984617e+01,  3.15510334e+01,\n",
       "        1.28973067e+01,  1.99724980e+01,  3.25911604e+01,  3.61935427e+01,\n",
       "        2.83654774e+01,  1.86340306e+01,  2.10186593e+01,  2.10960648e+01,\n",
       "        5.83179393e+01, -1.77318398e+00,  4.17200699e+01,  2.94633252e+01,\n",
       "        5.99192699e+01,  2.67383331e+01,  3.21764770e+01,  2.14921953e+01,\n",
       "        4.15696676e+01,  9.41159574e+00,  3.39723917e+01,  2.01925857e+00,\n",
       "        1.51110544e+01, -3.82417069e-01,  4.51502244e+01,  2.60291227e+01,\n",
       "        2.21870213e+01,  3.88237604e+00,  3.63663391e+01,  5.39532059e+01,\n",
       "        3.42531868e+01,  9.78395612e+00,  1.91709449e+01,  4.18565024e+01,\n",
       "        2.83519030e+01,  3.01071458e+01,  9.23039165e+00,  3.16742203e-01,\n",
       "        3.28890941e+01,  2.85539394e+01,  4.16198852e+01,  3.83082677e+01,\n",
       "        4.81072880e+01,  3.06988863e+01,  2.29316594e+00,  1.86908860e+01,\n",
       "        4.30539397e+01, -9.73045001e+00,  3.79882770e+01,  5.56087176e+01,\n",
       "        3.48561895e+01,  2.75507750e+01,  6.95683033e+00,  2.00680639e+01,\n",
       "        3.27032814e+01,  5.06971709e+01,  2.90161263e+01,  2.44999224e+01,\n",
       "        4.37749771e+01,  5.41754004e+01,  5.18824314e+00,  4.22618412e+01,\n",
       "        5.68876514e+01,  1.84794893e+01,  3.88401939e+01,  2.70330135e+01,\n",
       "        3.00553367e+00, -4.14577677e+00, -5.01997510e+00,  9.07097087e+00,\n",
       "        1.27887275e+01,  4.29341112e+01,  2.21718546e+01,  2.37425645e+01,\n",
       "        3.57976439e+01, -1.20565906e+01,  3.44930563e+01,  3.99126376e+01,\n",
       "        2.05313759e+01,  4.68054945e+01,  2.39298112e+01,  1.98233296e+01,\n",
       "        4.85606547e+01,  3.43071040e+01,  3.04017578e+01,  1.67355088e+01,\n",
       "        6.18918645e-02,  3.31189198e+01,  3.45121733e+01,  5.31982820e+00,\n",
       "        4.03725321e+01,  2.85485469e+01,  1.38405123e+01, -8.12111716e-01,\n",
       "        5.05144210e+01,  3.37792982e+01,  2.54973869e+01,  2.11496964e+01,\n",
       "        5.17702323e+01,  1.74877702e+01,  4.84905622e+01,  2.47808003e+01,\n",
       "        3.37709912e+01,  6.47454544e-01,  3.09887039e+01,  1.89597017e+01,\n",
       "        2.44196709e+01, -1.15154968e+01,  4.72579941e+01,  1.63097415e+01,\n",
       "        3.95424251e+01,  5.54978000e+01,  2.76599547e+01,  3.96173596e+01,\n",
       "        3.13978749e+01,  4.36503428e+01,  2.36034914e+01,  4.04231123e+01,\n",
       "        5.01316130e+01,  2.76989703e+01,  7.86491895e+00,  1.27345299e+01,\n",
       "        4.69467566e+01,  3.48971087e+01,  3.40800098e+01,  3.04571762e+01,\n",
       "        2.48599198e+01,  1.75987951e+01, -9.93032597e+00,  3.94870544e+01,\n",
       "        2.67914314e+01,  2.63687269e+01,  2.80508928e+01,  4.24267394e+01,\n",
       "        2.14319114e+01,  2.12217977e+01,  5.98725305e+01,  4.91645075e+01,\n",
       "        4.15333552e+01, -6.33449738e+00,  3.47419624e+01,  6.02487186e+00,\n",
       "       -1.17383477e+01,  1.08838787e+01,  1.08683611e+01,  2.85859883e+01,\n",
       "        1.64900152e+01, -1.22173852e+01,  5.04719342e+01,  3.54441814e+01,\n",
       "        4.50780786e+01,  4.04176302e+01,  3.11375234e+01,  1.04207095e+01,\n",
       "       -5.12797744e+00,  3.99737256e+01,  3.18113687e+01,  1.53899649e+01,\n",
       "        2.94748531e+01,  1.41731237e+01,  9.59411423e+00,  8.04383124e-01,\n",
       "        4.55264938e+01,  3.25625685e+01,  1.17161541e+01,  2.45311433e+01,\n",
       "        2.41342578e+01,  5.88976188e+01,  5.64260744e+01,  3.16636955e+01,\n",
       "        1.34018801e+01,  3.55625905e+01,  2.74797529e+01,  2.32095706e+01,\n",
       "        4.42037981e+01,  2.92047154e+01,  3.22340455e+01,  4.80685543e+01,\n",
       "        3.54005629e+01,  2.87784665e+01,  4.52725367e+01,  3.63813681e+01,\n",
       "        4.34653620e+01, -4.17091661e+00,  8.70782115e+00,  1.06323826e+01,\n",
       "        3.85176501e+01, -1.25097908e+01,  3.34706741e+01,  3.51468250e+00,\n",
       "        8.06260458e+00,  4.79041766e+01,  1.19320557e+01,  2.88178248e+01,\n",
       "        4.16665550e+01,  2.74581319e+01,  3.99407114e+01,  3.84040730e+00,\n",
       "        3.06974983e+01,  7.63413290e+00,  3.34912712e+01,  3.41480195e+01,\n",
       "        3.32500588e+01,  1.92564254e+01,  5.14554344e+01,  2.82808820e+01,\n",
       "        5.89640502e+00,  5.09918286e+01,  4.09893485e+01,  3.56276760e+01,\n",
       "        1.51789221e+01,  3.51274550e+01,  4.67962578e+01,  3.17975168e+01,\n",
       "        1.84871928e+01,  4.54221748e+01,  4.01408560e+01,  2.56263818e+01,\n",
       "        1.27300891e+01,  4.27344245e+01,  1.84302487e+01, -1.06578143e+01,\n",
       "        2.55488045e+01,  5.39203364e+01,  4.43741338e+01,  2.08206874e+01,\n",
       "        2.22838803e+01,  3.30951628e+01,  4.03043244e+00,  1.86380584e+01,\n",
       "        3.46721606e+01,  6.16924706e+00, -4.42816767e+00,  4.92602085e+01,\n",
       "        1.68785824e+01,  1.96960260e+01,  5.53537515e+00, -1.20946935e+00,\n",
       "        1.35157155e+01,  7.86162698e+00,  1.39058883e+01,  1.69051256e+00,\n",
       "        2.82539895e+01,  2.29883846e+01,  1.75384990e+01,  5.13983468e+01,\n",
       "        4.40278243e+01,  1.20659159e+01,  4.09559883e+01,  1.11044069e+01,\n",
       "       -8.91534114e+00,  3.50374744e+01,  7.82916103e+00,  4.47296187e+01,\n",
       "        3.83694938e+01,  2.50926804e+01,  4.01849415e+01,  1.65433655e+01,\n",
       "        4.21894824e+01,  8.57531308e+00,  7.45500506e+00,  1.35601426e+01,\n",
       "        3.18788397e+01,  4.30703854e+01,  3.04963897e+01,  9.06317580e+00,\n",
       "        4.15674171e+01,  6.46361236e+00, -1.09832160e+00, -8.86022444e-01,\n",
       "        3.68843632e+01,  5.01634942e+00,  4.32684002e+01,  3.24324724e+01,\n",
       "        3.56278941e+01,  1.16273066e+01, -1.02297861e+01,  2.64487093e-01,\n",
       "        2.55457576e+01,  1.68598033e+01,  1.39863746e+01,  4.68886837e+01,\n",
       "        4.30182318e+01,  4.68769703e+01,  6.13726263e+00,  8.14833289e+00,\n",
       "        3.72656972e+01,  2.89726402e+01,  1.59971253e+01,  3.85926459e+01,\n",
       "       -2.56527375e+00,  1.76133522e+01,  1.98759671e+01,  4.34215259e+01,\n",
       "        3.89609215e+01,  1.52756633e+01,  2.76075481e+01, -4.22327594e+00,\n",
       "        3.05639149e+01,  4.42711426e+01,  2.79023404e+01,  6.00262947e+01,\n",
       "       -2.84029903e+00,  1.12823473e+01,  1.70860096e+00,  3.49796956e+01,\n",
       "        4.80199327e+01,  1.83634185e+01,  3.63849529e+01, -1.81507583e+00,\n",
       "        3.34842545e+01,  3.89703649e+01,  4.24477560e+01,  1.82055942e+01,\n",
       "        3.92951049e+01,  2.89675342e+01,  6.15517476e+00,  3.65278055e+01,\n",
       "        2.92603285e+01,  3.78915364e+01,  2.87821562e+01,  5.30797383e+01,\n",
       "        1.48863253e+01,  2.44433608e+01,  3.48242057e+01,  2.37441511e+01,\n",
       "        6.04084339e+01,  2.06083131e+01,  2.06608072e+01,  3.26355164e+00,\n",
       "       -5.66326718e-01,  1.14488603e+01,  4.47924450e+01,  5.55291274e+01,\n",
       "        2.02484126e+01, -3.73549857e-03,  2.39570127e+01,  4.49292129e+01,\n",
       "        2.70654977e+01,  9.53090188e-01,  3.83947923e+01,  3.37270846e+01,\n",
       "        1.89556581e+01,  1.42835529e+01,  6.50171400e+00,  8.21530747e+00,\n",
       "        4.14508787e+01, -4.73296101e+00,  3.04137153e+01,  1.05403991e+01,\n",
       "        3.40246774e+01,  4.51577892e+00,  6.50522412e+01,  6.00746382e+01,\n",
       "        3.16005469e+01,  2.17740839e+01,  5.45272177e+01,  4.29391479e+01,\n",
       "        3.57079610e+01,  1.66657454e+01,  4.41163820e+01,  1.32023610e+01,\n",
       "        6.40516532e+01,  2.93035431e+01,  7.61862978e+00,  4.40350992e+01,\n",
       "        2.13411400e+01, -6.98955901e+00,  1.38681790e+01,  4.16293421e+01,\n",
       "        6.36759065e+00,  7.88230000e+00,  1.14895118e+01,  3.26460817e+01,\n",
       "        2.33348480e+01,  3.28236791e+01,  4.91248441e+01,  1.36919092e+01,\n",
       "        5.31319076e+00,  4.04931335e+00,  2.37883947e+01,  1.78007041e+01,\n",
       "        3.07407366e+01,  5.00144886e+01,  1.17092187e+01,  3.01216772e+01,\n",
       "        2.25714955e+01,  3.62733145e+01,  3.08876671e+01,  2.96427168e+01,\n",
       "        3.84258692e+01,  9.42486765e+00,  4.26531930e+01,  4.76133437e+01,\n",
       "        6.38465297e+00,  3.20364102e+01,  3.86238067e+01, -2.82503032e+00,\n",
       "        4.58670822e+01,  4.79257881e+01, -2.46145655e+00,  1.22714633e+01,\n",
       "        8.63021616e+00,  1.30296470e+01,  4.76671484e+01,  1.42966207e+01,\n",
       "        1.60790827e+01,  3.65770418e+01,  2.63943106e+01, -3.88618853e+00,\n",
       "        3.30521976e+01,  3.64936872e+01,  2.44684205e+01,  6.48935339e+00,\n",
       "        4.39401695e+01,  1.11877500e+00,  5.72726177e+01,  2.81943540e+01,\n",
       "        5.05016439e+01,  2.42880934e+01,  3.96458757e+01,  2.76734426e+01,\n",
       "       -2.92430214e+00,  2.47442577e+01,  8.30982957e+00,  8.61200402e+00,\n",
       "        3.29772576e+01,  3.70239895e+01,  1.55080483e+01,  6.20415203e+00,\n",
       "        7.45660058e+00,  3.08641974e+01,  4.06641536e+01,  1.23663199e+00,\n",
       "        1.49406447e+01,  4.37490664e+01,  4.05915007e+01,  2.99898140e+01,\n",
       "        4.18257125e+01,  3.20635875e+00,  5.34481920e+01,  2.92855539e+01,\n",
       "        2.32510109e+01,  2.39058790e+01,  2.75586343e+00,  9.40042735e+00,\n",
       "        2.68849148e+01,  6.94864190e-02,  2.53644158e+01,  4.14746572e+01,\n",
       "        1.56669804e+01,  1.18218648e+01,  3.21124077e+01,  3.15316188e+01,\n",
       "        1.52406427e+01,  1.01140422e+01,  3.54810457e+01,  1.05734797e+01,\n",
       "        4.45200437e+00, -3.03816093e-01,  8.09115026e+00,  2.30628861e+00,\n",
       "        1.18303499e+00,  2.09252458e+01,  1.62220165e+01,  6.21508795e+00,\n",
       "        6.43884877e+01,  4.70862256e+01,  1.89079622e+01,  4.93242166e+01,\n",
       "        2.43813202e+01,  2.92956481e+01,  2.35506719e+01,  4.62259148e+01,\n",
       "        3.28434153e+01,  2.20555224e+01,  2.99464750e+01,  3.77244023e+00,\n",
       "        6.27664541e+01,  4.95534709e+01,  7.36010351e+00,  5.66383067e+01,\n",
       "        6.73656707e+00,  1.10887380e+01,  4.83693908e+01,  3.52354454e+01,\n",
       "        1.38841234e+01,  3.30417602e+01,  3.48313110e+01,  3.01921245e+01,\n",
       "        3.19289104e+01,  1.18817500e+01,  1.34227560e+01,  3.92651820e+01,\n",
       "        1.42675073e+01,  1.47574073e+01,  4.46258248e+01,  4.57294010e+00,\n",
       "        2.92629102e+01,  2.77091443e+01,  5.71860020e+01,  2.31019816e+01,\n",
       "        1.78615090e+01,  3.49104482e+01,  5.09588090e+01,  6.19682841e+01,\n",
       "        1.77961307e+01,  2.82281772e+01,  1.99339884e+01, -4.81647340e+00,\n",
       "        1.96799011e+01,  1.08739990e+01,  4.22958296e+01,  1.36370346e+01,\n",
       "        5.20076165e+00,  4.69937756e+01,  6.45940406e+00,  2.34396248e+00,\n",
       "        2.49152001e+01,  2.69576867e+01,  3.44106708e+01,  1.29434533e+01,\n",
       "        2.09398857e+01,  8.87365053e+00,  1.90750701e+01,  3.26868215e+01,\n",
       "        5.71405713e+01,  2.71022447e+01,  4.66860668e+01,  8.32389038e-01,\n",
       "        1.53998168e+01,  2.12108496e+01,  4.86020463e+01,  6.86655178e+00,\n",
       "        6.06156404e+00,  3.36566499e+01,  1.40946912e+01,  1.84051597e+01,\n",
       "        3.07155963e+01,  2.78763358e+01,  2.90356171e+01,  1.21472265e+01,\n",
       "        8.22286207e+00,  1.60693055e+01,  3.28847550e+01,  2.39606122e+01,\n",
       "        9.71366102e+00,  9.76246333e+00,  2.47445470e+01,  4.09189783e+01,\n",
       "        3.09796723e+01,  9.21312798e+00,  3.36690840e+01,  4.64174598e+01,\n",
       "       -8.89061363e+00, -6.47146755e+00,  1.96966325e+01,  2.57603322e+01,\n",
       "        2.61094449e+01,  2.46511721e+01,  4.58430468e+01,  3.95001790e+01,\n",
       "        2.90118022e-01, -1.94615593e-01,  2.98114018e+01,  4.20644044e+01,\n",
       "       -5.05027286e+00,  4.73546413e+01,  5.36029613e+01, -1.62272136e+01,\n",
       "        4.22534185e+01,  4.37443332e+01,  8.27336715e-01,  3.51302152e+01,\n",
       "        3.59641610e+00,  4.24579176e+01,  2.05807241e+01,  3.09773552e+01,\n",
       "        1.56403272e+01,  3.42754667e+01,  3.45700477e+01,  9.45952192e+00,\n",
       "       -1.82072370e+00,  4.11068282e+01,  5.48738268e-01,  2.73598209e+01,\n",
       "        4.31359407e+01, -8.98497116e+00,  4.40610856e+01, -9.63657140e+00,\n",
       "        7.63295968e+00,  4.61829360e+01,  3.41667929e+01,  5.47425118e+01,\n",
       "        5.02669323e+01,  5.57362935e+00,  4.30917708e+01,  1.70050598e+01,\n",
       "        1.70836948e+01,  2.99837973e+01,  1.05165644e+01,  1.90722212e+01,\n",
       "        2.85757716e+01,  3.35223842e+01,  2.06456119e+01,  2.47005708e+00,\n",
       "        1.33477756e+01,  2.96818163e+01,  6.37998323e+00,  2.04175206e+01,\n",
       "        3.57839416e+00,  2.17028371e+01,  2.79751939e+01,  2.67938592e+01,\n",
       "        5.31625871e+01,  5.43112968e+01, -2.70438658e+00,  3.75367483e+01,\n",
       "        4.64273001e+01, -1.28742507e+01,  1.62970046e+01,  7.56206496e+00,\n",
       "        8.40273267e+00,  1.76373964e+01,  5.66097827e+01,  4.68448101e+01,\n",
       "        3.20115118e+01,  4.12780805e+01,  1.43881814e+01,  2.04772344e+01,\n",
       "        4.59312090e+01,  4.27927489e+01,  8.77169456e+00,  6.44459784e+00,\n",
       "        1.76852678e+01,  4.16181787e+01,  2.49861056e+01,  3.44962970e+01,\n",
       "        1.55004503e+01, -7.59433698e-01,  2.93924058e+01,  1.13057905e+01,\n",
       "        3.92379356e+01,  2.54411570e+01,  4.34271018e+01,  3.41860320e+01,\n",
       "        1.54416773e+01,  2.76385371e+01,  4.84811373e+01,  5.25040100e+01,\n",
       "        2.30548628e+01,  4.83666753e+01,  4.45310577e+01,  1.23959192e+01,\n",
       "        2.00804262e+01,  4.17648642e+01,  3.48947743e+01,  2.37140517e+01])"
      ]
     },
     "execution_count": 28,
     "metadata": {},
     "output_type": "execute_result"
    }
   ],
   "source": [
    "pearson method#crating random numbers \n",
    "np.random.seed(11)\n",
    "#1000 random integers bettwen 0 and 50\n",
    "x = np.random.randint(0,50,1000)\n",
    "\n",
    "#positive correaltion with some noise\n",
    "y=x+ np.random.normal(0,10,1000)\n",
    "\n",
    "x\n",
    "y\n",
    "                     "
   ]
  },
  {
   "cell_type": "code",
   "execution_count": 29,
   "id": "6eaa38a0",
   "metadata": {},
   "outputs": [
    {
     "data": {
      "text/plain": [
       "array([[1.        , 0.81181753],\n",
       "       [0.81181753, 1.        ]])"
      ]
     },
     "execution_count": 29,
     "metadata": {},
     "output_type": "execute_result"
    }
   ],
   "source": [
    "np.corrcoef(x,y)"
   ]
  },
  {
   "cell_type": "code",
   "execution_count": 32,
   "id": "d1f94acd",
   "metadata": {},
   "outputs": [
    {
     "data": {
      "image/png": "[encoded data removed]",
      "text/plain": [
       "<Figure size 640x480 with 1 Axes>"
      ]
     },
     "metadata": {},
     "output_type": "display_data"
    }
   ],
   "source": [
    "#this corelation is 0.815, a strong positive corelation, lets take a look at a scatter chart\n",
    "import matplotlib\n",
    "import matplotlib.pyplot as plt\n",
    "\n",
    "plt.scatter(x,y)\n",
    "plt.show()"
   ]
  },
  {
   "cell_type": "code",
   "execution_count": 33,
   "id": "aa4985c2",
   "metadata": {},
   "outputs": [
    {
     "data": {
      "image/png": "[encoded data removed]",
      "text/plain": [
       "<Figure size 640x480 with 1 Axes>"
      ]
     },
     "metadata": {},
     "output_type": "display_data"
    }
   ],
   "source": [
    "#week corelation( as a reault con't find any relation between X and Y)\n",
    "x=np.random.randint(0,50,1000)\n",
    "y=np.random.randint(0,50,1000)\n",
    "\n",
    "plt.scatter(x,y)\n",
    "plt.show()"
   ]
  },
  {
   "cell_type": "code",
   "execution_count": 34,
   "id": "2f4a3d25",
   "metadata": {},
   "outputs": [
    {
     "data": {
      "text/plain": [
       "array([[ 1.        , -0.01828407],\n",
       "       [-0.01828407,  1.        ]])"
      ]
     },
     "execution_count": 34,
     "metadata": {},
     "output_type": "execute_result"
    }
   ],
   "source": [
    "np.corrcoef(x,y)"
   ]
  },
  {
   "cell_type": "markdown",
   "id": "8b819743",
   "metadata": {},
   "source": [
    "spearman corelation method"
   ]
  },
  {
   "cell_type": "code",
   "execution_count": 36,
   "id": "40a48378",
   "metadata": {},
   "outputs": [
    {
     "data": {
      "text/plain": [
       "SignificanceResult(statistic=0.39999999999999997, pvalue=0.6)"
      ]
     },
     "execution_count": 36,
     "metadata": {},
     "output_type": "execute_result"
    }
   ],
   "source": [
    "import pandas as pd\n",
    "import scipy.stats\n",
    "x=[1,5,4,7]\n",
    "y=[5,4,7,8]\n",
    "scipy.stats.spearmanr(x,y)"
   ]
  },
  {
   "cell_type": "code",
   "execution_count": 39,
   "id": "a47b4046",
   "metadata": {},
   "outputs": [
    {
     "name": "stdout",
     "output_type": "stream",
     "text": [
      "spearman corelation coefficient: 0.900\n",
      "P value: 0.000\n",
      "sample are corelation (reject H0) P=0.000\n"
     ]
    }
   ],
   "source": [
    "#calculation the spearman corelation netween 2 variab;es\n",
    "from numpy.random import rand\n",
    "from numpy.random import seed\n",
    "from scipy.stats import spearmanr\n",
    "#seed random number generator\n",
    "seed(1)\n",
    "data1=rand(1000)*20\n",
    "data2=data1+(rand(1000)*10)\n",
    "#calculaion spearman corelation\n",
    "coef, p =spearmanr(data1, data2)\n",
    "print(\"spearman corelation coefficient: %.3f\" % coef)\n",
    "print(\"P value: %.3f\" %p)\n",
    "#interprest the significance\n",
    "alpha = 0.05\n",
    "if p > alpha:\n",
    "    print(\"sample are uncorelated (fail to reject H0) P=%.3F\" %P)\n",
    "else:\n",
    "    print(\"sample are corelation (reject H0) P=%.3F\" %p)"
   ]
  },
  {
   "cell_type": "code",
   "execution_count": null,
   "id": "87f082f6",
   "metadata": {},
   "outputs": [],
   "source": []
  },
  {
   "cell_type": "code",
   "execution_count": null,
   "id": "52d98aa8",
   "metadata": {},
   "outputs": [],
   "source": []
  },
  {
   "cell_type": "code",
   "execution_count": null,
   "id": "591a1917",
   "metadata": {},
   "outputs": [],
   "source": []
  },
  {
   "cell_type": "code",
   "execution_count": null,
   "id": "82c993aa",
   "metadata": {},
   "outputs": [],
   "source": []
  }
 ],
 "metadata": {
  "kernelspec": {
   "display_name": "Python 3 (ipykernel)",
   "language": "python",
   "name": "python3"
  },
  "language_info": {
   "codemirror_mode": {
    "name": "ipython",
    "version": 3
   },
   "file_extension": ".py",
   "mimetype": "text/x-python",
   "name": "python",
   "nbconvert_exporter": "python",
   "pygments_lexer": "ipython3",
   "version": "3.11.5"
  }
 },
 "nbformat": 4,
 "nbformat_minor": 5
}
